{
  "nbformat": 4,
  "nbformat_minor": 0,
  "metadata": {
    "accelerator": "GPU",
    "colab": {
      "name": "Classifying drivers on Coupon.ipynb",
      "provenance": [],
      "collapsed_sections": []
    },
    "kernelspec": {
      "display_name": "Python 3",
      "name": "python3"
    },
    "language_info": {
      "name": "python"
    }
  },
  "cells": [
    {
      "cell_type": "markdown",
      "metadata": {
        "id": "8yTq4P3huAGs"
      },
      "source": [
        "**Abstract**: This data studies whether a person will accept the coupon recommended to him in different driving scenarios\n",
        "\n",
        "\n",
        "This data(UCI Machine learning repository) was collected via a survey on Amazon Mechanical Turk. The survey describes different driving scenarios including the destination, current time, weather, passenger, etc., and then ask the person whether he will accept the coupon if he is the driver\n",
        "\n",
        "**Attribute Information**\n",
        "\n",
        "1. destination: No Urgent Place, Home, Work\n",
        "2. passanger: Alone, Friend(s), Kid(s), Partner (who are the passengers in the car)\n",
        "3. weather: Sunny, Rainy, Snowy\n",
        "4. temperature:55, 80, 30\n",
        "5. time: 2PM, 10AM, 6PM, 7AM, 10PM\n",
        "6. coupon: Restaurant(<20), Coffee House, Carry out & Take away, Bar, Restaurant($20-$50)\n",
        "7. expiration: 1d, 2h (the coupon expires in 1 day or in 2 hours)\n",
        "8. gender: Female, Male\n",
        "9. age: 21, 46, 26, 31, 41, 50plus, 36, below21\n",
        "10. maritalStatus: Unmarried partner, Single, Married partner, Divorced, Widowed\n",
        "11. has_Children:1, 0\n",
        "12. education: Some college - no degree, Bachelors degree, Associates degree, High School Graduate, Graduate degree (Masters or Doctorate), Some High School\n",
        "14. occupation: Unemployed, Architecture & Engineering, Student,\n",
        "Education&Training&Library, Healthcare Support,\n",
        "Healthcare Practitioners & Technical, Sales & Related, Management,\n",
        "Arts Design Entertainment Sports & Media, Computer & Mathematical,\n",
        "Life Physical Social Science, Personal Care & Service,\n",
        "Community & Social Services, Office & Administrative Support,\n",
        "Construction & Extraction, Legal, Retired,\n",
        "Installation Maintenance & Repair, Transportation & Material Moving,\n",
        "Business & Financial, Protective Service,\n",
        "Food Preparation & Serving Related, Production Occupations,\n",
        "Building & Grounds Cleaning & Maintenance, Farming Fishing & Forestry\n",
        "15. income: $37500 - $49999, $62500 - $74999, $12500 - $24999, $75000 - $87499,\n",
        "$50000 - $62499, $25000 - $37499, $100000 or More, $87500 - $99999, Less than $12500\n",
        "16. Bar: never, less1, 1~3, gt8, nan4~8 (feature meaning: how many times do you go to a bar every month?)\n",
        "17. CoffeeHouse: never, less1, 4~8, 1~3, gt8, nan (feature meaning: how many times do you go to a coffeehouse every month?)\n",
        "18. CarryAway:n4~8, 1~3, gt8, less1, never (feature meaning: how many times do you get take-away food every month?)\n",
        "\n",
        "19. RestaurantLessThan20: 4~8, 1~3, less1, gt8, never (feature meaning: how many times do you go to a restaurant with an average expense per person of less than 20 every month?)\n",
        "20. Restaurant20To50: 1~3, less1, never, gt8, 4~8, nan (feature meaning: how many times do you go to a restaurant with average expense per person of 20 - 50 every month?)\n",
        "13. toCoupon_GEQ5min:0,1 (feature meaning: driving distance to the restaurant/bar for using the coupon is greater than 15 minutes)\n",
        "21. toCoupon_GEQ15min:0,1 (feature meaning: driving distance to the restaurant/bar for using the coupon is greater than 15 minutes)\n",
        "22. toCoupon_GEQ25min:0, 1 (feature meaning: driving distance to the restaurant/bar for using the coupon is greater than 25 minutes)\n",
        "23. direction_same:0, 1 (feature meaning: whether the restaurant/bar is in the same direction as your current destination)\n",
        "24. direction_opp:1, 0 (feature meaning: whether the restaurant/bar is in the same direction as your current destination)\n",
        "25. Y:1, 0 (whether the coupon is accepted)"
      ]
    },
    {
      "cell_type": "code",
      "metadata": {
        "id": "bzT5s2P69xtZ"
      },
      "source": [
        "import pandas as pd\n",
        "import numpy as np\n",
        "import matplotlib.pyplot as plot\n",
        "import seaborn as sns\n",
        "import os\n",
        "from warnings import filterwarnings\n",
        "filterwarnings(\"ignore\")"
      ],
      "execution_count": 98,
      "outputs": []
    },
    {
      "cell_type": "code",
      "metadata": {
        "colab": {
          "base_uri": "https://localhost:8080/"
        },
        "id": "K6OcmmRf-NQI",
        "outputId": "e79fde2a-d723-4439-eea1-4641e7f44fd1"
      },
      "source": [
        "from google.colab import drive\n",
        "drive.mount('/content/drive')\n",
        "os.chdir('/content/drive/My Drive/Vechicle coupon sales')"
      ],
      "execution_count": 99,
      "outputs": [
        {
          "output_type": "stream",
          "text": [
            "Drive already mounted at /content/drive; to attempt to forcibly remount, call drive.mount(\"/content/drive\", force_remount=True).\n"
          ],
          "name": "stdout"
        }
      ]
    },
    {
      "cell_type": "code",
      "metadata": {
        "colab": {
          "base_uri": "https://localhost:8080/",
          "height": 197
        },
        "id": "zE-KttPA-S7F",
        "outputId": "719a55fb-236d-4137-f482-a6941d012ca9"
      },
      "source": [
        "import io\n",
        "data=pd.read_csv(\"in-vehicle-coupon-recommendation.csv\",encoding=\"latin1\")\n",
        "data.head(2)"
      ],
      "execution_count": 5,
      "outputs": [
        {
          "output_type": "execute_result",
          "data": {
            "text/html": [
              "<div>\n",
              "<style scoped>\n",
              "    .dataframe tbody tr th:only-of-type {\n",
              "        vertical-align: middle;\n",
              "    }\n",
              "\n",
              "    .dataframe tbody tr th {\n",
              "        vertical-align: top;\n",
              "    }\n",
              "\n",
              "    .dataframe thead th {\n",
              "        text-align: right;\n",
              "    }\n",
              "</style>\n",
              "<table border=\"1\" class=\"dataframe\">\n",
              "  <thead>\n",
              "    <tr style=\"text-align: right;\">\n",
              "      <th></th>\n",
              "      <th>destination</th>\n",
              "      <th>passanger</th>\n",
              "      <th>weather</th>\n",
              "      <th>temperature</th>\n",
              "      <th>time</th>\n",
              "      <th>coupon</th>\n",
              "      <th>expiration</th>\n",
              "      <th>gender</th>\n",
              "      <th>age</th>\n",
              "      <th>maritalStatus</th>\n",
              "      <th>has_children</th>\n",
              "      <th>education</th>\n",
              "      <th>occupation</th>\n",
              "      <th>income</th>\n",
              "      <th>car</th>\n",
              "      <th>Bar</th>\n",
              "      <th>CoffeeHouse</th>\n",
              "      <th>CarryAway</th>\n",
              "      <th>RestaurantLessThan20</th>\n",
              "      <th>Restaurant20To50</th>\n",
              "      <th>toCoupon_GEQ5min</th>\n",
              "      <th>toCoupon_GEQ15min</th>\n",
              "      <th>toCoupon_GEQ25min</th>\n",
              "      <th>direction_same</th>\n",
              "      <th>direction_opp</th>\n",
              "      <th>Y</th>\n",
              "    </tr>\n",
              "  </thead>\n",
              "  <tbody>\n",
              "    <tr>\n",
              "      <th>0</th>\n",
              "      <td>No Urgent Place</td>\n",
              "      <td>Alone</td>\n",
              "      <td>Sunny</td>\n",
              "      <td>55</td>\n",
              "      <td>2PM</td>\n",
              "      <td>Restaurant(&lt;20)</td>\n",
              "      <td>1d</td>\n",
              "      <td>Female</td>\n",
              "      <td>21</td>\n",
              "      <td>Unmarried partner</td>\n",
              "      <td>1</td>\n",
              "      <td>Some college - no degree</td>\n",
              "      <td>Unemployed</td>\n",
              "      <td>$37500 - $49999</td>\n",
              "      <td>NaN</td>\n",
              "      <td>never</td>\n",
              "      <td>never</td>\n",
              "      <td>NaN</td>\n",
              "      <td>4~8</td>\n",
              "      <td>1~3</td>\n",
              "      <td>1</td>\n",
              "      <td>0</td>\n",
              "      <td>0</td>\n",
              "      <td>0</td>\n",
              "      <td>1</td>\n",
              "      <td>1</td>\n",
              "    </tr>\n",
              "    <tr>\n",
              "      <th>1</th>\n",
              "      <td>No Urgent Place</td>\n",
              "      <td>Friend(s)</td>\n",
              "      <td>Sunny</td>\n",
              "      <td>80</td>\n",
              "      <td>10AM</td>\n",
              "      <td>Coffee House</td>\n",
              "      <td>2h</td>\n",
              "      <td>Female</td>\n",
              "      <td>21</td>\n",
              "      <td>Unmarried partner</td>\n",
              "      <td>1</td>\n",
              "      <td>Some college - no degree</td>\n",
              "      <td>Unemployed</td>\n",
              "      <td>$37500 - $49999</td>\n",
              "      <td>NaN</td>\n",
              "      <td>never</td>\n",
              "      <td>never</td>\n",
              "      <td>NaN</td>\n",
              "      <td>4~8</td>\n",
              "      <td>1~3</td>\n",
              "      <td>1</td>\n",
              "      <td>0</td>\n",
              "      <td>0</td>\n",
              "      <td>0</td>\n",
              "      <td>1</td>\n",
              "      <td>0</td>\n",
              "    </tr>\n",
              "  </tbody>\n",
              "</table>\n",
              "</div>"
            ],
            "text/plain": [
              "       destination  passanger weather  ...  direction_same direction_opp  Y\n",
              "0  No Urgent Place      Alone   Sunny  ...               0             1  1\n",
              "1  No Urgent Place  Friend(s)   Sunny  ...               0             1  0\n",
              "\n",
              "[2 rows x 26 columns]"
            ]
          },
          "metadata": {
            "tags": []
          },
          "execution_count": 5
        }
      ]
    },
    {
      "cell_type": "code",
      "metadata": {
        "id": "0zHwXwkDozS6"
      },
      "source": [
        "data1=data"
      ],
      "execution_count": 6,
      "outputs": []
    },
    {
      "cell_type": "code",
      "metadata": {
        "colab": {
          "base_uri": "https://localhost:8080/"
        },
        "id": "Gj0lniHi-h_d",
        "outputId": "571754e5-c4e0-459f-bb5a-e9b5e36e03ff"
      },
      "source": [
        "data.shape"
      ],
      "execution_count": 7,
      "outputs": [
        {
          "output_type": "execute_result",
          "data": {
            "text/plain": [
              "(12684, 26)"
            ]
          },
          "metadata": {
            "tags": []
          },
          "execution_count": 7
        }
      ]
    },
    {
      "cell_type": "code",
      "metadata": {
        "colab": {
          "base_uri": "https://localhost:8080/",
          "height": 998
        },
        "id": "ctZnuS0x-oeN",
        "outputId": "a035c369-cc96-4320-989f-584b283d9782"
      },
      "source": [
        "dups = data.duplicated()\n",
        "print('Number of duplicate rows = %d' % (dups.sum()))\n",
        "\n",
        "data[dups]"
      ],
      "execution_count": 8,
      "outputs": [
        {
          "output_type": "stream",
          "text": [
            "Number of duplicate rows = 74\n"
          ],
          "name": "stdout"
        },
        {
          "output_type": "execute_result",
          "data": {
            "text/html": [
              "<div>\n",
              "<style scoped>\n",
              "    .dataframe tbody tr th:only-of-type {\n",
              "        vertical-align: middle;\n",
              "    }\n",
              "\n",
              "    .dataframe tbody tr th {\n",
              "        vertical-align: top;\n",
              "    }\n",
              "\n",
              "    .dataframe thead th {\n",
              "        text-align: right;\n",
              "    }\n",
              "</style>\n",
              "<table border=\"1\" class=\"dataframe\">\n",
              "  <thead>\n",
              "    <tr style=\"text-align: right;\">\n",
              "      <th></th>\n",
              "      <th>destination</th>\n",
              "      <th>passanger</th>\n",
              "      <th>weather</th>\n",
              "      <th>temperature</th>\n",
              "      <th>time</th>\n",
              "      <th>coupon</th>\n",
              "      <th>expiration</th>\n",
              "      <th>gender</th>\n",
              "      <th>age</th>\n",
              "      <th>maritalStatus</th>\n",
              "      <th>has_children</th>\n",
              "      <th>education</th>\n",
              "      <th>occupation</th>\n",
              "      <th>income</th>\n",
              "      <th>car</th>\n",
              "      <th>Bar</th>\n",
              "      <th>CoffeeHouse</th>\n",
              "      <th>CarryAway</th>\n",
              "      <th>RestaurantLessThan20</th>\n",
              "      <th>Restaurant20To50</th>\n",
              "      <th>toCoupon_GEQ5min</th>\n",
              "      <th>toCoupon_GEQ15min</th>\n",
              "      <th>toCoupon_GEQ25min</th>\n",
              "      <th>direction_same</th>\n",
              "      <th>direction_opp</th>\n",
              "      <th>Y</th>\n",
              "    </tr>\n",
              "  </thead>\n",
              "  <tbody>\n",
              "    <tr>\n",
              "      <th>4192</th>\n",
              "      <td>Work</td>\n",
              "      <td>Alone</td>\n",
              "      <td>Sunny</td>\n",
              "      <td>80</td>\n",
              "      <td>7AM</td>\n",
              "      <td>Carry out &amp; Take away</td>\n",
              "      <td>1d</td>\n",
              "      <td>Male</td>\n",
              "      <td>26</td>\n",
              "      <td>Single</td>\n",
              "      <td>0</td>\n",
              "      <td>Associates degree</td>\n",
              "      <td>Unemployed</td>\n",
              "      <td>Less than $12500</td>\n",
              "      <td>NaN</td>\n",
              "      <td>less1</td>\n",
              "      <td>never</td>\n",
              "      <td>1~3</td>\n",
              "      <td>less1</td>\n",
              "      <td>less1</td>\n",
              "      <td>1</td>\n",
              "      <td>1</td>\n",
              "      <td>1</td>\n",
              "      <td>0</td>\n",
              "      <td>1</td>\n",
              "      <td>1</td>\n",
              "    </tr>\n",
              "    <tr>\n",
              "      <th>4236</th>\n",
              "      <td>Work</td>\n",
              "      <td>Alone</td>\n",
              "      <td>Sunny</td>\n",
              "      <td>80</td>\n",
              "      <td>7AM</td>\n",
              "      <td>Carry out &amp; Take away</td>\n",
              "      <td>1d</td>\n",
              "      <td>Male</td>\n",
              "      <td>26</td>\n",
              "      <td>Single</td>\n",
              "      <td>0</td>\n",
              "      <td>Graduate degree (Masters or Doctorate)</td>\n",
              "      <td>Management</td>\n",
              "      <td>$25000 - $37499</td>\n",
              "      <td>NaN</td>\n",
              "      <td>4~8</td>\n",
              "      <td>gt8</td>\n",
              "      <td>gt8</td>\n",
              "      <td>4~8</td>\n",
              "      <td>less1</td>\n",
              "      <td>1</td>\n",
              "      <td>1</td>\n",
              "      <td>1</td>\n",
              "      <td>0</td>\n",
              "      <td>1</td>\n",
              "      <td>1</td>\n",
              "    </tr>\n",
              "    <tr>\n",
              "      <th>4280</th>\n",
              "      <td>Work</td>\n",
              "      <td>Alone</td>\n",
              "      <td>Sunny</td>\n",
              "      <td>80</td>\n",
              "      <td>7AM</td>\n",
              "      <td>Carry out &amp; Take away</td>\n",
              "      <td>1d</td>\n",
              "      <td>Female</td>\n",
              "      <td>26</td>\n",
              "      <td>Single</td>\n",
              "      <td>0</td>\n",
              "      <td>Bachelors degree</td>\n",
              "      <td>Education&amp;Training&amp;Library</td>\n",
              "      <td>$50000 - $62499</td>\n",
              "      <td>NaN</td>\n",
              "      <td>1~3</td>\n",
              "      <td>never</td>\n",
              "      <td>4~8</td>\n",
              "      <td>1~3</td>\n",
              "      <td>less1</td>\n",
              "      <td>1</td>\n",
              "      <td>1</td>\n",
              "      <td>1</td>\n",
              "      <td>0</td>\n",
              "      <td>1</td>\n",
              "      <td>1</td>\n",
              "    </tr>\n",
              "    <tr>\n",
              "      <th>4324</th>\n",
              "      <td>Work</td>\n",
              "      <td>Alone</td>\n",
              "      <td>Sunny</td>\n",
              "      <td>80</td>\n",
              "      <td>7AM</td>\n",
              "      <td>Carry out &amp; Take away</td>\n",
              "      <td>1d</td>\n",
              "      <td>Female</td>\n",
              "      <td>46</td>\n",
              "      <td>Single</td>\n",
              "      <td>0</td>\n",
              "      <td>Some college - no degree</td>\n",
              "      <td>Protective Service</td>\n",
              "      <td>$25000 - $37499</td>\n",
              "      <td>NaN</td>\n",
              "      <td>1~3</td>\n",
              "      <td>never</td>\n",
              "      <td>4~8</td>\n",
              "      <td>1~3</td>\n",
              "      <td>1~3</td>\n",
              "      <td>1</td>\n",
              "      <td>1</td>\n",
              "      <td>1</td>\n",
              "      <td>0</td>\n",
              "      <td>1</td>\n",
              "      <td>1</td>\n",
              "    </tr>\n",
              "    <tr>\n",
              "      <th>4409</th>\n",
              "      <td>Work</td>\n",
              "      <td>Alone</td>\n",
              "      <td>Sunny</td>\n",
              "      <td>80</td>\n",
              "      <td>7AM</td>\n",
              "      <td>Carry out &amp; Take away</td>\n",
              "      <td>1d</td>\n",
              "      <td>Female</td>\n",
              "      <td>21</td>\n",
              "      <td>Single</td>\n",
              "      <td>0</td>\n",
              "      <td>Bachelors degree</td>\n",
              "      <td>Life Physical Social Science</td>\n",
              "      <td>$37500 - $49999</td>\n",
              "      <td>NaN</td>\n",
              "      <td>less1</td>\n",
              "      <td>never</td>\n",
              "      <td>less1</td>\n",
              "      <td>1~3</td>\n",
              "      <td>never</td>\n",
              "      <td>1</td>\n",
              "      <td>1</td>\n",
              "      <td>1</td>\n",
              "      <td>0</td>\n",
              "      <td>1</td>\n",
              "      <td>0</td>\n",
              "    </tr>\n",
              "    <tr>\n",
              "      <th>...</th>\n",
              "      <td>...</td>\n",
              "      <td>...</td>\n",
              "      <td>...</td>\n",
              "      <td>...</td>\n",
              "      <td>...</td>\n",
              "      <td>...</td>\n",
              "      <td>...</td>\n",
              "      <td>...</td>\n",
              "      <td>...</td>\n",
              "      <td>...</td>\n",
              "      <td>...</td>\n",
              "      <td>...</td>\n",
              "      <td>...</td>\n",
              "      <td>...</td>\n",
              "      <td>...</td>\n",
              "      <td>...</td>\n",
              "      <td>...</td>\n",
              "      <td>...</td>\n",
              "      <td>...</td>\n",
              "      <td>...</td>\n",
              "      <td>...</td>\n",
              "      <td>...</td>\n",
              "      <td>...</td>\n",
              "      <td>...</td>\n",
              "      <td>...</td>\n",
              "      <td>...</td>\n",
              "    </tr>\n",
              "    <tr>\n",
              "      <th>8511</th>\n",
              "      <td>Home</td>\n",
              "      <td>Alone</td>\n",
              "      <td>Sunny</td>\n",
              "      <td>80</td>\n",
              "      <td>6PM</td>\n",
              "      <td>Bar</td>\n",
              "      <td>2h</td>\n",
              "      <td>Male</td>\n",
              "      <td>46</td>\n",
              "      <td>Married partner</td>\n",
              "      <td>1</td>\n",
              "      <td>Graduate degree (Masters or Doctorate)</td>\n",
              "      <td>Management</td>\n",
              "      <td>$87500 - $99999</td>\n",
              "      <td>NaN</td>\n",
              "      <td>less1</td>\n",
              "      <td>1~3</td>\n",
              "      <td>1~3</td>\n",
              "      <td>less1</td>\n",
              "      <td>1~3</td>\n",
              "      <td>1</td>\n",
              "      <td>0</td>\n",
              "      <td>0</td>\n",
              "      <td>1</td>\n",
              "      <td>0</td>\n",
              "      <td>1</td>\n",
              "    </tr>\n",
              "    <tr>\n",
              "      <th>8512</th>\n",
              "      <td>Home</td>\n",
              "      <td>Partner</td>\n",
              "      <td>Sunny</td>\n",
              "      <td>30</td>\n",
              "      <td>10PM</td>\n",
              "      <td>Carry out &amp; Take away</td>\n",
              "      <td>2h</td>\n",
              "      <td>Male</td>\n",
              "      <td>46</td>\n",
              "      <td>Married partner</td>\n",
              "      <td>1</td>\n",
              "      <td>Graduate degree (Masters or Doctorate)</td>\n",
              "      <td>Management</td>\n",
              "      <td>$87500 - $99999</td>\n",
              "      <td>NaN</td>\n",
              "      <td>less1</td>\n",
              "      <td>1~3</td>\n",
              "      <td>1~3</td>\n",
              "      <td>less1</td>\n",
              "      <td>1~3</td>\n",
              "      <td>1</td>\n",
              "      <td>1</td>\n",
              "      <td>0</td>\n",
              "      <td>0</td>\n",
              "      <td>1</td>\n",
              "      <td>1</td>\n",
              "    </tr>\n",
              "    <tr>\n",
              "      <th>8513</th>\n",
              "      <td>Work</td>\n",
              "      <td>Alone</td>\n",
              "      <td>Rainy</td>\n",
              "      <td>55</td>\n",
              "      <td>7AM</td>\n",
              "      <td>Restaurant(&lt;20)</td>\n",
              "      <td>2h</td>\n",
              "      <td>Male</td>\n",
              "      <td>46</td>\n",
              "      <td>Married partner</td>\n",
              "      <td>1</td>\n",
              "      <td>Graduate degree (Masters or Doctorate)</td>\n",
              "      <td>Management</td>\n",
              "      <td>$87500 - $99999</td>\n",
              "      <td>NaN</td>\n",
              "      <td>less1</td>\n",
              "      <td>1~3</td>\n",
              "      <td>1~3</td>\n",
              "      <td>less1</td>\n",
              "      <td>1~3</td>\n",
              "      <td>1</td>\n",
              "      <td>1</td>\n",
              "      <td>1</td>\n",
              "      <td>0</td>\n",
              "      <td>1</td>\n",
              "      <td>0</td>\n",
              "    </tr>\n",
              "    <tr>\n",
              "      <th>8515</th>\n",
              "      <td>Work</td>\n",
              "      <td>Alone</td>\n",
              "      <td>Snowy</td>\n",
              "      <td>30</td>\n",
              "      <td>7AM</td>\n",
              "      <td>Restaurant(20-50)</td>\n",
              "      <td>1d</td>\n",
              "      <td>Male</td>\n",
              "      <td>46</td>\n",
              "      <td>Married partner</td>\n",
              "      <td>1</td>\n",
              "      <td>Graduate degree (Masters or Doctorate)</td>\n",
              "      <td>Management</td>\n",
              "      <td>$87500 - $99999</td>\n",
              "      <td>NaN</td>\n",
              "      <td>less1</td>\n",
              "      <td>1~3</td>\n",
              "      <td>1~3</td>\n",
              "      <td>less1</td>\n",
              "      <td>1~3</td>\n",
              "      <td>1</td>\n",
              "      <td>1</td>\n",
              "      <td>1</td>\n",
              "      <td>0</td>\n",
              "      <td>1</td>\n",
              "      <td>0</td>\n",
              "    </tr>\n",
              "    <tr>\n",
              "      <th>8516</th>\n",
              "      <td>Work</td>\n",
              "      <td>Alone</td>\n",
              "      <td>Sunny</td>\n",
              "      <td>80</td>\n",
              "      <td>7AM</td>\n",
              "      <td>Restaurant(&lt;20)</td>\n",
              "      <td>1d</td>\n",
              "      <td>Male</td>\n",
              "      <td>46</td>\n",
              "      <td>Married partner</td>\n",
              "      <td>1</td>\n",
              "      <td>Graduate degree (Masters or Doctorate)</td>\n",
              "      <td>Management</td>\n",
              "      <td>$87500 - $99999</td>\n",
              "      <td>NaN</td>\n",
              "      <td>less1</td>\n",
              "      <td>1~3</td>\n",
              "      <td>1~3</td>\n",
              "      <td>less1</td>\n",
              "      <td>1~3</td>\n",
              "      <td>1</td>\n",
              "      <td>0</td>\n",
              "      <td>0</td>\n",
              "      <td>1</td>\n",
              "      <td>0</td>\n",
              "      <td>1</td>\n",
              "    </tr>\n",
              "  </tbody>\n",
              "</table>\n",
              "<p>74 rows × 26 columns</p>\n",
              "</div>"
            ],
            "text/plain": [
              "     destination passanger weather  ...  direction_same direction_opp  Y\n",
              "4192        Work     Alone   Sunny  ...               0             1  1\n",
              "4236        Work     Alone   Sunny  ...               0             1  1\n",
              "4280        Work     Alone   Sunny  ...               0             1  1\n",
              "4324        Work     Alone   Sunny  ...               0             1  1\n",
              "4409        Work     Alone   Sunny  ...               0             1  0\n",
              "...          ...       ...     ...  ...             ...           ... ..\n",
              "8511        Home     Alone   Sunny  ...               1             0  1\n",
              "8512        Home   Partner   Sunny  ...               0             1  1\n",
              "8513        Work     Alone   Rainy  ...               0             1  0\n",
              "8515        Work     Alone   Snowy  ...               0             1  0\n",
              "8516        Work     Alone   Sunny  ...               1             0  1\n",
              "\n",
              "[74 rows x 26 columns]"
            ]
          },
          "metadata": {
            "tags": []
          },
          "execution_count": 8
        }
      ]
    },
    {
      "cell_type": "code",
      "metadata": {
        "id": "ib0JZDgD-qLf"
      },
      "source": [
        "data.drop_duplicates(keep='first',inplace=True)"
      ],
      "execution_count": 9,
      "outputs": []
    },
    {
      "cell_type": "code",
      "metadata": {
        "colab": {
          "base_uri": "https://localhost:8080/"
        },
        "id": "jHdMyQdl-t-0",
        "outputId": "3838551f-8189-4fdd-d0c4-8c217a7ee532"
      },
      "source": [
        "data.shape"
      ],
      "execution_count": 10,
      "outputs": [
        {
          "output_type": "execute_result",
          "data": {
            "text/plain": [
              "(12610, 26)"
            ]
          },
          "metadata": {
            "tags": []
          },
          "execution_count": 10
        }
      ]
    },
    {
      "cell_type": "code",
      "metadata": {
        "colab": {
          "base_uri": "https://localhost:8080/"
        },
        "id": "ybcQGRgR-wHs",
        "outputId": "58d567b2-57c5-4201-943a-ef0a8f88e1d8"
      },
      "source": [
        "data.isnull().sum()"
      ],
      "execution_count": 11,
      "outputs": [
        {
          "output_type": "execute_result",
          "data": {
            "text/plain": [
              "destination                 0\n",
              "passanger                   0\n",
              "weather                     0\n",
              "temperature                 0\n",
              "time                        0\n",
              "coupon                      0\n",
              "expiration                  0\n",
              "gender                      0\n",
              "age                         0\n",
              "maritalStatus               0\n",
              "has_children                0\n",
              "education                   0\n",
              "occupation                  0\n",
              "income                      0\n",
              "car                     12502\n",
              "Bar                       107\n",
              "CoffeeHouse               217\n",
              "CarryAway                 150\n",
              "RestaurantLessThan20      129\n",
              "Restaurant20To50          189\n",
              "toCoupon_GEQ5min            0\n",
              "toCoupon_GEQ15min           0\n",
              "toCoupon_GEQ25min           0\n",
              "direction_same              0\n",
              "direction_opp               0\n",
              "Y                           0\n",
              "dtype: int64"
            ]
          },
          "metadata": {
            "tags": []
          },
          "execution_count": 11
        }
      ]
    },
    {
      "cell_type": "code",
      "metadata": {
        "colab": {
          "base_uri": "https://localhost:8080/",
          "height": 828
        },
        "id": "dU58aPSi-xzg",
        "outputId": "47812b01-5bce-4e53-8d3a-8a7b2b6cb406"
      },
      "source": [
        "percent_missing = data.isnull().sum() * 100 / len(data)\n",
        "missing_value_data = pd.DataFrame({'column_name': data.columns,\n",
        "                                 'percent_missing': percent_missing})\n",
        "missing_value_data"
      ],
      "execution_count": 12,
      "outputs": [
        {
          "output_type": "execute_result",
          "data": {
            "text/html": [
              "<div>\n",
              "<style scoped>\n",
              "    .dataframe tbody tr th:only-of-type {\n",
              "        vertical-align: middle;\n",
              "    }\n",
              "\n",
              "    .dataframe tbody tr th {\n",
              "        vertical-align: top;\n",
              "    }\n",
              "\n",
              "    .dataframe thead th {\n",
              "        text-align: right;\n",
              "    }\n",
              "</style>\n",
              "<table border=\"1\" class=\"dataframe\">\n",
              "  <thead>\n",
              "    <tr style=\"text-align: right;\">\n",
              "      <th></th>\n",
              "      <th>column_name</th>\n",
              "      <th>percent_missing</th>\n",
              "    </tr>\n",
              "  </thead>\n",
              "  <tbody>\n",
              "    <tr>\n",
              "      <th>destination</th>\n",
              "      <td>destination</td>\n",
              "      <td>0.000000</td>\n",
              "    </tr>\n",
              "    <tr>\n",
              "      <th>passanger</th>\n",
              "      <td>passanger</td>\n",
              "      <td>0.000000</td>\n",
              "    </tr>\n",
              "    <tr>\n",
              "      <th>weather</th>\n",
              "      <td>weather</td>\n",
              "      <td>0.000000</td>\n",
              "    </tr>\n",
              "    <tr>\n",
              "      <th>temperature</th>\n",
              "      <td>temperature</td>\n",
              "      <td>0.000000</td>\n",
              "    </tr>\n",
              "    <tr>\n",
              "      <th>time</th>\n",
              "      <td>time</td>\n",
              "      <td>0.000000</td>\n",
              "    </tr>\n",
              "    <tr>\n",
              "      <th>coupon</th>\n",
              "      <td>coupon</td>\n",
              "      <td>0.000000</td>\n",
              "    </tr>\n",
              "    <tr>\n",
              "      <th>expiration</th>\n",
              "      <td>expiration</td>\n",
              "      <td>0.000000</td>\n",
              "    </tr>\n",
              "    <tr>\n",
              "      <th>gender</th>\n",
              "      <td>gender</td>\n",
              "      <td>0.000000</td>\n",
              "    </tr>\n",
              "    <tr>\n",
              "      <th>age</th>\n",
              "      <td>age</td>\n",
              "      <td>0.000000</td>\n",
              "    </tr>\n",
              "    <tr>\n",
              "      <th>maritalStatus</th>\n",
              "      <td>maritalStatus</td>\n",
              "      <td>0.000000</td>\n",
              "    </tr>\n",
              "    <tr>\n",
              "      <th>has_children</th>\n",
              "      <td>has_children</td>\n",
              "      <td>0.000000</td>\n",
              "    </tr>\n",
              "    <tr>\n",
              "      <th>education</th>\n",
              "      <td>education</td>\n",
              "      <td>0.000000</td>\n",
              "    </tr>\n",
              "    <tr>\n",
              "      <th>occupation</th>\n",
              "      <td>occupation</td>\n",
              "      <td>0.000000</td>\n",
              "    </tr>\n",
              "    <tr>\n",
              "      <th>income</th>\n",
              "      <td>income</td>\n",
              "      <td>0.000000</td>\n",
              "    </tr>\n",
              "    <tr>\n",
              "      <th>car</th>\n",
              "      <td>car</td>\n",
              "      <td>99.143537</td>\n",
              "    </tr>\n",
              "    <tr>\n",
              "      <th>Bar</th>\n",
              "      <td>Bar</td>\n",
              "      <td>0.848533</td>\n",
              "    </tr>\n",
              "    <tr>\n",
              "      <th>CoffeeHouse</th>\n",
              "      <td>CoffeeHouse</td>\n",
              "      <td>1.720856</td>\n",
              "    </tr>\n",
              "    <tr>\n",
              "      <th>CarryAway</th>\n",
              "      <td>CarryAway</td>\n",
              "      <td>1.189532</td>\n",
              "    </tr>\n",
              "    <tr>\n",
              "      <th>RestaurantLessThan20</th>\n",
              "      <td>RestaurantLessThan20</td>\n",
              "      <td>1.022998</td>\n",
              "    </tr>\n",
              "    <tr>\n",
              "      <th>Restaurant20To50</th>\n",
              "      <td>Restaurant20To50</td>\n",
              "      <td>1.498810</td>\n",
              "    </tr>\n",
              "    <tr>\n",
              "      <th>toCoupon_GEQ5min</th>\n",
              "      <td>toCoupon_GEQ5min</td>\n",
              "      <td>0.000000</td>\n",
              "    </tr>\n",
              "    <tr>\n",
              "      <th>toCoupon_GEQ15min</th>\n",
              "      <td>toCoupon_GEQ15min</td>\n",
              "      <td>0.000000</td>\n",
              "    </tr>\n",
              "    <tr>\n",
              "      <th>toCoupon_GEQ25min</th>\n",
              "      <td>toCoupon_GEQ25min</td>\n",
              "      <td>0.000000</td>\n",
              "    </tr>\n",
              "    <tr>\n",
              "      <th>direction_same</th>\n",
              "      <td>direction_same</td>\n",
              "      <td>0.000000</td>\n",
              "    </tr>\n",
              "    <tr>\n",
              "      <th>direction_opp</th>\n",
              "      <td>direction_opp</td>\n",
              "      <td>0.000000</td>\n",
              "    </tr>\n",
              "    <tr>\n",
              "      <th>Y</th>\n",
              "      <td>Y</td>\n",
              "      <td>0.000000</td>\n",
              "    </tr>\n",
              "  </tbody>\n",
              "</table>\n",
              "</div>"
            ],
            "text/plain": [
              "                               column_name  percent_missing\n",
              "destination                    destination         0.000000\n",
              "passanger                        passanger         0.000000\n",
              "weather                            weather         0.000000\n",
              "temperature                    temperature         0.000000\n",
              "time                                  time         0.000000\n",
              "coupon                              coupon         0.000000\n",
              "expiration                      expiration         0.000000\n",
              "gender                              gender         0.000000\n",
              "age                                    age         0.000000\n",
              "maritalStatus                maritalStatus         0.000000\n",
              "has_children                  has_children         0.000000\n",
              "education                        education         0.000000\n",
              "occupation                      occupation         0.000000\n",
              "income                              income         0.000000\n",
              "car                                    car        99.143537\n",
              "Bar                                    Bar         0.848533\n",
              "CoffeeHouse                    CoffeeHouse         1.720856\n",
              "CarryAway                        CarryAway         1.189532\n",
              "RestaurantLessThan20  RestaurantLessThan20         1.022998\n",
              "Restaurant20To50          Restaurant20To50         1.498810\n",
              "toCoupon_GEQ5min          toCoupon_GEQ5min         0.000000\n",
              "toCoupon_GEQ15min        toCoupon_GEQ15min         0.000000\n",
              "toCoupon_GEQ25min        toCoupon_GEQ25min         0.000000\n",
              "direction_same              direction_same         0.000000\n",
              "direction_opp                direction_opp         0.000000\n",
              "Y                                        Y         0.000000"
            ]
          },
          "metadata": {
            "tags": []
          },
          "execution_count": 12
        }
      ]
    },
    {
      "cell_type": "code",
      "metadata": {
        "id": "UTsRL5ax-3Ti"
      },
      "source": [
        "# as the column'car' has the missing value 99% we are dropping the column from the data\n",
        "data.drop(['car'],axis=1,inplace=True)"
      ],
      "execution_count": 13,
      "outputs": []
    },
    {
      "cell_type": "code",
      "metadata": {
        "colab": {
          "base_uri": "https://localhost:8080/"
        },
        "id": "FXpTx6yC_EWf",
        "outputId": "97b712a6-2883-4eca-f1a8-aef71c7333c5"
      },
      "source": [
        "print(data['Restaurant20To50'].value_counts())\n",
        "print(data['CarryAway'].value_counts())\n",
        "print(data['CoffeeHouse'].value_counts())\n",
        "print(data['Bar'].value_counts())\n",
        "print(data['RestaurantLessThan20'].value_counts()) "
      ],
      "execution_count": 14,
      "outputs": [
        {
          "output_type": "stream",
          "text": [
            "less1    6041\n",
            "1~3      3266\n",
            "never    2122\n",
            "4~8       728\n",
            "gt8       264\n",
            "Name: Restaurant20To50, dtype: int64\n",
            "1~3      4645\n",
            "4~8      4242\n",
            "less1    1849\n",
            "gt8      1572\n",
            "never     152\n",
            "Name: CarryAway, dtype: int64\n",
            "less1    3362\n",
            "1~3      3199\n",
            "never    2946\n",
            "4~8      1779\n",
            "gt8      1107\n",
            "Name: CoffeeHouse, dtype: int64\n",
            "never    5178\n",
            "less1    3438\n",
            "1~3      2468\n",
            "4~8      1071\n",
            "gt8       348\n",
            "Name: Bar, dtype: int64\n",
            "1~3      5356\n",
            "4~8      3553\n",
            "less1    2071\n",
            "gt8      1282\n",
            "never     219\n",
            "Name: RestaurantLessThan20, dtype: int64\n"
          ],
          "name": "stdout"
        }
      ]
    },
    {
      "cell_type": "code",
      "metadata": {
        "id": "UgsTbR0D_GcE"
      },
      "source": [
        "data['Restaurant20To50'].fillna('1~3',inplace=True)\n",
        "data['RestaurantLessThan20'].fillna('less1',inplace=True)\n",
        "data['Bar'].fillna('never',inplace=True)\n",
        "data['CoffeeHouse'].fillna('less1',inplace=True)\n",
        "data['CarryAway'].fillna('1~3',inplace=True)"
      ],
      "execution_count": 15,
      "outputs": []
    },
    {
      "cell_type": "code",
      "metadata": {
        "colab": {
          "base_uri": "https://localhost:8080/"
        },
        "id": "dG7hDXCc_J-2",
        "outputId": "68d9fe29-bbb9-4676-8a7a-5b84b9465ba4"
      },
      "source": [
        "data.isnull().sum()"
      ],
      "execution_count": 16,
      "outputs": [
        {
          "output_type": "execute_result",
          "data": {
            "text/plain": [
              "destination             0\n",
              "passanger               0\n",
              "weather                 0\n",
              "temperature             0\n",
              "time                    0\n",
              "coupon                  0\n",
              "expiration              0\n",
              "gender                  0\n",
              "age                     0\n",
              "maritalStatus           0\n",
              "has_children            0\n",
              "education               0\n",
              "occupation              0\n",
              "income                  0\n",
              "Bar                     0\n",
              "CoffeeHouse             0\n",
              "CarryAway               0\n",
              "RestaurantLessThan20    0\n",
              "Restaurant20To50        0\n",
              "toCoupon_GEQ5min        0\n",
              "toCoupon_GEQ15min       0\n",
              "toCoupon_GEQ25min       0\n",
              "direction_same          0\n",
              "direction_opp           0\n",
              "Y                       0\n",
              "dtype: int64"
            ]
          },
          "metadata": {
            "tags": []
          },
          "execution_count": 16
        }
      ]
    },
    {
      "cell_type": "markdown",
      "metadata": {
        "id": "mQQ7bBT5_Rbt"
      },
      "source": [
        "### As we are having small dataset imputing the missing value is very important otherwise we will losse the  information\n",
        "\n",
        "1. Here i am imputed the missing value with highest frequency class n each column\n",
        "2. other ways  of imputing missing values can be\n",
        "   a. KNN\n",
        "   b. Clustering "
      ]
    },
    {
      "cell_type": "markdown",
      "metadata": {
        "id": "7Wt6URz4_Urg"
      },
      "source": [
        "#### Test of proportions - Chi square test"
      ]
    },
    {
      "cell_type": "code",
      "metadata": {
        "colab": {
          "base_uri": "https://localhost:8080/"
        },
        "id": "M-rC2cRN_Mv2",
        "outputId": "a589e696-0528-4391-d892-103e0d842b01"
      },
      "source": [
        "data2=data.drop(['Y'],axis=1)\n",
        "data2.shape"
      ],
      "execution_count": 17,
      "outputs": [
        {
          "output_type": "execute_result",
          "data": {
            "text/plain": [
              "(12610, 24)"
            ]
          },
          "metadata": {
            "tags": []
          },
          "execution_count": 17
        }
      ]
    },
    {
      "cell_type": "code",
      "metadata": {
        "colab": {
          "base_uri": "https://localhost:8080/",
          "height": 768
        },
        "id": "uNklOp4a_Xr6",
        "outputId": "62dab5a6-a2c8-4862-8426-c19bea7cad83"
      },
      "source": [
        "from scipy.stats import chisquare\n",
        "destination=chisquare(data2['destination'].value_counts())\n",
        "direction_opp =chisquare(data2['direction_opp'].value_counts())\n",
        "direction_same =chisquare(data2['direction_same'].value_counts())\n",
        "toCoupon_GEQ25min=chisquare(data2['toCoupon_GEQ25min'].value_counts())\n",
        "toCoupon_GEQ15min =chisquare(data2['toCoupon_GEQ15min'].value_counts())\n",
        "toCoupon_GEQ5min =chisquare(data2['toCoupon_GEQ5min'].value_counts())\n",
        "Restaurant20To50 =chisquare(data2['Restaurant20To50'].value_counts())\n",
        "RestaurantLessThan20 =chisquare(data2['RestaurantLessThan20'].value_counts())\n",
        "CarryAway =chisquare(data2['CarryAway'].value_counts())\n",
        "CoffeeHouse =chisquare(data2['CoffeeHouse'].value_counts())\n",
        "Bar =chisquare(data2['Bar'].value_counts())\n",
        "income  =chisquare(data2['income'].value_counts())\n",
        "occupation  =chisquare(data2['occupation'].value_counts())\n",
        "education  =chisquare(data2['education'].value_counts())\n",
        "has_children=chisquare(data2['has_children'].value_counts())\n",
        "maritalStatus =chisquare(data2['maritalStatus'].value_counts())\n",
        "age =chisquare(data2['age'].value_counts())\n",
        "gender =chisquare(data2['gender'].value_counts())\n",
        "expiration=chisquare(data2['expiration'].value_counts())\n",
        "coupon=chisquare(data2['coupon'].value_counts())\n",
        "time=chisquare(data2['time'].value_counts())\n",
        "temperature =chisquare(data2['temperature'].value_counts())\n",
        "weather =chisquare(data2['weather'].value_counts())\n",
        "passanger =chisquare(data2['passanger'].value_counts())\n",
        "destination=chisquare(data2['destination'].value_counts())\n",
        "\n",
        "p_value=(destination[1],passanger[1],weather[1],temperature[1],time[1],coupon[1],expiration[1],gender[1],age[1],maritalStatus[1],has_children[1],education[1],occupation[1],income[1],Bar[1],CoffeeHouse[1],CarryAway[1],RestaurantLessThan20[1],Restaurant20To50[1],toCoupon_GEQ5min[1],toCoupon_GEQ15min[1],toCoupon_GEQ25min[1],direction_same[1],direction_opp[1])\n",
        "\n",
        "test_of_proportions = pd.DataFrame({'column_name': data2.columns,'p-value': p_value})\n",
        "\n",
        "test_of_proportions"
      ],
      "execution_count": 18,
      "outputs": [
        {
          "output_type": "execute_result",
          "data": {
            "text/html": [
              "<div>\n",
              "<style scoped>\n",
              "    .dataframe tbody tr th:only-of-type {\n",
              "        vertical-align: middle;\n",
              "    }\n",
              "\n",
              "    .dataframe tbody tr th {\n",
              "        vertical-align: top;\n",
              "    }\n",
              "\n",
              "    .dataframe thead th {\n",
              "        text-align: right;\n",
              "    }\n",
              "</style>\n",
              "<table border=\"1\" class=\"dataframe\">\n",
              "  <thead>\n",
              "    <tr style=\"text-align: right;\">\n",
              "      <th></th>\n",
              "      <th>column_name</th>\n",
              "      <th>p-value</th>\n",
              "    </tr>\n",
              "  </thead>\n",
              "  <tbody>\n",
              "    <tr>\n",
              "      <th>0</th>\n",
              "      <td>destination</td>\n",
              "      <td>0.000000e+00</td>\n",
              "    </tr>\n",
              "    <tr>\n",
              "      <th>1</th>\n",
              "      <td>passanger</td>\n",
              "      <td>0.000000e+00</td>\n",
              "    </tr>\n",
              "    <tr>\n",
              "      <th>2</th>\n",
              "      <td>weather</td>\n",
              "      <td>0.000000e+00</td>\n",
              "    </tr>\n",
              "    <tr>\n",
              "      <th>3</th>\n",
              "      <td>temperature</td>\n",
              "      <td>0.000000e+00</td>\n",
              "    </tr>\n",
              "    <tr>\n",
              "      <th>4</th>\n",
              "      <td>time</td>\n",
              "      <td>2.706551e-122</td>\n",
              "    </tr>\n",
              "    <tr>\n",
              "      <th>5</th>\n",
              "      <td>coupon</td>\n",
              "      <td>3.257865e-306</td>\n",
              "    </tr>\n",
              "    <tr>\n",
              "      <th>6</th>\n",
              "      <td>expiration</td>\n",
              "      <td>3.035763e-38</td>\n",
              "    </tr>\n",
              "    <tr>\n",
              "      <th>7</th>\n",
              "      <td>gender</td>\n",
              "      <td>3.490248e-03</td>\n",
              "    </tr>\n",
              "    <tr>\n",
              "      <th>8</th>\n",
              "      <td>age</td>\n",
              "      <td>0.000000e+00</td>\n",
              "    </tr>\n",
              "    <tr>\n",
              "      <th>9</th>\n",
              "      <td>maritalStatus</td>\n",
              "      <td>0.000000e+00</td>\n",
              "    </tr>\n",
              "    <tr>\n",
              "      <th>10</th>\n",
              "      <td>has_children</td>\n",
              "      <td>3.732602e-82</td>\n",
              "    </tr>\n",
              "    <tr>\n",
              "      <th>11</th>\n",
              "      <td>education</td>\n",
              "      <td>0.000000e+00</td>\n",
              "    </tr>\n",
              "    <tr>\n",
              "      <th>12</th>\n",
              "      <td>occupation</td>\n",
              "      <td>0.000000e+00</td>\n",
              "    </tr>\n",
              "    <tr>\n",
              "      <th>13</th>\n",
              "      <td>income</td>\n",
              "      <td>1.539852e-284</td>\n",
              "    </tr>\n",
              "    <tr>\n",
              "      <th>14</th>\n",
              "      <td>Bar</td>\n",
              "      <td>0.000000e+00</td>\n",
              "    </tr>\n",
              "    <tr>\n",
              "      <th>15</th>\n",
              "      <td>CoffeeHouse</td>\n",
              "      <td>0.000000e+00</td>\n",
              "    </tr>\n",
              "    <tr>\n",
              "      <th>16</th>\n",
              "      <td>CarryAway</td>\n",
              "      <td>0.000000e+00</td>\n",
              "    </tr>\n",
              "    <tr>\n",
              "      <th>17</th>\n",
              "      <td>RestaurantLessThan20</td>\n",
              "      <td>0.000000e+00</td>\n",
              "    </tr>\n",
              "    <tr>\n",
              "      <th>18</th>\n",
              "      <td>Restaurant20To50</td>\n",
              "      <td>0.000000e+00</td>\n",
              "    </tr>\n",
              "    <tr>\n",
              "      <th>19</th>\n",
              "      <td>toCoupon_GEQ5min</td>\n",
              "      <td>NaN</td>\n",
              "    </tr>\n",
              "    <tr>\n",
              "      <th>20</th>\n",
              "      <td>toCoupon_GEQ15min</td>\n",
              "      <td>4.088745e-41</td>\n",
              "    </tr>\n",
              "    <tr>\n",
              "      <th>21</th>\n",
              "      <td>toCoupon_GEQ25min</td>\n",
              "      <td>0.000000e+00</td>\n",
              "    </tr>\n",
              "    <tr>\n",
              "      <th>22</th>\n",
              "      <td>direction_same</td>\n",
              "      <td>0.000000e+00</td>\n",
              "    </tr>\n",
              "    <tr>\n",
              "      <th>23</th>\n",
              "      <td>direction_opp</td>\n",
              "      <td>0.000000e+00</td>\n",
              "    </tr>\n",
              "  </tbody>\n",
              "</table>\n",
              "</div>"
            ],
            "text/plain": [
              "             column_name        p-value\n",
              "0            destination   0.000000e+00\n",
              "1              passanger   0.000000e+00\n",
              "2                weather   0.000000e+00\n",
              "3            temperature   0.000000e+00\n",
              "4                   time  2.706551e-122\n",
              "5                 coupon  3.257865e-306\n",
              "6             expiration   3.035763e-38\n",
              "7                 gender   3.490248e-03\n",
              "8                    age   0.000000e+00\n",
              "9          maritalStatus   0.000000e+00\n",
              "10          has_children   3.732602e-82\n",
              "11             education   0.000000e+00\n",
              "12            occupation   0.000000e+00\n",
              "13                income  1.539852e-284\n",
              "14                   Bar   0.000000e+00\n",
              "15           CoffeeHouse   0.000000e+00\n",
              "16             CarryAway   0.000000e+00\n",
              "17  RestaurantLessThan20   0.000000e+00\n",
              "18      Restaurant20To50   0.000000e+00\n",
              "19      toCoupon_GEQ5min            NaN\n",
              "20     toCoupon_GEQ15min   4.088745e-41\n",
              "21     toCoupon_GEQ25min   0.000000e+00\n",
              "22        direction_same   0.000000e+00\n",
              "23         direction_opp   0.000000e+00"
            ]
          },
          "metadata": {
            "tags": []
          },
          "execution_count": 18
        }
      ]
    },
    {
      "cell_type": "markdown",
      "metadata": {
        "id": "tI0yEtbo_f48"
      },
      "source": [
        "##### From the above result we can find that there is no equal proportions in the categorical variable"
      ]
    },
    {
      "cell_type": "markdown",
      "metadata": {
        "id": "aNvBxbaF_ije"
      },
      "source": [
        "### so in this  dataset we have all categorical variable only, so the feature engineering plays a major role in this dataset"
      ]
    },
    {
      "cell_type": "code",
      "metadata": {
        "colab": {
          "base_uri": "https://localhost:8080/",
          "height": 880
        },
        "id": "wa-1dZixxjV8",
        "outputId": "1b90fd13-784d-4801-c16f-5a550b5bd6c8"
      },
      "source": [
        "%matplotlib inline\n",
        "import matplotlib.pyplot as plt\n",
        "import seaborn as sns\n",
        "\n",
        "\n",
        "fig, axes = plt.subplots(nrows=3,ncols=2)\n",
        "fig.set_size_inches(15,15)\n",
        "\n",
        "a =sns.countplot(x=\"CarryAway\", data=data,alpha=0.9, ax=axes[0][0])\n",
        "for p in a.patches:\n",
        "    a.annotate('{:.1f}'.format(p.get_height()), (p.get_x()+0.05, p.get_height()+30))\n",
        "\n",
        "\n",
        "a =sns.countplot(x=\"CoffeeHouse\",data=data, alpha=0.9, ax=axes[0][1])\n",
        "for p in a.patches:\n",
        "    a.annotate('{:.1f}'.format(p.get_height()), (p.get_x()+0.05, p.get_height()+30))\n",
        "\n",
        "\n",
        "a =sns.countplot(x=\"RestaurantLessThan20\",data=data,alpha=0.9, ax=axes[1][0])\n",
        "for p in a.patches:\n",
        "    a.annotate('{:.1f}'.format(p.get_height()), (p.get_x()+0.05, p.get_height()+30))\n",
        "\n",
        "\n",
        "a=sns.countplot(x=\"Bar\",data=data, alpha=0.9, ax=axes[1][1])\n",
        "for p in a.patches:\n",
        "    a.annotate('{:.1f}'.format(p.get_height()), (p.get_x()+0.05, p.get_height()+30))\n",
        "\n",
        "\n",
        "a=sns.countplot(x=\"Restaurant20To50\",data=data,alpha=0.9, ax=axes[2][0])\n",
        "for p in a.patches:\n",
        "    a.annotate('{:.1f}'.format(p.get_height()), (p.get_x()+0.05, p.get_height()+30))\n",
        "\n"
      ],
      "execution_count": 19,
      "outputs": [
        {
          "output_type": "display_data",
          "data": {
            "image/png": "[encoded data removed]",
            "text/plain": [
              "<Figure size 1080x1080 with 6 Axes>"
            ]
          },
          "metadata": {
            "tags": [],
            "needs_background": "light"
          }
        }
      ]
    },
    {
      "cell_type": "code",
      "metadata": {
        "colab": {
          "base_uri": "https://localhost:8080/",
          "height": 1000
        },
        "id": "UrWhZ6Cc1aG8",
        "outputId": "cf4512a5-ed95-4776-f0cb-950b8494b882"
      },
      "source": [
        "%matplotlib inline\n",
        "import matplotlib.pyplot as plt\n",
        "import seaborn as sns\n",
        "\n",
        "\n",
        "fig, axes = plt.subplots(nrows=5)\n",
        "fig.set_size_inches(30,25)\n",
        "\n",
        "a =sns.countplot(hue=\"Y\",x=\"age\", data=data,alpha=0.9, ax=axes[0])\n",
        "for p in a.patches:\n",
        "    a.annotate('{:.1f}'.format(p.get_height()), (p.get_x()+0.05, p.get_height()+30))\n",
        "\n",
        "\n",
        "a= sns.countplot(x=\"time\",hue=\"Y\", data=data, alpha=0.9, ax=axes[1])\n",
        "for p in a.patches:\n",
        "    a.annotate('{:.1f}'.format(p.get_height()), (p.get_x()+0.05, p.get_height()+30))\n",
        "\n",
        "\n",
        "a= sns.countplot(hue=\"Y\",x=\"income\", data=data, alpha=0.9, ax=axes[2])\n",
        "for p in a.patches:\n",
        "    a.annotate('{:.1f}'.format(p.get_height()), (p.get_x()+0.05, p.get_height()+30))\n",
        "\n",
        "\n",
        "a= sns.countplot(hue=\"Y\",x=\"education\", data=data, alpha=0.9, ax=axes[3])\n",
        "for p in a.patches:\n",
        "    a.annotate('{:.1f}'.format(p.get_height()), (p.get_x()+0.05, p.get_height()+30))\n",
        "\n",
        "a= sns.countplot(hue=\"Y\",x=\"occupation\", data=data, alpha=0.9, ax=axes[4])\n",
        "for p in a.patches:\n",
        "    a.annotate('{:.1f}'.format(p.get_height()), (p.get_x()+0.05, p.get_height()+30))\n",
        "plt.tick_params(labelsize=12)\n",
        "plt.xticks(rotation=70)"
      ],
      "execution_count": 20,
      "outputs": [
        {
          "output_type": "execute_result",
          "data": {
            "text/plain": [
              "(array([ 0,  1,  2,  3,  4,  5,  6,  7,  8,  9, 10, 11, 12, 13, 14, 15, 16,\n",
              "        17, 18, 19, 20, 21, 22, 23, 24]),\n",
              " <a list of 25 Text major ticklabel objects>)"
            ]
          },
          "metadata": {
            "tags": []
          },
          "execution_count": 20
        },
        {
          "output_type": "display_data",
          "data": {
            "image/png": "[encoded data removed]",
            "text/plain": [
              "<Figure size 2160x1800 with 5 Axes>"
            ]
          },
          "metadata": {
            "tags": [],
            "needs_background": "light"
          }
        }
      ]
    },
    {
      "cell_type": "markdown",
      "metadata": {
        "id": "lmpNM8tx_sQE"
      },
      "source": [
        "## **Feature engineering**\n",
        "\n",
        "**One-Hot Encoding**\n",
        "1. Destination\n",
        "3. Occupation - but taking the classes of top frequency\n",
        "4. maritalStatus -but taking the classes of top frequency\n",
        "5. coupon\n",
        "6. weather\n",
        "7. passanger\n",
        "8. destination\n",
        "\n",
        "\n",
        "**Label Encoding**\n",
        "2. Coffee_House\n",
        "3. Bar\n",
        "4. CarryAway\n",
        "5. Restaurant20To50\n",
        "6. Restaurantlessthan20 \n",
        "7. income\n",
        "8. Education\n",
        "9. temperature\n",
        "\n",
        "**Binary Encoding**\n",
        "1. gender\n",
        "2. expiration\n",
        "\n",
        "**Date time Encoding**\n",
        "1. Time\n",
        "2. Expiration\n"
      ]
    },
    {
      "cell_type": "code",
      "metadata": {
        "colab": {
          "base_uri": "https://localhost:8080/"
        },
        "id": "46OqMR-u_nL_",
        "outputId": "83c2b709-74fe-4e51-ad00-a15db3a5a1fd"
      },
      "source": [
        "print(data['direction_same'].value_counts())\n",
        "print(data['direction_opp'].value_counts())\n",
        "print(data['Y'].value_counts())\n",
        "print(data['toCoupon_GEQ5min'].value_counts())\n",
        "print(data['toCoupon_GEQ15min'].value_counts())\n",
        "print(data['toCoupon_GEQ25min'].value_counts())\n",
        "print(data['has_children'].value_counts())\n",
        "print(data['temperature'].value_counts())"
      ],
      "execution_count": 21,
      "outputs": [
        {
          "output_type": "stream",
          "text": [
            "0    9892\n",
            "1    2718\n",
            "Name: direction_same, dtype: int64\n",
            "1    9892\n",
            "0    2718\n",
            "Name: direction_opp, dtype: int64\n",
            "1    7157\n",
            "0    5453\n",
            "Name: Y, dtype: int64\n",
            "1    12610\n",
            "Name: toCoupon_GEQ5min, dtype: int64\n",
            "1    7059\n",
            "0    5551\n",
            "Name: toCoupon_GEQ15min, dtype: int64\n",
            "0    11147\n",
            "1     1463\n",
            "Name: toCoupon_GEQ25min, dtype: int64\n",
            "0    7383\n",
            "1    5227\n",
            "Name: has_children, dtype: int64\n",
            "80    6475\n",
            "55    3830\n",
            "30    2305\n",
            "Name: temperature, dtype: int64\n"
          ],
          "name": "stdout"
        }
      ]
    },
    {
      "cell_type": "code",
      "metadata": {
        "id": "YxhXL10F_xB5"
      },
      "source": [
        "# as the columns 'direction_opp','Y','has_children','toCoupon_GEQ25min','toCoupon_GEQ15min','toCoupon_GEQ5min' and 'direction_same' are categorrical variable having two classes we are converting then to object \n",
        "data['Y']=data['Y'].astype('category')\n",
        "data['direction_opp']=data['direction_opp'].astype('category')\n",
        "data['has_children']=data['has_children'].astype('category')\n",
        "data['toCoupon_GEQ25min']=data['toCoupon_GEQ25min'].astype('category')\n",
        "data['toCoupon_GEQ15min']=data['toCoupon_GEQ15min'].astype('category')\n",
        "data['toCoupon_GEQ5min']=data['toCoupon_GEQ5min'].astype('category')\n",
        "data['direction_same']=data['direction_same'].astype('category')\n",
        "data['temperature']=data['temperature'].astype('category')"
      ],
      "execution_count": 22,
      "outputs": []
    },
    {
      "cell_type": "markdown",
      "metadata": {
        "id": "MmHo7dZV_3sq"
      },
      "source": [
        "### One Hot Encoding"
      ]
    },
    {
      "cell_type": "code",
      "metadata": {
        "colab": {
          "base_uri": "https://localhost:8080/"
        },
        "id": "tZeZP465_1YV",
        "outputId": "a191fdb7-26cc-46a5-ae25-8a0408bcd05c"
      },
      "source": [
        "(((data['maritalStatus'].value_counts())/len(data))*100).cumsum()"
      ],
      "execution_count": 23,
      "outputs": [
        {
          "output_type": "execute_result",
          "data": {
            "text/plain": [
              "Married partner       40.190325\n",
              "Single                77.589215\n",
              "Unmarried partner     94.916733\n",
              "Divorced              98.969072\n",
              "Widowed              100.000000\n",
              "Name: maritalStatus, dtype: float64"
            ]
          },
          "metadata": {
            "tags": []
          },
          "execution_count": 23
        }
      ]
    },
    {
      "cell_type": "code",
      "metadata": {
        "id": "xuZte9gB_7Y3"
      },
      "source": [
        "data['maritalStatus'].replace({'Divorced':'others','Widowed':'others'},inplace=True)"
      ],
      "execution_count": 24,
      "outputs": []
    },
    {
      "cell_type": "code",
      "metadata": {
        "id": "Z4XEZWXs_-vz"
      },
      "source": [
        "(((data['occupation'].value_counts())/len(data))*100).cumsum()\n",
        "data['occupation'].replace({'Farming Fishing & Forestry':'others','Building & Grounds Cleaning & Maintenance':'others','Production Occupations':'others','Installation Maintenance & Repair':'others','Construction & Extraction':'others','Life Physical Social Science':'others','Protective Service':'others','Personal Care & Service':'others','Architecture & Engineering':'others','Transportation & Material Moving':'others','Legal':'others','Community & Social Services':'others','Healthcare Support':'others','Healthcare Practitioners & Technical':'others'},inplace=True)"
      ],
      "execution_count": 25,
      "outputs": []
    },
    {
      "cell_type": "code",
      "metadata": {
        "id": "Jc8Q9DGBAAeg"
      },
      "source": [
        "data['occupation'].replace({'Farming Fishing & Forestry':'others','Building & Grounds Cleaning & Maintenance':'others','Production Occupations':'others','Installation Maintenance & Repair':'others','Construction & Extraction':'others','Life Physical Social Science':'others','Protective Service':'others','Personal Care & Service':'others','Architecture & Engineering':'others','Transportation & Material Moving':'others','Legal':'others','Community & Social Services':'others','Healthcare Support':'others','Healthcare Practitioners & Technical':'others'},inplace=True)"
      ],
      "execution_count": 26,
      "outputs": []
    },
    {
      "cell_type": "code",
      "metadata": {
        "id": "bptru2icAGWB"
      },
      "source": [
        "data= pd.get_dummies(data,prefix=['destination','maritalStatus','coupon','occupation','weather','passanger'],columns=['destination','maritalStatus','coupon','occupation','weather','passanger'], drop_first=True)\n"
      ],
      "execution_count": 27,
      "outputs": []
    },
    {
      "cell_type": "code",
      "metadata": {
        "colab": {
          "base_uri": "https://localhost:8080/",
          "height": 232
        },
        "id": "ZVW-1dzsAOHn",
        "outputId": "d21a65f2-fbd9-486d-e416-7f417b8297ea"
      },
      "source": [
        "pd.options.display.max_columns=None\n",
        "data.head(2)"
      ],
      "execution_count": 28,
      "outputs": [
        {
          "output_type": "execute_result",
          "data": {
            "text/html": [
              "<div>\n",
              "<style scoped>\n",
              "    .dataframe tbody tr th:only-of-type {\n",
              "        vertical-align: middle;\n",
              "    }\n",
              "\n",
              "    .dataframe tbody tr th {\n",
              "        vertical-align: top;\n",
              "    }\n",
              "\n",
              "    .dataframe thead th {\n",
              "        text-align: right;\n",
              "    }\n",
              "</style>\n",
              "<table border=\"1\" class=\"dataframe\">\n",
              "  <thead>\n",
              "    <tr style=\"text-align: right;\">\n",
              "      <th></th>\n",
              "      <th>temperature</th>\n",
              "      <th>time</th>\n",
              "      <th>expiration</th>\n",
              "      <th>gender</th>\n",
              "      <th>age</th>\n",
              "      <th>has_children</th>\n",
              "      <th>education</th>\n",
              "      <th>income</th>\n",
              "      <th>Bar</th>\n",
              "      <th>CoffeeHouse</th>\n",
              "      <th>CarryAway</th>\n",
              "      <th>RestaurantLessThan20</th>\n",
              "      <th>Restaurant20To50</th>\n",
              "      <th>toCoupon_GEQ5min</th>\n",
              "      <th>toCoupon_GEQ15min</th>\n",
              "      <th>toCoupon_GEQ25min</th>\n",
              "      <th>direction_same</th>\n",
              "      <th>direction_opp</th>\n",
              "      <th>Y</th>\n",
              "      <th>destination_No Urgent Place</th>\n",
              "      <th>destination_Work</th>\n",
              "      <th>maritalStatus_Single</th>\n",
              "      <th>maritalStatus_Unmarried partner</th>\n",
              "      <th>maritalStatus_others</th>\n",
              "      <th>coupon_Carry out &amp; Take away</th>\n",
              "      <th>coupon_Coffee House</th>\n",
              "      <th>coupon_Restaurant(20-50)</th>\n",
              "      <th>coupon_Restaurant(&lt;20)</th>\n",
              "      <th>occupation_Business &amp; Financial</th>\n",
              "      <th>occupation_Computer &amp; Mathematical</th>\n",
              "      <th>occupation_Education&amp;Training&amp;Library</th>\n",
              "      <th>occupation_Food Preparation &amp; Serving Related</th>\n",
              "      <th>occupation_Management</th>\n",
              "      <th>occupation_Office &amp; Administrative Support</th>\n",
              "      <th>occupation_Retired</th>\n",
              "      <th>occupation_Sales &amp; Related</th>\n",
              "      <th>occupation_Student</th>\n",
              "      <th>occupation_Unemployed</th>\n",
              "      <th>occupation_others</th>\n",
              "      <th>weather_Snowy</th>\n",
              "      <th>weather_Sunny</th>\n",
              "      <th>passanger_Friend(s)</th>\n",
              "      <th>passanger_Kid(s)</th>\n",
              "      <th>passanger_Partner</th>\n",
              "    </tr>\n",
              "  </thead>\n",
              "  <tbody>\n",
              "    <tr>\n",
              "      <th>0</th>\n",
              "      <td>55</td>\n",
              "      <td>2PM</td>\n",
              "      <td>1d</td>\n",
              "      <td>Female</td>\n",
              "      <td>21</td>\n",
              "      <td>1</td>\n",
              "      <td>Some college - no degree</td>\n",
              "      <td>$37500 - $49999</td>\n",
              "      <td>never</td>\n",
              "      <td>never</td>\n",
              "      <td>1~3</td>\n",
              "      <td>4~8</td>\n",
              "      <td>1~3</td>\n",
              "      <td>1</td>\n",
              "      <td>0</td>\n",
              "      <td>0</td>\n",
              "      <td>0</td>\n",
              "      <td>1</td>\n",
              "      <td>1</td>\n",
              "      <td>1</td>\n",
              "      <td>0</td>\n",
              "      <td>0</td>\n",
              "      <td>1</td>\n",
              "      <td>0</td>\n",
              "      <td>0</td>\n",
              "      <td>0</td>\n",
              "      <td>0</td>\n",
              "      <td>1</td>\n",
              "      <td>0</td>\n",
              "      <td>0</td>\n",
              "      <td>0</td>\n",
              "      <td>0</td>\n",
              "      <td>0</td>\n",
              "      <td>0</td>\n",
              "      <td>0</td>\n",
              "      <td>0</td>\n",
              "      <td>0</td>\n",
              "      <td>1</td>\n",
              "      <td>0</td>\n",
              "      <td>0</td>\n",
              "      <td>1</td>\n",
              "      <td>0</td>\n",
              "      <td>0</td>\n",
              "      <td>0</td>\n",
              "    </tr>\n",
              "    <tr>\n",
              "      <th>1</th>\n",
              "      <td>80</td>\n",
              "      <td>10AM</td>\n",
              "      <td>2h</td>\n",
              "      <td>Female</td>\n",
              "      <td>21</td>\n",
              "      <td>1</td>\n",
              "      <td>Some college - no degree</td>\n",
              "      <td>$37500 - $49999</td>\n",
              "      <td>never</td>\n",
              "      <td>never</td>\n",
              "      <td>1~3</td>\n",
              "      <td>4~8</td>\n",
              "      <td>1~3</td>\n",
              "      <td>1</td>\n",
              "      <td>0</td>\n",
              "      <td>0</td>\n",
              "      <td>0</td>\n",
              "      <td>1</td>\n",
              "      <td>0</td>\n",
              "      <td>1</td>\n",
              "      <td>0</td>\n",
              "      <td>0</td>\n",
              "      <td>1</td>\n",
              "      <td>0</td>\n",
              "      <td>0</td>\n",
              "      <td>1</td>\n",
              "      <td>0</td>\n",
              "      <td>0</td>\n",
              "      <td>0</td>\n",
              "      <td>0</td>\n",
              "      <td>0</td>\n",
              "      <td>0</td>\n",
              "      <td>0</td>\n",
              "      <td>0</td>\n",
              "      <td>0</td>\n",
              "      <td>0</td>\n",
              "      <td>0</td>\n",
              "      <td>1</td>\n",
              "      <td>0</td>\n",
              "      <td>0</td>\n",
              "      <td>1</td>\n",
              "      <td>1</td>\n",
              "      <td>0</td>\n",
              "      <td>0</td>\n",
              "    </tr>\n",
              "  </tbody>\n",
              "</table>\n",
              "</div>"
            ],
            "text/plain": [
              "  temperature  time expiration  gender age has_children  \\\n",
              "0          55   2PM         1d  Female  21            1   \n",
              "1          80  10AM         2h  Female  21            1   \n",
              "\n",
              "                  education           income    Bar CoffeeHouse CarryAway  \\\n",
              "0  Some college - no degree  $37500 - $49999  never       never       1~3   \n",
              "1  Some college - no degree  $37500 - $49999  never       never       1~3   \n",
              "\n",
              "  RestaurantLessThan20 Restaurant20To50 toCoupon_GEQ5min toCoupon_GEQ15min  \\\n",
              "0                  4~8              1~3                1                 0   \n",
              "1                  4~8              1~3                1                 0   \n",
              "\n",
              "  toCoupon_GEQ25min direction_same direction_opp  Y  \\\n",
              "0                 0              0             1  1   \n",
              "1                 0              0             1  0   \n",
              "\n",
              "   destination_No Urgent Place  destination_Work  maritalStatus_Single  \\\n",
              "0                            1                 0                     0   \n",
              "1                            1                 0                     0   \n",
              "\n",
              "   maritalStatus_Unmarried partner  maritalStatus_others  \\\n",
              "0                                1                     0   \n",
              "1                                1                     0   \n",
              "\n",
              "   coupon_Carry out & Take away  coupon_Coffee House  \\\n",
              "0                             0                    0   \n",
              "1                             0                    1   \n",
              "\n",
              "   coupon_Restaurant(20-50)  coupon_Restaurant(<20)  \\\n",
              "0                         0                       1   \n",
              "1                         0                       0   \n",
              "\n",
              "   occupation_Business & Financial  occupation_Computer & Mathematical  \\\n",
              "0                                0                                   0   \n",
              "1                                0                                   0   \n",
              "\n",
              "   occupation_Education&Training&Library  \\\n",
              "0                                      0   \n",
              "1                                      0   \n",
              "\n",
              "   occupation_Food Preparation & Serving Related  occupation_Management  \\\n",
              "0                                              0                      0   \n",
              "1                                              0                      0   \n",
              "\n",
              "   occupation_Office & Administrative Support  occupation_Retired  \\\n",
              "0                                           0                   0   \n",
              "1                                           0                   0   \n",
              "\n",
              "   occupation_Sales & Related  occupation_Student  occupation_Unemployed  \\\n",
              "0                           0                   0                      1   \n",
              "1                           0                   0                      1   \n",
              "\n",
              "   occupation_others  weather_Snowy  weather_Sunny  passanger_Friend(s)  \\\n",
              "0                  0              0              1                    0   \n",
              "1                  0              0              1                    1   \n",
              "\n",
              "   passanger_Kid(s)  passanger_Partner  \n",
              "0                 0                  0  \n",
              "1                 0                  0  "
            ]
          },
          "metadata": {
            "tags": []
          },
          "execution_count": 28
        }
      ]
    },
    {
      "cell_type": "markdown",
      "metadata": {
        "id": "TniAZsqpASm1"
      },
      "source": [
        "### Label Encoding\n"
      ]
    },
    {
      "cell_type": "code",
      "metadata": {
        "id": "rxFQqts0AQDB"
      },
      "source": [
        "data['income'].replace({'Less than $12500':0,'$12500 - $24999':1,'$25000 - $37499':2,'$37500 - $49999':3,'$50000 - $62499':4,'$62500 - $74999':5,'$75000 - $87499':6,'$87500 - $99999':7,'$100000 or More':8},inplace=True)"
      ],
      "execution_count": 29,
      "outputs": []
    },
    {
      "cell_type": "code",
      "metadata": {
        "id": "jwRgzpikAVEf"
      },
      "source": [
        "data['education'].replace({'Graduate degree (Masters or Doctorate)':5,'Bachelors degree':4,'Associates degree':3,'Some college - no degree':2,'High School Graduate':1,'Some High School':0},inplace=True)"
      ],
      "execution_count": 30,
      "outputs": []
    },
    {
      "cell_type": "code",
      "metadata": {
        "id": "9v_2K0YuAWmR"
      },
      "source": [
        "data['temperature'].replace({80:2,55:1,30:0},inplace=True)"
      ],
      "execution_count": 31,
      "outputs": []
    },
    {
      "cell_type": "code",
      "metadata": {
        "colab": {
          "base_uri": "https://localhost:8080/",
          "height": 163
        },
        "id": "FEBvB9PcAYWA",
        "outputId": "a5522f50-98f4-4b59-f11a-9de2d533f843"
      },
      "source": [
        "data['Bar']=data['Bar'].astype('category')\n",
        "data['CoffeeHouse']=data['CoffeeHouse'].astype('category')\n",
        "data['CarryAway']=data['CarryAway'].astype('category')\n",
        "data['Restaurant20To50']=data['Restaurant20To50'].astype('category')\n",
        "data['RestaurantLessThan20']=data['RestaurantLessThan20'].astype('category')\n",
        "\n",
        "\n",
        "data['Bar']=data['Bar'].cat.codes\n",
        "data['CoffeeHouse']=data['CoffeeHouse'].cat.codes\n",
        "data['CarryAway']=data['CarryAway'].cat.codes\n",
        "data['Restaurant20To50']=data['Restaurant20To50'].cat.codes\n",
        "data['RestaurantLessThan20']=data['RestaurantLessThan20'].cat.codes\n",
        "\n",
        "data.head(2)"
      ],
      "execution_count": 32,
      "outputs": [
        {
          "output_type": "execute_result",
          "data": {
            "text/html": [
              "<div>\n",
              "<style scoped>\n",
              "    .dataframe tbody tr th:only-of-type {\n",
              "        vertical-align: middle;\n",
              "    }\n",
              "\n",
              "    .dataframe tbody tr th {\n",
              "        vertical-align: top;\n",
              "    }\n",
              "\n",
              "    .dataframe thead th {\n",
              "        text-align: right;\n",
              "    }\n",
              "</style>\n",
              "<table border=\"1\" class=\"dataframe\">\n",
              "  <thead>\n",
              "    <tr style=\"text-align: right;\">\n",
              "      <th></th>\n",
              "      <th>temperature</th>\n",
              "      <th>time</th>\n",
              "      <th>expiration</th>\n",
              "      <th>gender</th>\n",
              "      <th>age</th>\n",
              "      <th>has_children</th>\n",
              "      <th>education</th>\n",
              "      <th>income</th>\n",
              "      <th>Bar</th>\n",
              "      <th>CoffeeHouse</th>\n",
              "      <th>CarryAway</th>\n",
              "      <th>RestaurantLessThan20</th>\n",
              "      <th>Restaurant20To50</th>\n",
              "      <th>toCoupon_GEQ5min</th>\n",
              "      <th>toCoupon_GEQ15min</th>\n",
              "      <th>toCoupon_GEQ25min</th>\n",
              "      <th>direction_same</th>\n",
              "      <th>direction_opp</th>\n",
              "      <th>Y</th>\n",
              "      <th>destination_No Urgent Place</th>\n",
              "      <th>destination_Work</th>\n",
              "      <th>maritalStatus_Single</th>\n",
              "      <th>maritalStatus_Unmarried partner</th>\n",
              "      <th>maritalStatus_others</th>\n",
              "      <th>coupon_Carry out &amp; Take away</th>\n",
              "      <th>coupon_Coffee House</th>\n",
              "      <th>coupon_Restaurant(20-50)</th>\n",
              "      <th>coupon_Restaurant(&lt;20)</th>\n",
              "      <th>occupation_Business &amp; Financial</th>\n",
              "      <th>occupation_Computer &amp; Mathematical</th>\n",
              "      <th>occupation_Education&amp;Training&amp;Library</th>\n",
              "      <th>occupation_Food Preparation &amp; Serving Related</th>\n",
              "      <th>occupation_Management</th>\n",
              "      <th>occupation_Office &amp; Administrative Support</th>\n",
              "      <th>occupation_Retired</th>\n",
              "      <th>occupation_Sales &amp; Related</th>\n",
              "      <th>occupation_Student</th>\n",
              "      <th>occupation_Unemployed</th>\n",
              "      <th>occupation_others</th>\n",
              "      <th>weather_Snowy</th>\n",
              "      <th>weather_Sunny</th>\n",
              "      <th>passanger_Friend(s)</th>\n",
              "      <th>passanger_Kid(s)</th>\n",
              "      <th>passanger_Partner</th>\n",
              "    </tr>\n",
              "  </thead>\n",
              "  <tbody>\n",
              "    <tr>\n",
              "      <th>0</th>\n",
              "      <td>1</td>\n",
              "      <td>2PM</td>\n",
              "      <td>1d</td>\n",
              "      <td>Female</td>\n",
              "      <td>21</td>\n",
              "      <td>1</td>\n",
              "      <td>2</td>\n",
              "      <td>3</td>\n",
              "      <td>4</td>\n",
              "      <td>4</td>\n",
              "      <td>0</td>\n",
              "      <td>1</td>\n",
              "      <td>0</td>\n",
              "      <td>1</td>\n",
              "      <td>0</td>\n",
              "      <td>0</td>\n",
              "      <td>0</td>\n",
              "      <td>1</td>\n",
              "      <td>1</td>\n",
              "      <td>1</td>\n",
              "      <td>0</td>\n",
              "      <td>0</td>\n",
              "      <td>1</td>\n",
              "      <td>0</td>\n",
              "      <td>0</td>\n",
              "      <td>0</td>\n",
              "      <td>0</td>\n",
              "      <td>1</td>\n",
              "      <td>0</td>\n",
              "      <td>0</td>\n",
              "      <td>0</td>\n",
              "      <td>0</td>\n",
              "      <td>0</td>\n",
              "      <td>0</td>\n",
              "      <td>0</td>\n",
              "      <td>0</td>\n",
              "      <td>0</td>\n",
              "      <td>1</td>\n",
              "      <td>0</td>\n",
              "      <td>0</td>\n",
              "      <td>1</td>\n",
              "      <td>0</td>\n",
              "      <td>0</td>\n",
              "      <td>0</td>\n",
              "    </tr>\n",
              "    <tr>\n",
              "      <th>1</th>\n",
              "      <td>2</td>\n",
              "      <td>10AM</td>\n",
              "      <td>2h</td>\n",
              "      <td>Female</td>\n",
              "      <td>21</td>\n",
              "      <td>1</td>\n",
              "      <td>2</td>\n",
              "      <td>3</td>\n",
              "      <td>4</td>\n",
              "      <td>4</td>\n",
              "      <td>0</td>\n",
              "      <td>1</td>\n",
              "      <td>0</td>\n",
              "      <td>1</td>\n",
              "      <td>0</td>\n",
              "      <td>0</td>\n",
              "      <td>0</td>\n",
              "      <td>1</td>\n",
              "      <td>0</td>\n",
              "      <td>1</td>\n",
              "      <td>0</td>\n",
              "      <td>0</td>\n",
              "      <td>1</td>\n",
              "      <td>0</td>\n",
              "      <td>0</td>\n",
              "      <td>1</td>\n",
              "      <td>0</td>\n",
              "      <td>0</td>\n",
              "      <td>0</td>\n",
              "      <td>0</td>\n",
              "      <td>0</td>\n",
              "      <td>0</td>\n",
              "      <td>0</td>\n",
              "      <td>0</td>\n",
              "      <td>0</td>\n",
              "      <td>0</td>\n",
              "      <td>0</td>\n",
              "      <td>1</td>\n",
              "      <td>0</td>\n",
              "      <td>0</td>\n",
              "      <td>1</td>\n",
              "      <td>1</td>\n",
              "      <td>0</td>\n",
              "      <td>0</td>\n",
              "    </tr>\n",
              "  </tbody>\n",
              "</table>\n",
              "</div>"
            ],
            "text/plain": [
              "   temperature  time expiration  gender age has_children  education  income  \\\n",
              "0            1   2PM         1d  Female  21            1          2       3   \n",
              "1            2  10AM         2h  Female  21            1          2       3   \n",
              "\n",
              "   Bar  CoffeeHouse  CarryAway  RestaurantLessThan20  Restaurant20To50  \\\n",
              "0    4            4          0                     1                 0   \n",
              "1    4            4          0                     1                 0   \n",
              "\n",
              "  toCoupon_GEQ5min toCoupon_GEQ15min toCoupon_GEQ25min direction_same  \\\n",
              "0                1                 0                 0              0   \n",
              "1                1                 0                 0              0   \n",
              "\n",
              "  direction_opp  Y  destination_No Urgent Place  destination_Work  \\\n",
              "0             1  1                            1                 0   \n",
              "1             1  0                            1                 0   \n",
              "\n",
              "   maritalStatus_Single  maritalStatus_Unmarried partner  \\\n",
              "0                     0                                1   \n",
              "1                     0                                1   \n",
              "\n",
              "   maritalStatus_others  coupon_Carry out & Take away  coupon_Coffee House  \\\n",
              "0                     0                             0                    0   \n",
              "1                     0                             0                    1   \n",
              "\n",
              "   coupon_Restaurant(20-50)  coupon_Restaurant(<20)  \\\n",
              "0                         0                       1   \n",
              "1                         0                       0   \n",
              "\n",
              "   occupation_Business & Financial  occupation_Computer & Mathematical  \\\n",
              "0                                0                                   0   \n",
              "1                                0                                   0   \n",
              "\n",
              "   occupation_Education&Training&Library  \\\n",
              "0                                      0   \n",
              "1                                      0   \n",
              "\n",
              "   occupation_Food Preparation & Serving Related  occupation_Management  \\\n",
              "0                                              0                      0   \n",
              "1                                              0                      0   \n",
              "\n",
              "   occupation_Office & Administrative Support  occupation_Retired  \\\n",
              "0                                           0                   0   \n",
              "1                                           0                   0   \n",
              "\n",
              "   occupation_Sales & Related  occupation_Student  occupation_Unemployed  \\\n",
              "0                           0                   0                      1   \n",
              "1                           0                   0                      1   \n",
              "\n",
              "   occupation_others  weather_Snowy  weather_Sunny  passanger_Friend(s)  \\\n",
              "0                  0              0              1                    0   \n",
              "1                  0              0              1                    1   \n",
              "\n",
              "   passanger_Kid(s)  passanger_Partner  \n",
              "0                 0                  0  \n",
              "1                 0                  0  "
            ]
          },
          "metadata": {
            "tags": []
          },
          "execution_count": 32
        }
      ]
    },
    {
      "cell_type": "markdown",
      "metadata": {
        "id": "weTxHESDAfcV"
      },
      "source": [
        "### Binary Encoding\n"
      ]
    },
    {
      "cell_type": "code",
      "metadata": {
        "id": "Kj-0JQioAcyf"
      },
      "source": [
        "data['gender'].replace({'Female':0,'Male':1},inplace=True)"
      ],
      "execution_count": 33,
      "outputs": []
    },
    {
      "cell_type": "code",
      "metadata": {
        "id": "hPve2u7SAhh_"
      },
      "source": [
        "data['expiration'].replace({'1d':1,'2h':0},inplace=True)"
      ],
      "execution_count": 34,
      "outputs": []
    },
    {
      "cell_type": "markdown",
      "metadata": {
        "id": "H-G1yLVFAozz"
      },
      "source": [
        "### Datetime encoding"
      ]
    },
    {
      "cell_type": "code",
      "metadata": {
        "colab": {
          "base_uri": "https://localhost:8080/"
        },
        "id": "2D4YusuQAkuL",
        "outputId": "c64cb007-85d1-48f2-d9e2-b0b40b3bcbaf"
      },
      "source": [
        "data['time'].value_counts()"
      ],
      "execution_count": 35,
      "outputs": [
        {
          "output_type": "execute_result",
          "data": {
            "text/plain": [
              "6PM     3220\n",
              "7AM     3114\n",
              "10AM    2271\n",
              "2PM     2006\n",
              "10PM    1999\n",
              "Name: time, dtype: int64"
            ]
          },
          "metadata": {
            "tags": []
          },
          "execution_count": 35
        }
      ]
    },
    {
      "cell_type": "code",
      "metadata": {
        "id": "DB7IUNKfArpm"
      },
      "source": [
        "data['time'].replace({'6PM':18,'7AM':7,'10AM':10,'2PM':14,'10PM':22},inplace=True)"
      ],
      "execution_count": 36,
      "outputs": []
    },
    {
      "cell_type": "code",
      "metadata": {
        "id": "CTjf3Ii5AuQz"
      },
      "source": [
        "data['has_children']=data['has_children'].astype('int64')\n",
        "data['toCoupon_GEQ5min']=data['toCoupon_GEQ5min'].astype('int64')\n",
        "data['toCoupon_GEQ15min']=data['toCoupon_GEQ15min'].astype('int64')\n",
        "data['toCoupon_GEQ25min']=data['toCoupon_GEQ25min'].astype('int64')\n",
        "data['direction_same']=data['direction_same'].astype('int64')\n",
        "data['direction_opp']=data['direction_opp'].astype('int64')"
      ],
      "execution_count": 37,
      "outputs": []
    },
    {
      "cell_type": "code",
      "metadata": {
        "id": "dijgLGhQJleG"
      },
      "source": [
        "from sklearn.preprocessing import LabelEncoder\n",
        "LE = LabelEncoder()\n",
        "data['Y'] = LE.fit_transform(data['Y'])"
      ],
      "execution_count": 38,
      "outputs": []
    },
    {
      "cell_type": "code",
      "metadata": {
        "id": "GuMn016lB0jS"
      },
      "source": [
        "data['age']=data['age'].replace({'below21':0,'21':1,'26':2,'31':3,'36':4,'41':5,'46':6,'50plus':7})"
      ],
      "execution_count": 39,
      "outputs": []
    },
    {
      "cell_type": "code",
      "metadata": {
        "colab": {
          "base_uri": "https://localhost:8080/"
        },
        "id": "opLDkZpSAx_o",
        "outputId": "3df1cb20-7802-46e8-cf3e-6db8ca1eae32"
      },
      "source": [
        "data.info()"
      ],
      "execution_count": 40,
      "outputs": [
        {
          "output_type": "stream",
          "text": [
            "<class 'pandas.core.frame.DataFrame'>\n",
            "Int64Index: 12610 entries, 0 to 12683\n",
            "Data columns (total 44 columns):\n",
            " #   Column                                         Non-Null Count  Dtype\n",
            "---  ------                                         --------------  -----\n",
            " 0   temperature                                    12610 non-null  int64\n",
            " 1   time                                           12610 non-null  int64\n",
            " 2   expiration                                     12610 non-null  int64\n",
            " 3   gender                                         12610 non-null  int64\n",
            " 4   age                                            12610 non-null  int64\n",
            " 5   has_children                                   12610 non-null  int64\n",
            " 6   education                                      12610 non-null  int64\n",
            " 7   income                                         12610 non-null  int64\n",
            " 8   Bar                                            12610 non-null  int8 \n",
            " 9   CoffeeHouse                                    12610 non-null  int8 \n",
            " 10  CarryAway                                      12610 non-null  int8 \n",
            " 11  RestaurantLessThan20                           12610 non-null  int8 \n",
            " 12  Restaurant20To50                               12610 non-null  int8 \n",
            " 13  toCoupon_GEQ5min                               12610 non-null  int64\n",
            " 14  toCoupon_GEQ15min                              12610 non-null  int64\n",
            " 15  toCoupon_GEQ25min                              12610 non-null  int64\n",
            " 16  direction_same                                 12610 non-null  int64\n",
            " 17  direction_opp                                  12610 non-null  int64\n",
            " 18  Y                                              12610 non-null  int64\n",
            " 19  destination_No Urgent Place                    12610 non-null  uint8\n",
            " 20  destination_Work                               12610 non-null  uint8\n",
            " 21  maritalStatus_Single                           12610 non-null  uint8\n",
            " 22  maritalStatus_Unmarried partner                12610 non-null  uint8\n",
            " 23  maritalStatus_others                           12610 non-null  uint8\n",
            " 24  coupon_Carry out & Take away                   12610 non-null  uint8\n",
            " 25  coupon_Coffee House                            12610 non-null  uint8\n",
            " 26  coupon_Restaurant(20-50)                       12610 non-null  uint8\n",
            " 27  coupon_Restaurant(<20)                         12610 non-null  uint8\n",
            " 28  occupation_Business & Financial                12610 non-null  uint8\n",
            " 29  occupation_Computer & Mathematical             12610 non-null  uint8\n",
            " 30  occupation_Education&Training&Library          12610 non-null  uint8\n",
            " 31  occupation_Food Preparation & Serving Related  12610 non-null  uint8\n",
            " 32  occupation_Management                          12610 non-null  uint8\n",
            " 33  occupation_Office & Administrative Support     12610 non-null  uint8\n",
            " 34  occupation_Retired                             12610 non-null  uint8\n",
            " 35  occupation_Sales & Related                     12610 non-null  uint8\n",
            " 36  occupation_Student                             12610 non-null  uint8\n",
            " 37  occupation_Unemployed                          12610 non-null  uint8\n",
            " 38  occupation_others                              12610 non-null  uint8\n",
            " 39  weather_Snowy                                  12610 non-null  uint8\n",
            " 40  weather_Sunny                                  12610 non-null  uint8\n",
            " 41  passanger_Friend(s)                            12610 non-null  uint8\n",
            " 42  passanger_Kid(s)                               12610 non-null  uint8\n",
            " 43  passanger_Partner                              12610 non-null  uint8\n",
            "dtypes: int64(14), int8(5), uint8(25)\n",
            "memory usage: 2.1 MB\n"
          ],
          "name": "stdout"
        }
      ]
    },
    {
      "cell_type": "markdown",
      "metadata": {
        "id": "fnVLdBuYa1-N"
      },
      "source": [
        "# **CLUSTERING**"
      ]
    },
    {
      "cell_type": "code",
      "metadata": {
        "id": "j7rhymViog-p"
      },
      "source": [
        "data1.head()\n",
        "data1.drop(['toCoupon_GEQ5min'],axis=1,inplace=True)"
      ],
      "execution_count": 41,
      "outputs": []
    },
    {
      "cell_type": "markdown",
      "metadata": {
        "id": "5UrQdXmJpGvO"
      },
      "source": [
        "ONE HOT ENCODING FOR CLUSTERING"
      ]
    },
    {
      "cell_type": "code",
      "metadata": {
        "colab": {
          "base_uri": "https://localhost:8080/"
        },
        "id": "kFyRvLCroj5J",
        "outputId": "9d8b47b6-d71b-420d-acb6-e13040a6e75d"
      },
      "source": [
        "print((((data1['maritalStatus'].value_counts())/len(data1))*100).cumsum())\n",
        "data1['maritalStatus'].replace({'Divorced':'others','Widowed':'others'},inplace=True)"
      ],
      "execution_count": 42,
      "outputs": [
        {
          "output_type": "stream",
          "text": [
            "Married partner       40.190325\n",
            "Single                77.589215\n",
            "Unmarried partner     94.916733\n",
            "others               100.000000\n",
            "Name: maritalStatus, dtype: float64\n"
          ],
          "name": "stdout"
        }
      ]
    },
    {
      "cell_type": "code",
      "metadata": {
        "colab": {
          "base_uri": "https://localhost:8080/"
        },
        "id": "4I02lYvCpXn5",
        "outputId": "8fc6b327-b352-4ce7-847b-4217ec21419e"
      },
      "source": [
        "print((((data1['occupation'].value_counts())/len(data1))*100).cumsum())\n",
        "data1['occupation'].replace({'Farming Fishing & Forestry':'others','Building & Grounds Cleaning & Maintenance':'others','Production Occupations':'others','Installation Maintenance & Repair':'others','Construction & Extraction':'others','Life Physical Social Science':'others','Protective Service':'others','Personal Care & Service':'others','Architecture & Engineering':'others','Transportation & Material Moving':'others','Legal':'others','Community & Social Services':'others','Healthcare Support':'others','Healthcare Practitioners & Technical':'others'},inplace=True)"
      ],
      "execution_count": 43,
      "outputs": [
        {
          "output_type": "stream",
          "text": [
            "others                                       18.532910\n",
            "Unemployed                                   33.291039\n",
            "Student                                      45.781126\n",
            "Computer & Mathematical                      56.804124\n",
            "Sales & Related                              65.432197\n",
            "Education&Training&Library                   72.878668\n",
            "Management                                   79.389374\n",
            "Office & Administrative Support              84.448850\n",
            "Arts Design Entertainment Sports & Media     89.421094\n",
            "Business & Financial                         93.727201\n",
            "Retired                                      97.636796\n",
            "Food Preparation & Serving Related          100.000000\n",
            "Name: occupation, dtype: float64\n"
          ],
          "name": "stdout"
        }
      ]
    },
    {
      "cell_type": "code",
      "metadata": {
        "id": "8dDDebQZqHIp"
      },
      "source": [
        "data1= pd.get_dummies(data1,prefix=['destination', 'passanger', 'weather', 'temperature', 'time', 'coupon',\n",
        "       'expiration', 'gender', 'age', 'maritalStatus', 'has_children',\n",
        "       'education', 'occupation', 'income', 'Bar', 'CoffeeHouse', 'CarryAway',\n",
        "       'RestaurantLessThan20', 'Restaurant20To50',\n",
        "       'toCoupon_GEQ15min', 'toCoupon_GEQ25min', 'direction_same',\n",
        "       'direction_opp', 'Y'],columns=['destination', 'passanger', 'weather', 'temperature', 'time', 'coupon',\n",
        "       'expiration', 'gender', 'age', 'maritalStatus', 'has_children',\n",
        "       'education', 'occupation', 'income', 'Bar', 'CoffeeHouse', 'CarryAway',\n",
        "       'RestaurantLessThan20', 'Restaurant20To50',\n",
        "       'toCoupon_GEQ15min', 'toCoupon_GEQ25min', 'direction_same',\n",
        "       'direction_opp', 'Y'], drop_first=False)\n"
      ],
      "execution_count": 44,
      "outputs": []
    },
    {
      "cell_type": "code",
      "metadata": {
        "colab": {
          "base_uri": "https://localhost:8080/"
        },
        "id": "nvkLgo6KpsSB",
        "outputId": "f0996cd9-ab6b-4a87-a85e-1d80e03dbf12"
      },
      "source": [
        "data1.shape"
      ],
      "execution_count": 45,
      "outputs": [
        {
          "output_type": "execute_result",
          "data": {
            "text/plain": [
              "(12610, 103)"
            ]
          },
          "metadata": {
            "tags": []
          },
          "execution_count": 45
        }
      ]
    },
    {
      "cell_type": "code",
      "metadata": {
        "colab": {
          "base_uri": "https://localhost:8080/",
          "height": 180
        },
        "id": "n1Q33KpWa1gg",
        "outputId": "4ec6fdd5-0970-4d16-fc63-aaef758bc2f3"
      },
      "source": [
        "from sklearn.preprocessing import StandardScaler\n",
        "X_norm = StandardScaler()\n",
        "num_norm = X_norm.fit_transform(data1)\n",
        "X = pd.DataFrame(num_norm, columns = data1.columns)\n",
        "X.head(2)"
      ],
      "execution_count": 46,
      "outputs": [
        {
          "output_type": "execute_result",
          "data": {
            "text/html": [
              "<div>\n",
              "<style scoped>\n",
              "    .dataframe tbody tr th:only-of-type {\n",
              "        vertical-align: middle;\n",
              "    }\n",
              "\n",
              "    .dataframe tbody tr th {\n",
              "        vertical-align: top;\n",
              "    }\n",
              "\n",
              "    .dataframe thead th {\n",
              "        text-align: right;\n",
              "    }\n",
              "</style>\n",
              "<table border=\"1\" class=\"dataframe\">\n",
              "  <thead>\n",
              "    <tr style=\"text-align: right;\">\n",
              "      <th></th>\n",
              "      <th>destination_Home</th>\n",
              "      <th>destination_No Urgent Place</th>\n",
              "      <th>destination_Work</th>\n",
              "      <th>passanger_Alone</th>\n",
              "      <th>passanger_Friend(s)</th>\n",
              "      <th>passanger_Kid(s)</th>\n",
              "      <th>passanger_Partner</th>\n",
              "      <th>weather_Rainy</th>\n",
              "      <th>weather_Snowy</th>\n",
              "      <th>weather_Sunny</th>\n",
              "      <th>temperature_30</th>\n",
              "      <th>temperature_55</th>\n",
              "      <th>temperature_80</th>\n",
              "      <th>time_10AM</th>\n",
              "      <th>time_10PM</th>\n",
              "      <th>time_2PM</th>\n",
              "      <th>time_6PM</th>\n",
              "      <th>time_7AM</th>\n",
              "      <th>coupon_Bar</th>\n",
              "      <th>coupon_Carry out &amp; Take away</th>\n",
              "      <th>coupon_Coffee House</th>\n",
              "      <th>coupon_Restaurant(20-50)</th>\n",
              "      <th>coupon_Restaurant(&lt;20)</th>\n",
              "      <th>expiration_1d</th>\n",
              "      <th>expiration_2h</th>\n",
              "      <th>gender_Female</th>\n",
              "      <th>gender_Male</th>\n",
              "      <th>age_21</th>\n",
              "      <th>age_26</th>\n",
              "      <th>age_31</th>\n",
              "      <th>age_36</th>\n",
              "      <th>age_41</th>\n",
              "      <th>age_46</th>\n",
              "      <th>age_50plus</th>\n",
              "      <th>age_below21</th>\n",
              "      <th>maritalStatus_Married partner</th>\n",
              "      <th>maritalStatus_Single</th>\n",
              "      <th>maritalStatus_Unmarried partner</th>\n",
              "      <th>maritalStatus_others</th>\n",
              "      <th>has_children_0</th>\n",
              "      <th>has_children_1</th>\n",
              "      <th>education_Associates degree</th>\n",
              "      <th>education_Bachelors degree</th>\n",
              "      <th>education_Graduate degree (Masters or Doctorate)</th>\n",
              "      <th>education_High School Graduate</th>\n",
              "      <th>education_Some High School</th>\n",
              "      <th>education_Some college - no degree</th>\n",
              "      <th>occupation_Arts Design Entertainment Sports &amp; Media</th>\n",
              "      <th>occupation_Business &amp; Financial</th>\n",
              "      <th>occupation_Computer &amp; Mathematical</th>\n",
              "      <th>occupation_Education&amp;Training&amp;Library</th>\n",
              "      <th>occupation_Food Preparation &amp; Serving Related</th>\n",
              "      <th>occupation_Management</th>\n",
              "      <th>occupation_Office &amp; Administrative Support</th>\n",
              "      <th>occupation_Retired</th>\n",
              "      <th>occupation_Sales &amp; Related</th>\n",
              "      <th>occupation_Student</th>\n",
              "      <th>occupation_Unemployed</th>\n",
              "      <th>occupation_others</th>\n",
              "      <th>income_$100000 or More</th>\n",
              "      <th>income_$12500 - $24999</th>\n",
              "      <th>income_$25000 - $37499</th>\n",
              "      <th>income_$37500 - $49999</th>\n",
              "      <th>income_$50000 - $62499</th>\n",
              "      <th>income_$62500 - $74999</th>\n",
              "      <th>income_$75000 - $87499</th>\n",
              "      <th>income_$87500 - $99999</th>\n",
              "      <th>income_Less than $12500</th>\n",
              "      <th>Bar_1~3</th>\n",
              "      <th>Bar_4~8</th>\n",
              "      <th>Bar_gt8</th>\n",
              "      <th>Bar_less1</th>\n",
              "      <th>Bar_never</th>\n",
              "      <th>CoffeeHouse_1~3</th>\n",
              "      <th>CoffeeHouse_4~8</th>\n",
              "      <th>CoffeeHouse_gt8</th>\n",
              "      <th>CoffeeHouse_less1</th>\n",
              "      <th>CoffeeHouse_never</th>\n",
              "      <th>CarryAway_1~3</th>\n",
              "      <th>CarryAway_4~8</th>\n",
              "      <th>CarryAway_gt8</th>\n",
              "      <th>CarryAway_less1</th>\n",
              "      <th>CarryAway_never</th>\n",
              "      <th>RestaurantLessThan20_1~3</th>\n",
              "      <th>RestaurantLessThan20_4~8</th>\n",
              "      <th>RestaurantLessThan20_gt8</th>\n",
              "      <th>RestaurantLessThan20_less1</th>\n",
              "      <th>RestaurantLessThan20_never</th>\n",
              "      <th>Restaurant20To50_1~3</th>\n",
              "      <th>Restaurant20To50_4~8</th>\n",
              "      <th>Restaurant20To50_gt8</th>\n",
              "      <th>Restaurant20To50_less1</th>\n",
              "      <th>Restaurant20To50_never</th>\n",
              "      <th>toCoupon_GEQ15min_0</th>\n",
              "      <th>toCoupon_GEQ15min_1</th>\n",
              "      <th>toCoupon_GEQ25min_0</th>\n",
              "      <th>toCoupon_GEQ25min_1</th>\n",
              "      <th>direction_same_0</th>\n",
              "      <th>direction_same_1</th>\n",
              "      <th>direction_opp_0</th>\n",
              "      <th>direction_opp_1</th>\n",
              "      <th>Y_0</th>\n",
              "      <th>Y_1</th>\n",
              "    </tr>\n",
              "  </thead>\n",
              "  <tbody>\n",
              "    <tr>\n",
              "      <th>0</th>\n",
              "      <td>-0.586813</td>\n",
              "      <td>1.006205</td>\n",
              "      <td>-0.57265</td>\n",
              "      <td>0.860111</td>\n",
              "      <td>-0.594386</td>\n",
              "      <td>-0.293643</td>\n",
              "      <td>-0.304346</td>\n",
              "      <td>-0.324599</td>\n",
              "      <td>-0.35297</td>\n",
              "      <td>0.509524</td>\n",
              "      <td>-0.472946</td>\n",
              "      <td>1.514077</td>\n",
              "      <td>-1.027336</td>\n",
              "      <td>-0.468672</td>\n",
              "      <td>-0.434038</td>\n",
              "      <td>2.299161</td>\n",
              "      <td>-0.585592</td>\n",
              "      <td>-0.57265</td>\n",
              "      <td>-0.435457</td>\n",
              "      <td>-0.477835</td>\n",
              "      <td>-0.680226</td>\n",
              "      <td>-0.365772</td>\n",
              "      <td>1.880852</td>\n",
              "      <td>0.890778</td>\n",
              "      <td>-0.890778</td>\n",
              "      <td>0.974319</td>\n",
              "      <td>-0.974319</td>\n",
              "      <td>1.942395</td>\n",
              "      <td>-0.50322</td>\n",
              "      <td>-0.436616</td>\n",
              "      <td>-0.341498</td>\n",
              "      <td>-0.307446</td>\n",
              "      <td>-0.236884</td>\n",
              "      <td>-0.405544</td>\n",
              "      <td>-0.212333</td>\n",
              "      <td>-0.819738</td>\n",
              "      <td>-0.772927</td>\n",
              "      <td>2.1843</td>\n",
              "      <td>-0.23142</td>\n",
              "      <td>-1.188475</td>\n",
              "      <td>1.188475</td>\n",
              "      <td>-0.316476</td>\n",
              "      <td>-0.722261</td>\n",
              "      <td>-0.411623</td>\n",
              "      <td>-0.277066</td>\n",
              "      <td>-0.083831</td>\n",
              "      <td>1.384055</td>\n",
              "      <td>-0.228745</td>\n",
              "      <td>-0.212129</td>\n",
              "      <td>-0.351974</td>\n",
              "      <td>-0.283647</td>\n",
              "      <td>-0.155576</td>\n",
              "      <td>-0.263896</td>\n",
              "      <td>-0.230848</td>\n",
              "      <td>-0.201709</td>\n",
              "      <td>-0.307291</td>\n",
              "      <td>-0.377793</td>\n",
              "      <td>2.403316</td>\n",
              "      <td>-0.476959</td>\n",
              "      <td>-0.397019</td>\n",
              "      <td>-0.411359</td>\n",
              "      <td>-0.434941</td>\n",
              "      <td>2.454602</td>\n",
              "      <td>-0.388681</td>\n",
              "      <td>-0.267658</td>\n",
              "      <td>-0.269863</td>\n",
              "      <td>-0.273733</td>\n",
              "      <td>-0.298869</td>\n",
              "      <td>-0.4933</td>\n",
              "      <td>-0.304657</td>\n",
              "      <td>-0.168465</td>\n",
              "      <td>-0.612239</td>\n",
              "      <td>1.177284</td>\n",
              "      <td>-0.583028</td>\n",
              "      <td>-0.405279</td>\n",
              "      <td>-0.310219</td>\n",
              "      <td>-0.629525</td>\n",
              "      <td>1.811182</td>\n",
              "      <td>1.276645</td>\n",
              "      <td>-0.711991</td>\n",
              "      <td>-0.377382</td>\n",
              "      <td>-0.414517</td>\n",
              "      <td>-0.110458</td>\n",
              "      <td>-0.859274</td>\n",
              "      <td>1.596594</td>\n",
              "      <td>-0.336409</td>\n",
              "      <td>-0.459712</td>\n",
              "      <td>-0.132944</td>\n",
              "      <td>1.627815</td>\n",
              "      <td>-0.247526</td>\n",
              "      <td>-0.146231</td>\n",
              "      <td>-0.958969</td>\n",
              "      <td>-0.449807</td>\n",
              "      <td>1.12768</td>\n",
              "      <td>-1.12768</td>\n",
              "      <td>0.362279</td>\n",
              "      <td>-0.362279</td>\n",
              "      <td>0.524183</td>\n",
              "      <td>-0.524183</td>\n",
              "      <td>-0.524183</td>\n",
              "      <td>0.524183</td>\n",
              "      <td>-0.872875</td>\n",
              "      <td>0.872875</td>\n",
              "    </tr>\n",
              "    <tr>\n",
              "      <th>1</th>\n",
              "      <td>-0.586813</td>\n",
              "      <td>1.006205</td>\n",
              "      <td>-0.57265</td>\n",
              "      <td>-1.162641</td>\n",
              "      <td>1.682408</td>\n",
              "      <td>-0.293643</td>\n",
              "      <td>-0.304346</td>\n",
              "      <td>-0.324599</td>\n",
              "      <td>-0.35297</td>\n",
              "      <td>0.509524</td>\n",
              "      <td>-0.472946</td>\n",
              "      <td>-0.660469</td>\n",
              "      <td>0.973391</td>\n",
              "      <td>2.133687</td>\n",
              "      <td>-0.434038</td>\n",
              "      <td>-0.434941</td>\n",
              "      <td>-0.585592</td>\n",
              "      <td>-0.57265</td>\n",
              "      <td>-0.435457</td>\n",
              "      <td>-0.477835</td>\n",
              "      <td>1.470100</td>\n",
              "      <td>-0.365772</td>\n",
              "      <td>-0.531674</td>\n",
              "      <td>-1.122614</td>\n",
              "      <td>1.122614</td>\n",
              "      <td>0.974319</td>\n",
              "      <td>-0.974319</td>\n",
              "      <td>1.942395</td>\n",
              "      <td>-0.50322</td>\n",
              "      <td>-0.436616</td>\n",
              "      <td>-0.341498</td>\n",
              "      <td>-0.307446</td>\n",
              "      <td>-0.236884</td>\n",
              "      <td>-0.405544</td>\n",
              "      <td>-0.212333</td>\n",
              "      <td>-0.819738</td>\n",
              "      <td>-0.772927</td>\n",
              "      <td>2.1843</td>\n",
              "      <td>-0.23142</td>\n",
              "      <td>-1.188475</td>\n",
              "      <td>1.188475</td>\n",
              "      <td>-0.316476</td>\n",
              "      <td>-0.722261</td>\n",
              "      <td>-0.411623</td>\n",
              "      <td>-0.277066</td>\n",
              "      <td>-0.083831</td>\n",
              "      <td>1.384055</td>\n",
              "      <td>-0.228745</td>\n",
              "      <td>-0.212129</td>\n",
              "      <td>-0.351974</td>\n",
              "      <td>-0.283647</td>\n",
              "      <td>-0.155576</td>\n",
              "      <td>-0.263896</td>\n",
              "      <td>-0.230848</td>\n",
              "      <td>-0.201709</td>\n",
              "      <td>-0.307291</td>\n",
              "      <td>-0.377793</td>\n",
              "      <td>2.403316</td>\n",
              "      <td>-0.476959</td>\n",
              "      <td>-0.397019</td>\n",
              "      <td>-0.411359</td>\n",
              "      <td>-0.434941</td>\n",
              "      <td>2.454602</td>\n",
              "      <td>-0.388681</td>\n",
              "      <td>-0.267658</td>\n",
              "      <td>-0.269863</td>\n",
              "      <td>-0.273733</td>\n",
              "      <td>-0.298869</td>\n",
              "      <td>-0.4933</td>\n",
              "      <td>-0.304657</td>\n",
              "      <td>-0.168465</td>\n",
              "      <td>-0.612239</td>\n",
              "      <td>1.177284</td>\n",
              "      <td>-0.583028</td>\n",
              "      <td>-0.405279</td>\n",
              "      <td>-0.310219</td>\n",
              "      <td>-0.629525</td>\n",
              "      <td>1.811182</td>\n",
              "      <td>1.276645</td>\n",
              "      <td>-0.711991</td>\n",
              "      <td>-0.377382</td>\n",
              "      <td>-0.414517</td>\n",
              "      <td>-0.110458</td>\n",
              "      <td>-0.859274</td>\n",
              "      <td>1.596594</td>\n",
              "      <td>-0.336409</td>\n",
              "      <td>-0.459712</td>\n",
              "      <td>-0.132944</td>\n",
              "      <td>1.627815</td>\n",
              "      <td>-0.247526</td>\n",
              "      <td>-0.146231</td>\n",
              "      <td>-0.958969</td>\n",
              "      <td>-0.449807</td>\n",
              "      <td>1.12768</td>\n",
              "      <td>-1.12768</td>\n",
              "      <td>0.362279</td>\n",
              "      <td>-0.362279</td>\n",
              "      <td>0.524183</td>\n",
              "      <td>-0.524183</td>\n",
              "      <td>-0.524183</td>\n",
              "      <td>0.524183</td>\n",
              "      <td>1.145639</td>\n",
              "      <td>-1.145639</td>\n",
              "    </tr>\n",
              "  </tbody>\n",
              "</table>\n",
              "</div>"
            ],
            "text/plain": [
              "   destination_Home  destination_No Urgent Place  destination_Work  \\\n",
              "0         -0.586813                     1.006205          -0.57265   \n",
              "1         -0.586813                     1.006205          -0.57265   \n",
              "\n",
              "   passanger_Alone  passanger_Friend(s)  passanger_Kid(s)  passanger_Partner  \\\n",
              "0         0.860111            -0.594386         -0.293643          -0.304346   \n",
              "1        -1.162641             1.682408         -0.293643          -0.304346   \n",
              "\n",
              "   weather_Rainy  weather_Snowy  weather_Sunny  temperature_30  \\\n",
              "0      -0.324599       -0.35297       0.509524       -0.472946   \n",
              "1      -0.324599       -0.35297       0.509524       -0.472946   \n",
              "\n",
              "   temperature_55  temperature_80  time_10AM  time_10PM  time_2PM  time_6PM  \\\n",
              "0        1.514077       -1.027336  -0.468672  -0.434038  2.299161 -0.585592   \n",
              "1       -0.660469        0.973391   2.133687  -0.434038 -0.434941 -0.585592   \n",
              "\n",
              "   time_7AM  coupon_Bar  coupon_Carry out & Take away  coupon_Coffee House  \\\n",
              "0  -0.57265   -0.435457                     -0.477835            -0.680226   \n",
              "1  -0.57265   -0.435457                     -0.477835             1.470100   \n",
              "\n",
              "   coupon_Restaurant(20-50)  coupon_Restaurant(<20)  expiration_1d  \\\n",
              "0                 -0.365772                1.880852       0.890778   \n",
              "1                 -0.365772               -0.531674      -1.122614   \n",
              "\n",
              "   expiration_2h  gender_Female  gender_Male    age_21   age_26    age_31  \\\n",
              "0      -0.890778       0.974319    -0.974319  1.942395 -0.50322 -0.436616   \n",
              "1       1.122614       0.974319    -0.974319  1.942395 -0.50322 -0.436616   \n",
              "\n",
              "     age_36    age_41    age_46  age_50plus  age_below21  \\\n",
              "0 -0.341498 -0.307446 -0.236884   -0.405544    -0.212333   \n",
              "1 -0.341498 -0.307446 -0.236884   -0.405544    -0.212333   \n",
              "\n",
              "   maritalStatus_Married partner  maritalStatus_Single  \\\n",
              "0                      -0.819738             -0.772927   \n",
              "1                      -0.819738             -0.772927   \n",
              "\n",
              "   maritalStatus_Unmarried partner  maritalStatus_others  has_children_0  \\\n",
              "0                           2.1843              -0.23142       -1.188475   \n",
              "1                           2.1843              -0.23142       -1.188475   \n",
              "\n",
              "   has_children_1  education_Associates degree  education_Bachelors degree  \\\n",
              "0        1.188475                    -0.316476                   -0.722261   \n",
              "1        1.188475                    -0.316476                   -0.722261   \n",
              "\n",
              "   education_Graduate degree (Masters or Doctorate)  \\\n",
              "0                                         -0.411623   \n",
              "1                                         -0.411623   \n",
              "\n",
              "   education_High School Graduate  education_Some High School  \\\n",
              "0                       -0.277066                   -0.083831   \n",
              "1                       -0.277066                   -0.083831   \n",
              "\n",
              "   education_Some college - no degree  \\\n",
              "0                            1.384055   \n",
              "1                            1.384055   \n",
              "\n",
              "   occupation_Arts Design Entertainment Sports & Media  \\\n",
              "0                                          -0.228745     \n",
              "1                                          -0.228745     \n",
              "\n",
              "   occupation_Business & Financial  occupation_Computer & Mathematical  \\\n",
              "0                        -0.212129                           -0.351974   \n",
              "1                        -0.212129                           -0.351974   \n",
              "\n",
              "   occupation_Education&Training&Library  \\\n",
              "0                              -0.283647   \n",
              "1                              -0.283647   \n",
              "\n",
              "   occupation_Food Preparation & Serving Related  occupation_Management  \\\n",
              "0                                      -0.155576              -0.263896   \n",
              "1                                      -0.155576              -0.263896   \n",
              "\n",
              "   occupation_Office & Administrative Support  occupation_Retired  \\\n",
              "0                                   -0.230848           -0.201709   \n",
              "1                                   -0.230848           -0.201709   \n",
              "\n",
              "   occupation_Sales & Related  occupation_Student  occupation_Unemployed  \\\n",
              "0                   -0.307291           -0.377793               2.403316   \n",
              "1                   -0.307291           -0.377793               2.403316   \n",
              "\n",
              "   occupation_others  income_$100000 or More  income_$12500 - $24999  \\\n",
              "0          -0.476959               -0.397019               -0.411359   \n",
              "1          -0.476959               -0.397019               -0.411359   \n",
              "\n",
              "   income_$25000 - $37499  income_$37500 - $49999  income_$50000 - $62499  \\\n",
              "0               -0.434941                2.454602               -0.388681   \n",
              "1               -0.434941                2.454602               -0.388681   \n",
              "\n",
              "   income_$62500 - $74999  income_$75000 - $87499  income_$87500 - $99999  \\\n",
              "0               -0.267658               -0.269863               -0.273733   \n",
              "1               -0.267658               -0.269863               -0.273733   \n",
              "\n",
              "   income_Less than $12500  Bar_1~3   Bar_4~8   Bar_gt8  Bar_less1  Bar_never  \\\n",
              "0                -0.298869  -0.4933 -0.304657 -0.168465  -0.612239   1.177284   \n",
              "1                -0.298869  -0.4933 -0.304657 -0.168465  -0.612239   1.177284   \n",
              "\n",
              "   CoffeeHouse_1~3  CoffeeHouse_4~8  CoffeeHouse_gt8  CoffeeHouse_less1  \\\n",
              "0        -0.583028        -0.405279        -0.310219          -0.629525   \n",
              "1        -0.583028        -0.405279        -0.310219          -0.629525   \n",
              "\n",
              "   CoffeeHouse_never  CarryAway_1~3  CarryAway_4~8  CarryAway_gt8  \\\n",
              "0           1.811182       1.276645      -0.711991      -0.377382   \n",
              "1           1.811182       1.276645      -0.711991      -0.377382   \n",
              "\n",
              "   CarryAway_less1  CarryAway_never  RestaurantLessThan20_1~3  \\\n",
              "0        -0.414517        -0.110458                 -0.859274   \n",
              "1        -0.414517        -0.110458                 -0.859274   \n",
              "\n",
              "   RestaurantLessThan20_4~8  RestaurantLessThan20_gt8  \\\n",
              "0                  1.596594                 -0.336409   \n",
              "1                  1.596594                 -0.336409   \n",
              "\n",
              "   RestaurantLessThan20_less1  RestaurantLessThan20_never  \\\n",
              "0                   -0.459712                   -0.132944   \n",
              "1                   -0.459712                   -0.132944   \n",
              "\n",
              "   Restaurant20To50_1~3  Restaurant20To50_4~8  Restaurant20To50_gt8  \\\n",
              "0              1.627815             -0.247526             -0.146231   \n",
              "1              1.627815             -0.247526             -0.146231   \n",
              "\n",
              "   Restaurant20To50_less1  Restaurant20To50_never  toCoupon_GEQ15min_0  \\\n",
              "0               -0.958969               -0.449807              1.12768   \n",
              "1               -0.958969               -0.449807              1.12768   \n",
              "\n",
              "   toCoupon_GEQ15min_1  toCoupon_GEQ25min_0  toCoupon_GEQ25min_1  \\\n",
              "0             -1.12768             0.362279            -0.362279   \n",
              "1             -1.12768             0.362279            -0.362279   \n",
              "\n",
              "   direction_same_0  direction_same_1  direction_opp_0  direction_opp_1  \\\n",
              "0          0.524183         -0.524183        -0.524183         0.524183   \n",
              "1          0.524183         -0.524183        -0.524183         0.524183   \n",
              "\n",
              "        Y_0       Y_1  \n",
              "0 -0.872875  0.872875  \n",
              "1  1.145639 -1.145639  "
            ]
          },
          "metadata": {
            "tags": []
          },
          "execution_count": 46
        }
      ]
    },
    {
      "cell_type": "code",
      "metadata": {
        "id": "e5tK8Fmdb8dE"
      },
      "source": [
        "from sklearn.metrics import silhouette_score, silhouette_samples\n",
        "from sklearn.cluster import KMeans\n",
        "from scipy.cluster.hierarchy import cophenet\n",
        "np.set_printoptions(suppress = True)\n",
        "from sklearn.metrics import silhouette_score, silhouette_samples"
      ],
      "execution_count": 47,
      "outputs": []
    },
    {
      "cell_type": "markdown",
      "metadata": {
        "id": "mwoN2G9RcJ4V"
      },
      "source": [
        "ELBOW PLOT"
      ]
    },
    {
      "cell_type": "code",
      "metadata": {
        "colab": {
          "base_uri": "https://localhost:8080/",
          "height": 302
        },
        "id": "tz_70UyfcMMT",
        "outputId": "b0022eb1-8b8e-4853-ffdf-7da114026d77"
      },
      "source": [
        "wcss  = []\n",
        "for i in range(1,15):\n",
        "    kmeans = KMeans(n_clusters = i, random_state = 10)\n",
        "    kmeans.fit(X)\n",
        "    wcss.append(kmeans.inertia_)\n",
        "plt.plot(range(1,15), wcss)\n",
        "plt.title('Elbow Plot', fontsize = 15)\n",
        "plt.xlabel('No. of clusters (K)', fontsize = 15)\n",
        "plt.ylabel('WCSS', fontsize = 15)\n",
        "plt.show()"
      ],
      "execution_count": 48,
      "outputs": [
        {
          "output_type": "display_data",
          "data": {
            "image/png": "[encoded data removed]",
            "text/plain": [
              "<Figure size 432x288 with 1 Axes>"
            ]
          },
          "metadata": {
            "tags": [],
            "needs_background": "light"
          }
        }
      ]
    },
    {
      "cell_type": "markdown",
      "metadata": {
        "id": "pA4ZTaNOdtRb"
      },
      "source": [
        "Silhoutte Score"
      ]
    },
    {
      "cell_type": "code",
      "metadata": {
        "colab": {
          "base_uri": "https://localhost:8080/"
        },
        "id": "I7kbOvgIdyes",
        "outputId": "ff2c070d-1450-41b0-8398-0632fe42f0ca"
      },
      "source": [
        "n_clusters = [2, 3, 4,5,6,7,8,9,10]\n",
        "for K in n_clusters:\n",
        "    cluster = KMeans (n_clusters= K, random_state= 10)\n",
        "    predict = cluster.fit_predict(X)\n",
        "    score = silhouette_score(X, predict, random_state= 10)\n",
        "    print (\"For {} clusters the silhouette score is {})\".format(K, score))"
      ],
      "execution_count": 49,
      "outputs": [
        {
          "output_type": "stream",
          "text": [
            "For 2 clusters the silhouette score is 0.06369564831921747)\n",
            "For 3 clusters the silhouette score is 0.06172613005340751)\n",
            "For 4 clusters the silhouette score is 0.048106060771617734)\n",
            "For 5 clusters the silhouette score is 0.04594857208121583)\n",
            "For 6 clusters the silhouette score is 0.04400196262558875)\n",
            "For 7 clusters the silhouette score is 0.04492627050893587)\n",
            "For 8 clusters the silhouette score is 0.048366547265623006)\n",
            "For 9 clusters the silhouette score is 0.049421539773437925)\n",
            "For 10 clusters the silhouette score is 0.04464644891302326)\n"
          ],
          "name": "stdout"
        }
      ]
    },
    {
      "cell_type": "code",
      "metadata": {
        "colab": {
          "base_uri": "https://localhost:8080/",
          "height": 1000
        },
        "id": "dPq4OH9rfak2",
        "outputId": "0aa60ed1-991b-41e6-a4c5-ddfabe48665f"
      },
      "source": [
        "import matplotlib.cm as cm\n",
        "\n",
        "\n",
        "# consider the number of clusters\n",
        "n_clusters = [2, 3, 4]\n",
        "\n",
        "# consider an array of the data\n",
        "X = np.array(X)\n",
        "\n",
        "# for each value of K, plot the silhouette plot the clusters formed\n",
        "for K in n_clusters:\n",
        "    \n",
        "    # create a subplot with 1 row and 2 columns\n",
        "    fig, (ax1, ax2) = plt.subplots(1, 2)\n",
        "    \n",
        "    # set the figure size\n",
        "    fig.set_size_inches(18, 7)\n",
        "\n",
        "    # the 1st subplot is the silhouette plot\n",
        "    # initialize the cluster with 'K' value and a random generator\n",
        "    model = KMeans(n_clusters = K, random_state = 10)\n",
        "    \n",
        "    # fit and predict on the scaled data\n",
        "    cluster_labels = model.fit_predict(X)\n",
        "\n",
        "    # the 'silhouette_score()' gives the average value for all the samples\n",
        "    silhouette_avg = silhouette_score(X, cluster_labels)\n",
        "    \n",
        "    # Compute the silhouette coefficient for each sample\n",
        "    sample_silhouette_values = silhouette_samples(X, cluster_labels)\n",
        "\n",
        "    y_lower = 10\n",
        "    for i in range(K):\n",
        "        \n",
        "        # aggregate the silhouette scores for samples belonging to cluster i, and sort them\n",
        "        ith_cluster_silhouette_values = sample_silhouette_values[cluster_labels == i]\n",
        "        \n",
        "        # sort the silhouette coefficient\n",
        "        ith_cluster_silhouette_values.sort()\n",
        "        \n",
        "        # calculate the size of the cluster\n",
        "        size_cluster_i = ith_cluster_silhouette_values.shape[0]\n",
        "        y_upper = y_lower + size_cluster_i\n",
        "\n",
        "        # color each cluster \n",
        "        color = cm.nipy_spectral(float(i) / K)\n",
        "        ax1.fill_betweenx(np.arange(y_lower, y_upper),\n",
        "                          0, ith_cluster_silhouette_values,\n",
        "                          facecolor=color, edgecolor=color, alpha=0.7)\n",
        "\n",
        "        # label the silhouette plots with their cluster numbers at the middle\n",
        "        ax1.text(-0.05, y_lower + 0.5 * size_cluster_i, str(i))\n",
        "\n",
        "        # compute the new y_lower for next plot\n",
        "        y_lower = y_upper + 10 \n",
        "\n",
        "    # set the axes and plot label\n",
        "    ax1.set_title(\"Silhouette Plot\")\n",
        "    ax1.set_xlabel(\"Silhouette coefficient\")\n",
        "    ax1.set_ylabel(\"Cluster label\")\n",
        "\n",
        "    # plot the vertical line for average silhouette score of all the values\n",
        "    ax1.axvline(x=silhouette_avg, color=\"red\", linestyle=\"--\")\n",
        "\n",
        "    # clear the y-axis ticks\n",
        "    ax1.set_yticks([])  \n",
        "    \n",
        "    # set the ticks for x-axis \n",
        "    ax1.set_xticks([-0.1, 0, 0.2, 0.4, 0.6, 0.8])\n",
        "\n",
        "    \n",
        "    # 2nd plot showing the actual clusters formed\n",
        "    # consider different color for each cluster\n",
        "    colors = cm.nipy_spectral(cluster_labels.astype(float) / K)\n",
        "    \n",
        "    # plot a scatter plot to visualize the clusters\n",
        "    ax2.scatter(X[:, 0], X[:, 1], marker='.', s=30, lw=0, alpha=0.7, c=colors, edgecolor='k')\n",
        "\n",
        "    # label the cluster centers\n",
        "    centers = model.cluster_centers_\n",
        "    \n",
        "    # display the cluster center with cluster number\n",
        "    for i, c in enumerate(centers):\n",
        "        ax2.scatter(c[0], c[1], marker='$%d$' % i, alpha=1, s=50, edgecolor='k')\n",
        "    \n",
        "    # add the axes and plot title\n",
        "    ax2.set_title(\"Clusters\")\n",
        "    ax2.set_xlabel(\"Spending Score\")\n",
        "    ax2.set_ylabel(\"Annual Income\")\n",
        "    \n",
        "    # set the common title for subplots\n",
        "    plt.suptitle((\"Silhouette Analysis for K-Means Clustering with n_clusters = %d\" % K), fontsize=14, \n",
        "                 fontweight='bold')\n",
        "\n",
        "# display the plot\n",
        "plt.show()"
      ],
      "execution_count": 50,
      "outputs": [
        {
          "output_type": "display_data",
          "data": {
            "image/png": "[encoded data removed]",
            "text/plain": [
              "<Figure size 1296x504 with 2 Axes>"
            ]
          },
          "metadata": {
            "tags": [],
            "needs_background": "light"
          }
        },
        {
          "output_type": "display_data",
          "data": {
            "image/png": "[encoded data removed]",
            "text/plain": [
              "<Figure size 1296x504 with 2 Axes>"
            ]
          },
          "metadata": {
            "tags": [],
            "needs_background": "light"
          }
        },
        {
          "output_type": "display_data",
          "data": {
            "image/png": "[encoded data removed]",
            "text/plain": [
              "<Figure size 1296x504 with 2 Axes>"
            ]
          },
          "metadata": {
            "tags": [],
            "needs_background": "light"
          }
        }
      ]
    },
    {
      "cell_type": "code",
      "metadata": {
        "colab": {
          "base_uri": "https://localhost:8080/",
          "height": 270
        },
        "id": "iiDXmu2ghBVV",
        "outputId": "f5cd72c2-85d6-425e-fa0f-08e625b321da"
      },
      "source": [
        "label3 = KMeans(n_clusters = 3, random_state = 10)\n",
        "label2= KMeans(n_clusters = 2,random_state =10)\n",
        "label3.fit(X)\n",
        "label2.fit(X)\n",
        "data1['Cluster1'] = label2.labels_\n",
        "data1['Cluster2'] = label3.labels_\n",
        "data1.head(5)"
      ],
      "execution_count": 51,
      "outputs": [
        {
          "output_type": "execute_result",
          "data": {
            "text/html": [
              "<div>\n",
              "<style scoped>\n",
              "    .dataframe tbody tr th:only-of-type {\n",
              "        vertical-align: middle;\n",
              "    }\n",
              "\n",
              "    .dataframe tbody tr th {\n",
              "        vertical-align: top;\n",
              "    }\n",
              "\n",
              "    .dataframe thead th {\n",
              "        text-align: right;\n",
              "    }\n",
              "</style>\n",
              "<table border=\"1\" class=\"dataframe\">\n",
              "  <thead>\n",
              "    <tr style=\"text-align: right;\">\n",
              "      <th></th>\n",
              "      <th>destination_Home</th>\n",
              "      <th>destination_No Urgent Place</th>\n",
              "      <th>destination_Work</th>\n",
              "      <th>passanger_Alone</th>\n",
              "      <th>passanger_Friend(s)</th>\n",
              "      <th>passanger_Kid(s)</th>\n",
              "      <th>passanger_Partner</th>\n",
              "      <th>weather_Rainy</th>\n",
              "      <th>weather_Snowy</th>\n",
              "      <th>weather_Sunny</th>\n",
              "      <th>temperature_30</th>\n",
              "      <th>temperature_55</th>\n",
              "      <th>temperature_80</th>\n",
              "      <th>time_10AM</th>\n",
              "      <th>time_10PM</th>\n",
              "      <th>time_2PM</th>\n",
              "      <th>time_6PM</th>\n",
              "      <th>time_7AM</th>\n",
              "      <th>coupon_Bar</th>\n",
              "      <th>coupon_Carry out &amp; Take away</th>\n",
              "      <th>coupon_Coffee House</th>\n",
              "      <th>coupon_Restaurant(20-50)</th>\n",
              "      <th>coupon_Restaurant(&lt;20)</th>\n",
              "      <th>expiration_1d</th>\n",
              "      <th>expiration_2h</th>\n",
              "      <th>gender_Female</th>\n",
              "      <th>gender_Male</th>\n",
              "      <th>age_21</th>\n",
              "      <th>age_26</th>\n",
              "      <th>age_31</th>\n",
              "      <th>age_36</th>\n",
              "      <th>age_41</th>\n",
              "      <th>age_46</th>\n",
              "      <th>age_50plus</th>\n",
              "      <th>age_below21</th>\n",
              "      <th>maritalStatus_Married partner</th>\n",
              "      <th>maritalStatus_Single</th>\n",
              "      <th>maritalStatus_Unmarried partner</th>\n",
              "      <th>maritalStatus_others</th>\n",
              "      <th>has_children_0</th>\n",
              "      <th>has_children_1</th>\n",
              "      <th>education_Associates degree</th>\n",
              "      <th>education_Bachelors degree</th>\n",
              "      <th>education_Graduate degree (Masters or Doctorate)</th>\n",
              "      <th>education_High School Graduate</th>\n",
              "      <th>education_Some High School</th>\n",
              "      <th>education_Some college - no degree</th>\n",
              "      <th>occupation_Arts Design Entertainment Sports &amp; Media</th>\n",
              "      <th>occupation_Business &amp; Financial</th>\n",
              "      <th>occupation_Computer &amp; Mathematical</th>\n",
              "      <th>occupation_Education&amp;Training&amp;Library</th>\n",
              "      <th>occupation_Food Preparation &amp; Serving Related</th>\n",
              "      <th>occupation_Management</th>\n",
              "      <th>occupation_Office &amp; Administrative Support</th>\n",
              "      <th>occupation_Retired</th>\n",
              "      <th>occupation_Sales &amp; Related</th>\n",
              "      <th>occupation_Student</th>\n",
              "      <th>occupation_Unemployed</th>\n",
              "      <th>occupation_others</th>\n",
              "      <th>income_$100000 or More</th>\n",
              "      <th>income_$12500 - $24999</th>\n",
              "      <th>income_$25000 - $37499</th>\n",
              "      <th>income_$37500 - $49999</th>\n",
              "      <th>income_$50000 - $62499</th>\n",
              "      <th>income_$62500 - $74999</th>\n",
              "      <th>income_$75000 - $87499</th>\n",
              "      <th>income_$87500 - $99999</th>\n",
              "      <th>income_Less than $12500</th>\n",
              "      <th>Bar_1~3</th>\n",
              "      <th>Bar_4~8</th>\n",
              "      <th>Bar_gt8</th>\n",
              "      <th>Bar_less1</th>\n",
              "      <th>Bar_never</th>\n",
              "      <th>CoffeeHouse_1~3</th>\n",
              "      <th>CoffeeHouse_4~8</th>\n",
              "      <th>CoffeeHouse_gt8</th>\n",
              "      <th>CoffeeHouse_less1</th>\n",
              "      <th>CoffeeHouse_never</th>\n",
              "      <th>CarryAway_1~3</th>\n",
              "      <th>CarryAway_4~8</th>\n",
              "      <th>CarryAway_gt8</th>\n",
              "      <th>CarryAway_less1</th>\n",
              "      <th>CarryAway_never</th>\n",
              "      <th>RestaurantLessThan20_1~3</th>\n",
              "      <th>RestaurantLessThan20_4~8</th>\n",
              "      <th>RestaurantLessThan20_gt8</th>\n",
              "      <th>RestaurantLessThan20_less1</th>\n",
              "      <th>RestaurantLessThan20_never</th>\n",
              "      <th>Restaurant20To50_1~3</th>\n",
              "      <th>Restaurant20To50_4~8</th>\n",
              "      <th>Restaurant20To50_gt8</th>\n",
              "      <th>Restaurant20To50_less1</th>\n",
              "      <th>Restaurant20To50_never</th>\n",
              "      <th>toCoupon_GEQ15min_0</th>\n",
              "      <th>toCoupon_GEQ15min_1</th>\n",
              "      <th>toCoupon_GEQ25min_0</th>\n",
              "      <th>toCoupon_GEQ25min_1</th>\n",
              "      <th>direction_same_0</th>\n",
              "      <th>direction_same_1</th>\n",
              "      <th>direction_opp_0</th>\n",
              "      <th>direction_opp_1</th>\n",
              "      <th>Y_0</th>\n",
              "      <th>Y_1</th>\n",
              "      <th>Cluster1</th>\n",
              "      <th>Cluster2</th>\n",
              "    </tr>\n",
              "  </thead>\n",
              "  <tbody>\n",
              "    <tr>\n",
              "      <th>0</th>\n",
              "      <td>0</td>\n",
              "      <td>1</td>\n",
              "      <td>0</td>\n",
              "      <td>1</td>\n",
              "      <td>0</td>\n",
              "      <td>0</td>\n",
              "      <td>0</td>\n",
              "      <td>0</td>\n",
              "      <td>0</td>\n",
              "      <td>1</td>\n",
              "      <td>0</td>\n",
              "      <td>1</td>\n",
              "      <td>0</td>\n",
              "      <td>0</td>\n",
              "      <td>0</td>\n",
              "      <td>1</td>\n",
              "      <td>0</td>\n",
              "      <td>0</td>\n",
              "      <td>0</td>\n",
              "      <td>0</td>\n",
              "      <td>0</td>\n",
              "      <td>0</td>\n",
              "      <td>1</td>\n",
              "      <td>1</td>\n",
              "      <td>0</td>\n",
              "      <td>1</td>\n",
              "      <td>0</td>\n",
              "      <td>1</td>\n",
              "      <td>0</td>\n",
              "      <td>0</td>\n",
              "      <td>0</td>\n",
              "      <td>0</td>\n",
              "      <td>0</td>\n",
              "      <td>0</td>\n",
              "      <td>0</td>\n",
              "      <td>0</td>\n",
              "      <td>0</td>\n",
              "      <td>1</td>\n",
              "      <td>0</td>\n",
              "      <td>0</td>\n",
              "      <td>1</td>\n",
              "      <td>0</td>\n",
              "      <td>0</td>\n",
              "      <td>0</td>\n",
              "      <td>0</td>\n",
              "      <td>0</td>\n",
              "      <td>1</td>\n",
              "      <td>0</td>\n",
              "      <td>0</td>\n",
              "      <td>0</td>\n",
              "      <td>0</td>\n",
              "      <td>0</td>\n",
              "      <td>0</td>\n",
              "      <td>0</td>\n",
              "      <td>0</td>\n",
              "      <td>0</td>\n",
              "      <td>0</td>\n",
              "      <td>1</td>\n",
              "      <td>0</td>\n",
              "      <td>0</td>\n",
              "      <td>0</td>\n",
              "      <td>0</td>\n",
              "      <td>1</td>\n",
              "      <td>0</td>\n",
              "      <td>0</td>\n",
              "      <td>0</td>\n",
              "      <td>0</td>\n",
              "      <td>0</td>\n",
              "      <td>0</td>\n",
              "      <td>0</td>\n",
              "      <td>0</td>\n",
              "      <td>0</td>\n",
              "      <td>1</td>\n",
              "      <td>0</td>\n",
              "      <td>0</td>\n",
              "      <td>0</td>\n",
              "      <td>0</td>\n",
              "      <td>1</td>\n",
              "      <td>1</td>\n",
              "      <td>0</td>\n",
              "      <td>0</td>\n",
              "      <td>0</td>\n",
              "      <td>0</td>\n",
              "      <td>0</td>\n",
              "      <td>1</td>\n",
              "      <td>0</td>\n",
              "      <td>0</td>\n",
              "      <td>0</td>\n",
              "      <td>1</td>\n",
              "      <td>0</td>\n",
              "      <td>0</td>\n",
              "      <td>0</td>\n",
              "      <td>0</td>\n",
              "      <td>1</td>\n",
              "      <td>0</td>\n",
              "      <td>1</td>\n",
              "      <td>0</td>\n",
              "      <td>1</td>\n",
              "      <td>0</td>\n",
              "      <td>0</td>\n",
              "      <td>1</td>\n",
              "      <td>0</td>\n",
              "      <td>1</td>\n",
              "      <td>1</td>\n",
              "      <td>1</td>\n",
              "    </tr>\n",
              "    <tr>\n",
              "      <th>1</th>\n",
              "      <td>0</td>\n",
              "      <td>1</td>\n",
              "      <td>0</td>\n",
              "      <td>0</td>\n",
              "      <td>1</td>\n",
              "      <td>0</td>\n",
              "      <td>0</td>\n",
              "      <td>0</td>\n",
              "      <td>0</td>\n",
              "      <td>1</td>\n",
              "      <td>0</td>\n",
              "      <td>0</td>\n",
              "      <td>1</td>\n",
              "      <td>1</td>\n",
              "      <td>0</td>\n",
              "      <td>0</td>\n",
              "      <td>0</td>\n",
              "      <td>0</td>\n",
              "      <td>0</td>\n",
              "      <td>0</td>\n",
              "      <td>1</td>\n",
              "      <td>0</td>\n",
              "      <td>0</td>\n",
              "      <td>0</td>\n",
              "      <td>1</td>\n",
              "      <td>1</td>\n",
              "      <td>0</td>\n",
              "      <td>1</td>\n",
              "      <td>0</td>\n",
              "      <td>0</td>\n",
              "      <td>0</td>\n",
              "      <td>0</td>\n",
              "      <td>0</td>\n",
              "      <td>0</td>\n",
              "      <td>0</td>\n",
              "      <td>0</td>\n",
              "      <td>0</td>\n",
              "      <td>1</td>\n",
              "      <td>0</td>\n",
              "      <td>0</td>\n",
              "      <td>1</td>\n",
              "      <td>0</td>\n",
              "      <td>0</td>\n",
              "      <td>0</td>\n",
              "      <td>0</td>\n",
              "      <td>0</td>\n",
              "      <td>1</td>\n",
              "      <td>0</td>\n",
              "      <td>0</td>\n",
              "      <td>0</td>\n",
              "      <td>0</td>\n",
              "      <td>0</td>\n",
              "      <td>0</td>\n",
              "      <td>0</td>\n",
              "      <td>0</td>\n",
              "      <td>0</td>\n",
              "      <td>0</td>\n",
              "      <td>1</td>\n",
              "      <td>0</td>\n",
              "      <td>0</td>\n",
              "      <td>0</td>\n",
              "      <td>0</td>\n",
              "      <td>1</td>\n",
              "      <td>0</td>\n",
              "      <td>0</td>\n",
              "      <td>0</td>\n",
              "      <td>0</td>\n",
              "      <td>0</td>\n",
              "      <td>0</td>\n",
              "      <td>0</td>\n",
              "      <td>0</td>\n",
              "      <td>0</td>\n",
              "      <td>1</td>\n",
              "      <td>0</td>\n",
              "      <td>0</td>\n",
              "      <td>0</td>\n",
              "      <td>0</td>\n",
              "      <td>1</td>\n",
              "      <td>1</td>\n",
              "      <td>0</td>\n",
              "      <td>0</td>\n",
              "      <td>0</td>\n",
              "      <td>0</td>\n",
              "      <td>0</td>\n",
              "      <td>1</td>\n",
              "      <td>0</td>\n",
              "      <td>0</td>\n",
              "      <td>0</td>\n",
              "      <td>1</td>\n",
              "      <td>0</td>\n",
              "      <td>0</td>\n",
              "      <td>0</td>\n",
              "      <td>0</td>\n",
              "      <td>1</td>\n",
              "      <td>0</td>\n",
              "      <td>1</td>\n",
              "      <td>0</td>\n",
              "      <td>1</td>\n",
              "      <td>0</td>\n",
              "      <td>0</td>\n",
              "      <td>1</td>\n",
              "      <td>1</td>\n",
              "      <td>0</td>\n",
              "      <td>1</td>\n",
              "      <td>1</td>\n",
              "    </tr>\n",
              "    <tr>\n",
              "      <th>2</th>\n",
              "      <td>0</td>\n",
              "      <td>1</td>\n",
              "      <td>0</td>\n",
              "      <td>0</td>\n",
              "      <td>1</td>\n",
              "      <td>0</td>\n",
              "      <td>0</td>\n",
              "      <td>0</td>\n",
              "      <td>0</td>\n",
              "      <td>1</td>\n",
              "      <td>0</td>\n",
              "      <td>0</td>\n",
              "      <td>1</td>\n",
              "      <td>1</td>\n",
              "      <td>0</td>\n",
              "      <td>0</td>\n",
              "      <td>0</td>\n",
              "      <td>0</td>\n",
              "      <td>0</td>\n",
              "      <td>1</td>\n",
              "      <td>0</td>\n",
              "      <td>0</td>\n",
              "      <td>0</td>\n",
              "      <td>0</td>\n",
              "      <td>1</td>\n",
              "      <td>1</td>\n",
              "      <td>0</td>\n",
              "      <td>1</td>\n",
              "      <td>0</td>\n",
              "      <td>0</td>\n",
              "      <td>0</td>\n",
              "      <td>0</td>\n",
              "      <td>0</td>\n",
              "      <td>0</td>\n",
              "      <td>0</td>\n",
              "      <td>0</td>\n",
              "      <td>0</td>\n",
              "      <td>1</td>\n",
              "      <td>0</td>\n",
              "      <td>0</td>\n",
              "      <td>1</td>\n",
              "      <td>0</td>\n",
              "      <td>0</td>\n",
              "      <td>0</td>\n",
              "      <td>0</td>\n",
              "      <td>0</td>\n",
              "      <td>1</td>\n",
              "      <td>0</td>\n",
              "      <td>0</td>\n",
              "      <td>0</td>\n",
              "      <td>0</td>\n",
              "      <td>0</td>\n",
              "      <td>0</td>\n",
              "      <td>0</td>\n",
              "      <td>0</td>\n",
              "      <td>0</td>\n",
              "      <td>0</td>\n",
              "      <td>1</td>\n",
              "      <td>0</td>\n",
              "      <td>0</td>\n",
              "      <td>0</td>\n",
              "      <td>0</td>\n",
              "      <td>1</td>\n",
              "      <td>0</td>\n",
              "      <td>0</td>\n",
              "      <td>0</td>\n",
              "      <td>0</td>\n",
              "      <td>0</td>\n",
              "      <td>0</td>\n",
              "      <td>0</td>\n",
              "      <td>0</td>\n",
              "      <td>0</td>\n",
              "      <td>1</td>\n",
              "      <td>0</td>\n",
              "      <td>0</td>\n",
              "      <td>0</td>\n",
              "      <td>0</td>\n",
              "      <td>1</td>\n",
              "      <td>1</td>\n",
              "      <td>0</td>\n",
              "      <td>0</td>\n",
              "      <td>0</td>\n",
              "      <td>0</td>\n",
              "      <td>0</td>\n",
              "      <td>1</td>\n",
              "      <td>0</td>\n",
              "      <td>0</td>\n",
              "      <td>0</td>\n",
              "      <td>1</td>\n",
              "      <td>0</td>\n",
              "      <td>0</td>\n",
              "      <td>0</td>\n",
              "      <td>0</td>\n",
              "      <td>0</td>\n",
              "      <td>1</td>\n",
              "      <td>1</td>\n",
              "      <td>0</td>\n",
              "      <td>1</td>\n",
              "      <td>0</td>\n",
              "      <td>0</td>\n",
              "      <td>1</td>\n",
              "      <td>0</td>\n",
              "      <td>1</td>\n",
              "      <td>1</td>\n",
              "      <td>1</td>\n",
              "    </tr>\n",
              "    <tr>\n",
              "      <th>3</th>\n",
              "      <td>0</td>\n",
              "      <td>1</td>\n",
              "      <td>0</td>\n",
              "      <td>0</td>\n",
              "      <td>1</td>\n",
              "      <td>0</td>\n",
              "      <td>0</td>\n",
              "      <td>0</td>\n",
              "      <td>0</td>\n",
              "      <td>1</td>\n",
              "      <td>0</td>\n",
              "      <td>0</td>\n",
              "      <td>1</td>\n",
              "      <td>0</td>\n",
              "      <td>0</td>\n",
              "      <td>1</td>\n",
              "      <td>0</td>\n",
              "      <td>0</td>\n",
              "      <td>0</td>\n",
              "      <td>0</td>\n",
              "      <td>1</td>\n",
              "      <td>0</td>\n",
              "      <td>0</td>\n",
              "      <td>0</td>\n",
              "      <td>1</td>\n",
              "      <td>1</td>\n",
              "      <td>0</td>\n",
              "      <td>1</td>\n",
              "      <td>0</td>\n",
              "      <td>0</td>\n",
              "      <td>0</td>\n",
              "      <td>0</td>\n",
              "      <td>0</td>\n",
              "      <td>0</td>\n",
              "      <td>0</td>\n",
              "      <td>0</td>\n",
              "      <td>0</td>\n",
              "      <td>1</td>\n",
              "      <td>0</td>\n",
              "      <td>0</td>\n",
              "      <td>1</td>\n",
              "      <td>0</td>\n",
              "      <td>0</td>\n",
              "      <td>0</td>\n",
              "      <td>0</td>\n",
              "      <td>0</td>\n",
              "      <td>1</td>\n",
              "      <td>0</td>\n",
              "      <td>0</td>\n",
              "      <td>0</td>\n",
              "      <td>0</td>\n",
              "      <td>0</td>\n",
              "      <td>0</td>\n",
              "      <td>0</td>\n",
              "      <td>0</td>\n",
              "      <td>0</td>\n",
              "      <td>0</td>\n",
              "      <td>1</td>\n",
              "      <td>0</td>\n",
              "      <td>0</td>\n",
              "      <td>0</td>\n",
              "      <td>0</td>\n",
              "      <td>1</td>\n",
              "      <td>0</td>\n",
              "      <td>0</td>\n",
              "      <td>0</td>\n",
              "      <td>0</td>\n",
              "      <td>0</td>\n",
              "      <td>0</td>\n",
              "      <td>0</td>\n",
              "      <td>0</td>\n",
              "      <td>0</td>\n",
              "      <td>1</td>\n",
              "      <td>0</td>\n",
              "      <td>0</td>\n",
              "      <td>0</td>\n",
              "      <td>0</td>\n",
              "      <td>1</td>\n",
              "      <td>1</td>\n",
              "      <td>0</td>\n",
              "      <td>0</td>\n",
              "      <td>0</td>\n",
              "      <td>0</td>\n",
              "      <td>0</td>\n",
              "      <td>1</td>\n",
              "      <td>0</td>\n",
              "      <td>0</td>\n",
              "      <td>0</td>\n",
              "      <td>1</td>\n",
              "      <td>0</td>\n",
              "      <td>0</td>\n",
              "      <td>0</td>\n",
              "      <td>0</td>\n",
              "      <td>0</td>\n",
              "      <td>1</td>\n",
              "      <td>1</td>\n",
              "      <td>0</td>\n",
              "      <td>1</td>\n",
              "      <td>0</td>\n",
              "      <td>0</td>\n",
              "      <td>1</td>\n",
              "      <td>1</td>\n",
              "      <td>0</td>\n",
              "      <td>1</td>\n",
              "      <td>1</td>\n",
              "    </tr>\n",
              "    <tr>\n",
              "      <th>4</th>\n",
              "      <td>0</td>\n",
              "      <td>1</td>\n",
              "      <td>0</td>\n",
              "      <td>0</td>\n",
              "      <td>1</td>\n",
              "      <td>0</td>\n",
              "      <td>0</td>\n",
              "      <td>0</td>\n",
              "      <td>0</td>\n",
              "      <td>1</td>\n",
              "      <td>0</td>\n",
              "      <td>0</td>\n",
              "      <td>1</td>\n",
              "      <td>0</td>\n",
              "      <td>0</td>\n",
              "      <td>1</td>\n",
              "      <td>0</td>\n",
              "      <td>0</td>\n",
              "      <td>0</td>\n",
              "      <td>0</td>\n",
              "      <td>1</td>\n",
              "      <td>0</td>\n",
              "      <td>0</td>\n",
              "      <td>1</td>\n",
              "      <td>0</td>\n",
              "      <td>1</td>\n",
              "      <td>0</td>\n",
              "      <td>1</td>\n",
              "      <td>0</td>\n",
              "      <td>0</td>\n",
              "      <td>0</td>\n",
              "      <td>0</td>\n",
              "      <td>0</td>\n",
              "      <td>0</td>\n",
              "      <td>0</td>\n",
              "      <td>0</td>\n",
              "      <td>0</td>\n",
              "      <td>1</td>\n",
              "      <td>0</td>\n",
              "      <td>0</td>\n",
              "      <td>1</td>\n",
              "      <td>0</td>\n",
              "      <td>0</td>\n",
              "      <td>0</td>\n",
              "      <td>0</td>\n",
              "      <td>0</td>\n",
              "      <td>1</td>\n",
              "      <td>0</td>\n",
              "      <td>0</td>\n",
              "      <td>0</td>\n",
              "      <td>0</td>\n",
              "      <td>0</td>\n",
              "      <td>0</td>\n",
              "      <td>0</td>\n",
              "      <td>0</td>\n",
              "      <td>0</td>\n",
              "      <td>0</td>\n",
              "      <td>1</td>\n",
              "      <td>0</td>\n",
              "      <td>0</td>\n",
              "      <td>0</td>\n",
              "      <td>0</td>\n",
              "      <td>1</td>\n",
              "      <td>0</td>\n",
              "      <td>0</td>\n",
              "      <td>0</td>\n",
              "      <td>0</td>\n",
              "      <td>0</td>\n",
              "      <td>0</td>\n",
              "      <td>0</td>\n",
              "      <td>0</td>\n",
              "      <td>0</td>\n",
              "      <td>1</td>\n",
              "      <td>0</td>\n",
              "      <td>0</td>\n",
              "      <td>0</td>\n",
              "      <td>0</td>\n",
              "      <td>1</td>\n",
              "      <td>1</td>\n",
              "      <td>0</td>\n",
              "      <td>0</td>\n",
              "      <td>0</td>\n",
              "      <td>0</td>\n",
              "      <td>0</td>\n",
              "      <td>1</td>\n",
              "      <td>0</td>\n",
              "      <td>0</td>\n",
              "      <td>0</td>\n",
              "      <td>1</td>\n",
              "      <td>0</td>\n",
              "      <td>0</td>\n",
              "      <td>0</td>\n",
              "      <td>0</td>\n",
              "      <td>0</td>\n",
              "      <td>1</td>\n",
              "      <td>1</td>\n",
              "      <td>0</td>\n",
              "      <td>1</td>\n",
              "      <td>0</td>\n",
              "      <td>0</td>\n",
              "      <td>1</td>\n",
              "      <td>1</td>\n",
              "      <td>0</td>\n",
              "      <td>1</td>\n",
              "      <td>1</td>\n",
              "    </tr>\n",
              "  </tbody>\n",
              "</table>\n",
              "</div>"
            ],
            "text/plain": [
              "   destination_Home  destination_No Urgent Place  destination_Work  \\\n",
              "0                 0                            1                 0   \n",
              "1                 0                            1                 0   \n",
              "2                 0                            1                 0   \n",
              "3                 0                            1                 0   \n",
              "4                 0                            1                 0   \n",
              "\n",
              "   passanger_Alone  passanger_Friend(s)  passanger_Kid(s)  passanger_Partner  \\\n",
              "0                1                    0                 0                  0   \n",
              "1                0                    1                 0                  0   \n",
              "2                0                    1                 0                  0   \n",
              "3                0                    1                 0                  0   \n",
              "4                0                    1                 0                  0   \n",
              "\n",
              "   weather_Rainy  weather_Snowy  weather_Sunny  temperature_30  \\\n",
              "0              0              0              1               0   \n",
              "1              0              0              1               0   \n",
              "2              0              0              1               0   \n",
              "3              0              0              1               0   \n",
              "4              0              0              1               0   \n",
              "\n",
              "   temperature_55  temperature_80  time_10AM  time_10PM  time_2PM  time_6PM  \\\n",
              "0               1               0          0          0         1         0   \n",
              "1               0               1          1          0         0         0   \n",
              "2               0               1          1          0         0         0   \n",
              "3               0               1          0          0         1         0   \n",
              "4               0               1          0          0         1         0   \n",
              "\n",
              "   time_7AM  coupon_Bar  coupon_Carry out & Take away  coupon_Coffee House  \\\n",
              "0         0           0                             0                    0   \n",
              "1         0           0                             0                    1   \n",
              "2         0           0                             1                    0   \n",
              "3         0           0                             0                    1   \n",
              "4         0           0                             0                    1   \n",
              "\n",
              "   coupon_Restaurant(20-50)  coupon_Restaurant(<20)  expiration_1d  \\\n",
              "0                         0                       1              1   \n",
              "1                         0                       0              0   \n",
              "2                         0                       0              0   \n",
              "3                         0                       0              0   \n",
              "4                         0                       0              1   \n",
              "\n",
              "   expiration_2h  gender_Female  gender_Male  age_21  age_26  age_31  age_36  \\\n",
              "0              0              1            0       1       0       0       0   \n",
              "1              1              1            0       1       0       0       0   \n",
              "2              1              1            0       1       0       0       0   \n",
              "3              1              1            0       1       0       0       0   \n",
              "4              0              1            0       1       0       0       0   \n",
              "\n",
              "   age_41  age_46  age_50plus  age_below21  maritalStatus_Married partner  \\\n",
              "0       0       0           0            0                              0   \n",
              "1       0       0           0            0                              0   \n",
              "2       0       0           0            0                              0   \n",
              "3       0       0           0            0                              0   \n",
              "4       0       0           0            0                              0   \n",
              "\n",
              "   maritalStatus_Single  maritalStatus_Unmarried partner  \\\n",
              "0                     0                                1   \n",
              "1                     0                                1   \n",
              "2                     0                                1   \n",
              "3                     0                                1   \n",
              "4                     0                                1   \n",
              "\n",
              "   maritalStatus_others  has_children_0  has_children_1  \\\n",
              "0                     0               0               1   \n",
              "1                     0               0               1   \n",
              "2                     0               0               1   \n",
              "3                     0               0               1   \n",
              "4                     0               0               1   \n",
              "\n",
              "   education_Associates degree  education_Bachelors degree  \\\n",
              "0                            0                           0   \n",
              "1                            0                           0   \n",
              "2                            0                           0   \n",
              "3                            0                           0   \n",
              "4                            0                           0   \n",
              "\n",
              "   education_Graduate degree (Masters or Doctorate)  \\\n",
              "0                                                 0   \n",
              "1                                                 0   \n",
              "2                                                 0   \n",
              "3                                                 0   \n",
              "4                                                 0   \n",
              "\n",
              "   education_High School Graduate  education_Some High School  \\\n",
              "0                               0                           0   \n",
              "1                               0                           0   \n",
              "2                               0                           0   \n",
              "3                               0                           0   \n",
              "4                               0                           0   \n",
              "\n",
              "   education_Some college - no degree  \\\n",
              "0                                   1   \n",
              "1                                   1   \n",
              "2                                   1   \n",
              "3                                   1   \n",
              "4                                   1   \n",
              "\n",
              "   occupation_Arts Design Entertainment Sports & Media  \\\n",
              "0                                                  0     \n",
              "1                                                  0     \n",
              "2                                                  0     \n",
              "3                                                  0     \n",
              "4                                                  0     \n",
              "\n",
              "   occupation_Business & Financial  occupation_Computer & Mathematical  \\\n",
              "0                                0                                   0   \n",
              "1                                0                                   0   \n",
              "2                                0                                   0   \n",
              "3                                0                                   0   \n",
              "4                                0                                   0   \n",
              "\n",
              "   occupation_Education&Training&Library  \\\n",
              "0                                      0   \n",
              "1                                      0   \n",
              "2                                      0   \n",
              "3                                      0   \n",
              "4                                      0   \n",
              "\n",
              "   occupation_Food Preparation & Serving Related  occupation_Management  \\\n",
              "0                                              0                      0   \n",
              "1                                              0                      0   \n",
              "2                                              0                      0   \n",
              "3                                              0                      0   \n",
              "4                                              0                      0   \n",
              "\n",
              "   occupation_Office & Administrative Support  occupation_Retired  \\\n",
              "0                                           0                   0   \n",
              "1                                           0                   0   \n",
              "2                                           0                   0   \n",
              "3                                           0                   0   \n",
              "4                                           0                   0   \n",
              "\n",
              "   occupation_Sales & Related  occupation_Student  occupation_Unemployed  \\\n",
              "0                           0                   0                      1   \n",
              "1                           0                   0                      1   \n",
              "2                           0                   0                      1   \n",
              "3                           0                   0                      1   \n",
              "4                           0                   0                      1   \n",
              "\n",
              "   occupation_others  income_$100000 or More  income_$12500 - $24999  \\\n",
              "0                  0                       0                       0   \n",
              "1                  0                       0                       0   \n",
              "2                  0                       0                       0   \n",
              "3                  0                       0                       0   \n",
              "4                  0                       0                       0   \n",
              "\n",
              "   income_$25000 - $37499  income_$37500 - $49999  income_$50000 - $62499  \\\n",
              "0                       0                       1                       0   \n",
              "1                       0                       1                       0   \n",
              "2                       0                       1                       0   \n",
              "3                       0                       1                       0   \n",
              "4                       0                       1                       0   \n",
              "\n",
              "   income_$62500 - $74999  income_$75000 - $87499  income_$87500 - $99999  \\\n",
              "0                       0                       0                       0   \n",
              "1                       0                       0                       0   \n",
              "2                       0                       0                       0   \n",
              "3                       0                       0                       0   \n",
              "4                       0                       0                       0   \n",
              "\n",
              "   income_Less than $12500  Bar_1~3  Bar_4~8  Bar_gt8  Bar_less1  Bar_never  \\\n",
              "0                        0        0        0        0          0          1   \n",
              "1                        0        0        0        0          0          1   \n",
              "2                        0        0        0        0          0          1   \n",
              "3                        0        0        0        0          0          1   \n",
              "4                        0        0        0        0          0          1   \n",
              "\n",
              "   CoffeeHouse_1~3  CoffeeHouse_4~8  CoffeeHouse_gt8  CoffeeHouse_less1  \\\n",
              "0                0                0                0                  0   \n",
              "1                0                0                0                  0   \n",
              "2                0                0                0                  0   \n",
              "3                0                0                0                  0   \n",
              "4                0                0                0                  0   \n",
              "\n",
              "   CoffeeHouse_never  CarryAway_1~3  CarryAway_4~8  CarryAway_gt8  \\\n",
              "0                  1              1              0              0   \n",
              "1                  1              1              0              0   \n",
              "2                  1              1              0              0   \n",
              "3                  1              1              0              0   \n",
              "4                  1              1              0              0   \n",
              "\n",
              "   CarryAway_less1  CarryAway_never  RestaurantLessThan20_1~3  \\\n",
              "0                0                0                         0   \n",
              "1                0                0                         0   \n",
              "2                0                0                         0   \n",
              "3                0                0                         0   \n",
              "4                0                0                         0   \n",
              "\n",
              "   RestaurantLessThan20_4~8  RestaurantLessThan20_gt8  \\\n",
              "0                         1                         0   \n",
              "1                         1                         0   \n",
              "2                         1                         0   \n",
              "3                         1                         0   \n",
              "4                         1                         0   \n",
              "\n",
              "   RestaurantLessThan20_less1  RestaurantLessThan20_never  \\\n",
              "0                           0                           0   \n",
              "1                           0                           0   \n",
              "2                           0                           0   \n",
              "3                           0                           0   \n",
              "4                           0                           0   \n",
              "\n",
              "   Restaurant20To50_1~3  Restaurant20To50_4~8  Restaurant20To50_gt8  \\\n",
              "0                     1                     0                     0   \n",
              "1                     1                     0                     0   \n",
              "2                     1                     0                     0   \n",
              "3                     1                     0                     0   \n",
              "4                     1                     0                     0   \n",
              "\n",
              "   Restaurant20To50_less1  Restaurant20To50_never  toCoupon_GEQ15min_0  \\\n",
              "0                       0                       0                    1   \n",
              "1                       0                       0                    1   \n",
              "2                       0                       0                    0   \n",
              "3                       0                       0                    0   \n",
              "4                       0                       0                    0   \n",
              "\n",
              "   toCoupon_GEQ15min_1  toCoupon_GEQ25min_0  toCoupon_GEQ25min_1  \\\n",
              "0                    0                    1                    0   \n",
              "1                    0                    1                    0   \n",
              "2                    1                    1                    0   \n",
              "3                    1                    1                    0   \n",
              "4                    1                    1                    0   \n",
              "\n",
              "   direction_same_0  direction_same_1  direction_opp_0  direction_opp_1  Y_0  \\\n",
              "0                 1                 0                0                1    0   \n",
              "1                 1                 0                0                1    1   \n",
              "2                 1                 0                0                1    0   \n",
              "3                 1                 0                0                1    1   \n",
              "4                 1                 0                0                1    1   \n",
              "\n",
              "   Y_1  Cluster1  Cluster2  \n",
              "0    1         1         1  \n",
              "1    0         1         1  \n",
              "2    1         1         1  \n",
              "3    0         1         1  \n",
              "4    0         1         1  "
            ]
          },
          "metadata": {
            "tags": []
          },
          "execution_count": 51
        }
      ]
    },
    {
      "cell_type": "code",
      "metadata": {
        "colab": {
          "base_uri": "https://localhost:8080/"
        },
        "id": "FVpfbzVzhaSM",
        "outputId": "718d67c5-fe3e-4ce0-a9cf-b335bccbb805"
      },
      "source": [
        "data1.Cluster1.value_counts()"
      ],
      "execution_count": 52,
      "outputs": [
        {
          "output_type": "execute_result",
          "data": {
            "text/plain": [
              "1    9892\n",
              "0    2718\n",
              "Name: Cluster1, dtype: int64"
            ]
          },
          "metadata": {
            "tags": []
          },
          "execution_count": 52
        }
      ]
    },
    {
      "cell_type": "code",
      "metadata": {
        "colab": {
          "base_uri": "https://localhost:8080/"
        },
        "id": "mzJM7mFQhmoU",
        "outputId": "7287c76c-119f-4e61-a7e2-bde936c69a3e"
      },
      "source": [
        "data1.Cluster2.value_counts()"
      ],
      "execution_count": 53,
      "outputs": [
        {
          "output_type": "execute_result",
          "data": {
            "text/plain": [
              "1    6884\n",
              "0    3008\n",
              "2    2718\n",
              "Name: Cluster2, dtype: int64"
            ]
          },
          "metadata": {
            "tags": []
          },
          "execution_count": 53
        }
      ]
    },
    {
      "cell_type": "code",
      "metadata": {
        "colab": {
          "base_uri": "https://localhost:8080/",
          "height": 512
        },
        "id": "AvkZc0Hihzz3",
        "outputId": "dbe9f008-b0bf-49dd-a450-ccb48ef00d0e"
      },
      "source": [
        "# use 'seaborn' library to plot a barplot for cluster size\n",
        "fig, axes = plt.subplots(ncols=2)\n",
        "fig.set_size_inches(10,5)\n",
        "\n",
        "a= sns.countplot(data= data1, x = 'Cluster1',alpha=0.9,ax=axes[0])\n",
        "plt.title('Size of Cluster1', fontsize = 10)\n",
        "for p in a.patches:\n",
        "    a.annotate('{:.1f}'.format(p.get_height()), (p.get_x()+0.05, p.get_height()+30))\n",
        "\n",
        "a= sns.countplot(data= data1, x = 'Cluster2',alpha=0.9,ax=axes[1])\n",
        "plt.title('Size of Cluster2', fontsize = 10)\n",
        "for p in a.patches:\n",
        "    a.annotate('{:.1f}'.format(p.get_height()), (p.get_x()+0.05, p.get_height()+30))\n",
        "\n",
        "print('The percentage of each cluster in cluster1:\\n',(((data1['Cluster1'].value_counts())/len(data1))*100))\n",
        "print('The percentage of each cluster in cluster1:\\n',(((data1['Cluster2'].value_counts())/len(data1))*100))\n",
        "\n",
        "# display the plot\n",
        "plt.show()"
      ],
      "execution_count": 54,
      "outputs": [
        {
          "output_type": "stream",
          "text": [
            "The percentage of each cluster in cluster1:\n",
            " 1    78.445678\n",
            "0    21.554322\n",
            "Name: Cluster1, dtype: float64\n",
            "The percentage of each cluster in cluster1:\n",
            " 1    54.591594\n",
            "0    23.854084\n",
            "2    21.554322\n",
            "Name: Cluster2, dtype: float64\n"
          ],
          "name": "stdout"
        },
        {
          "output_type": "display_data",
          "data": {
            "image/png": "[encoded data removed]",
            "text/plain": [
              "<Figure size 720x360 with 2 Axes>"
            ]
          },
          "metadata": {
            "tags": [],
            "needs_background": "light"
          }
        }
      ]
    },
    {
      "cell_type": "markdown",
      "metadata": {
        "id": "fSTSGlW0lC-D"
      },
      "source": [
        "CLUSTER PROFILING"
      ]
    },
    {
      "cell_type": "code",
      "metadata": {
        "colab": {
          "base_uri": "https://localhost:8080/",
          "height": 210
        },
        "id": "Y_PofvgjlGL0",
        "outputId": "d9a9aa8d-245d-40af-d585-465c2023caba"
      },
      "source": [
        "data1_profiling=data1.groupby('Cluster1').mean()\n",
        "cluster_frequency=data1[\"Cluster1\"].value_counts().sort_index()\n",
        "data1_profiling['Cluster1 Count']=cluster_frequency\n",
        "data1_profiling"
      ],
      "execution_count": 55,
      "outputs": [
        {
          "output_type": "execute_result",
          "data": {
            "text/html": [
              "<div>\n",
              "<style scoped>\n",
              "    .dataframe tbody tr th:only-of-type {\n",
              "        vertical-align: middle;\n",
              "    }\n",
              "\n",
              "    .dataframe tbody tr th {\n",
              "        vertical-align: top;\n",
              "    }\n",
              "\n",
              "    .dataframe thead th {\n",
              "        text-align: right;\n",
              "    }\n",
              "</style>\n",
              "<table border=\"1\" class=\"dataframe\">\n",
              "  <thead>\n",
              "    <tr style=\"text-align: right;\">\n",
              "      <th></th>\n",
              "      <th>destination_Home</th>\n",
              "      <th>destination_No Urgent Place</th>\n",
              "      <th>destination_Work</th>\n",
              "      <th>passanger_Alone</th>\n",
              "      <th>passanger_Friend(s)</th>\n",
              "      <th>passanger_Kid(s)</th>\n",
              "      <th>passanger_Partner</th>\n",
              "      <th>weather_Rainy</th>\n",
              "      <th>weather_Snowy</th>\n",
              "      <th>weather_Sunny</th>\n",
              "      <th>temperature_30</th>\n",
              "      <th>temperature_55</th>\n",
              "      <th>temperature_80</th>\n",
              "      <th>time_10AM</th>\n",
              "      <th>time_10PM</th>\n",
              "      <th>time_2PM</th>\n",
              "      <th>time_6PM</th>\n",
              "      <th>time_7AM</th>\n",
              "      <th>coupon_Bar</th>\n",
              "      <th>coupon_Carry out &amp; Take away</th>\n",
              "      <th>coupon_Coffee House</th>\n",
              "      <th>coupon_Restaurant(20-50)</th>\n",
              "      <th>coupon_Restaurant(&lt;20)</th>\n",
              "      <th>expiration_1d</th>\n",
              "      <th>expiration_2h</th>\n",
              "      <th>gender_Female</th>\n",
              "      <th>gender_Male</th>\n",
              "      <th>age_21</th>\n",
              "      <th>age_26</th>\n",
              "      <th>age_31</th>\n",
              "      <th>age_36</th>\n",
              "      <th>age_41</th>\n",
              "      <th>age_46</th>\n",
              "      <th>age_50plus</th>\n",
              "      <th>age_below21</th>\n",
              "      <th>maritalStatus_Married partner</th>\n",
              "      <th>maritalStatus_Single</th>\n",
              "      <th>maritalStatus_Unmarried partner</th>\n",
              "      <th>maritalStatus_others</th>\n",
              "      <th>has_children_0</th>\n",
              "      <th>has_children_1</th>\n",
              "      <th>education_Associates degree</th>\n",
              "      <th>education_Bachelors degree</th>\n",
              "      <th>education_Graduate degree (Masters or Doctorate)</th>\n",
              "      <th>education_High School Graduate</th>\n",
              "      <th>education_Some High School</th>\n",
              "      <th>education_Some college - no degree</th>\n",
              "      <th>occupation_Arts Design Entertainment Sports &amp; Media</th>\n",
              "      <th>occupation_Business &amp; Financial</th>\n",
              "      <th>occupation_Computer &amp; Mathematical</th>\n",
              "      <th>occupation_Education&amp;Training&amp;Library</th>\n",
              "      <th>occupation_Food Preparation &amp; Serving Related</th>\n",
              "      <th>occupation_Management</th>\n",
              "      <th>occupation_Office &amp; Administrative Support</th>\n",
              "      <th>occupation_Retired</th>\n",
              "      <th>occupation_Sales &amp; Related</th>\n",
              "      <th>occupation_Student</th>\n",
              "      <th>occupation_Unemployed</th>\n",
              "      <th>occupation_others</th>\n",
              "      <th>income_$100000 or More</th>\n",
              "      <th>income_$12500 - $24999</th>\n",
              "      <th>income_$25000 - $37499</th>\n",
              "      <th>income_$37500 - $49999</th>\n",
              "      <th>income_$50000 - $62499</th>\n",
              "      <th>income_$62500 - $74999</th>\n",
              "      <th>income_$75000 - $87499</th>\n",
              "      <th>income_$87500 - $99999</th>\n",
              "      <th>income_Less than $12500</th>\n",
              "      <th>Bar_1~3</th>\n",
              "      <th>Bar_4~8</th>\n",
              "      <th>Bar_gt8</th>\n",
              "      <th>Bar_less1</th>\n",
              "      <th>Bar_never</th>\n",
              "      <th>CoffeeHouse_1~3</th>\n",
              "      <th>CoffeeHouse_4~8</th>\n",
              "      <th>CoffeeHouse_gt8</th>\n",
              "      <th>CoffeeHouse_less1</th>\n",
              "      <th>CoffeeHouse_never</th>\n",
              "      <th>CarryAway_1~3</th>\n",
              "      <th>CarryAway_4~8</th>\n",
              "      <th>CarryAway_gt8</th>\n",
              "      <th>CarryAway_less1</th>\n",
              "      <th>CarryAway_never</th>\n",
              "      <th>RestaurantLessThan20_1~3</th>\n",
              "      <th>RestaurantLessThan20_4~8</th>\n",
              "      <th>RestaurantLessThan20_gt8</th>\n",
              "      <th>RestaurantLessThan20_less1</th>\n",
              "      <th>RestaurantLessThan20_never</th>\n",
              "      <th>Restaurant20To50_1~3</th>\n",
              "      <th>Restaurant20To50_4~8</th>\n",
              "      <th>Restaurant20To50_gt8</th>\n",
              "      <th>Restaurant20To50_less1</th>\n",
              "      <th>Restaurant20To50_never</th>\n",
              "      <th>toCoupon_GEQ15min_0</th>\n",
              "      <th>toCoupon_GEQ15min_1</th>\n",
              "      <th>toCoupon_GEQ25min_0</th>\n",
              "      <th>toCoupon_GEQ25min_1</th>\n",
              "      <th>direction_same_0</th>\n",
              "      <th>direction_same_1</th>\n",
              "      <th>direction_opp_0</th>\n",
              "      <th>direction_opp_1</th>\n",
              "      <th>Y_0</th>\n",
              "      <th>Y_1</th>\n",
              "      <th>Cluster2</th>\n",
              "      <th>Cluster1 Count</th>\n",
              "    </tr>\n",
              "    <tr>\n",
              "      <th>Cluster1</th>\n",
              "      <th></th>\n",
              "      <th></th>\n",
              "      <th></th>\n",
              "      <th></th>\n",
              "      <th></th>\n",
              "      <th></th>\n",
              "      <th></th>\n",
              "      <th></th>\n",
              "      <th></th>\n",
              "      <th></th>\n",
              "      <th></th>\n",
              "      <th></th>\n",
              "      <th></th>\n",
              "      <th></th>\n",
              "      <th></th>\n",
              "      <th></th>\n",
              "      <th></th>\n",
              "      <th></th>\n",
              "      <th></th>\n",
              "      <th></th>\n",
              "      <th></th>\n",
              "      <th></th>\n",
              "      <th></th>\n",
              "      <th></th>\n",
              "      <th></th>\n",
              "      <th></th>\n",
              "      <th></th>\n",
              "      <th></th>\n",
              "      <th></th>\n",
              "      <th></th>\n",
              "      <th></th>\n",
              "      <th></th>\n",
              "      <th></th>\n",
              "      <th></th>\n",
              "      <th></th>\n",
              "      <th></th>\n",
              "      <th></th>\n",
              "      <th></th>\n",
              "      <th></th>\n",
              "      <th></th>\n",
              "      <th></th>\n",
              "      <th></th>\n",
              "      <th></th>\n",
              "      <th></th>\n",
              "      <th></th>\n",
              "      <th></th>\n",
              "      <th></th>\n",
              "      <th></th>\n",
              "      <th></th>\n",
              "      <th></th>\n",
              "      <th></th>\n",
              "      <th></th>\n",
              "      <th></th>\n",
              "      <th></th>\n",
              "      <th></th>\n",
              "      <th></th>\n",
              "      <th></th>\n",
              "      <th></th>\n",
              "      <th></th>\n",
              "      <th></th>\n",
              "      <th></th>\n",
              "      <th></th>\n",
              "      <th></th>\n",
              "      <th></th>\n",
              "      <th></th>\n",
              "      <th></th>\n",
              "      <th></th>\n",
              "      <th></th>\n",
              "      <th></th>\n",
              "      <th></th>\n",
              "      <th></th>\n",
              "      <th></th>\n",
              "      <th></th>\n",
              "      <th></th>\n",
              "      <th></th>\n",
              "      <th></th>\n",
              "      <th></th>\n",
              "      <th></th>\n",
              "      <th></th>\n",
              "      <th></th>\n",
              "      <th></th>\n",
              "      <th></th>\n",
              "      <th></th>\n",
              "      <th></th>\n",
              "      <th></th>\n",
              "      <th></th>\n",
              "      <th></th>\n",
              "      <th></th>\n",
              "      <th></th>\n",
              "      <th></th>\n",
              "      <th></th>\n",
              "      <th></th>\n",
              "      <th></th>\n",
              "      <th></th>\n",
              "      <th></th>\n",
              "      <th></th>\n",
              "      <th></th>\n",
              "      <th></th>\n",
              "      <th></th>\n",
              "      <th></th>\n",
              "      <th></th>\n",
              "      <th></th>\n",
              "      <th></th>\n",
              "      <th></th>\n",
              "      <th></th>\n",
              "    </tr>\n",
              "  </thead>\n",
              "  <tbody>\n",
              "    <tr>\n",
              "      <th>0</th>\n",
              "      <td>0.559235</td>\n",
              "      <td>0.000000</td>\n",
              "      <td>0.440765</td>\n",
              "      <td>0.931199</td>\n",
              "      <td>0.000000</td>\n",
              "      <td>0.018396</td>\n",
              "      <td>0.050405</td>\n",
              "      <td>0.105592</td>\n",
              "      <td>0.069536</td>\n",
              "      <td>0.824871</td>\n",
              "      <td>0.167035</td>\n",
              "      <td>0.192053</td>\n",
              "      <td>0.640912</td>\n",
              "      <td>0.000000</td>\n",
              "      <td>0.173657</td>\n",
              "      <td>0.00000</td>\n",
              "      <td>0.385578</td>\n",
              "      <td>0.440765</td>\n",
              "      <td>0.154525</td>\n",
              "      <td>0.291391</td>\n",
              "      <td>0.275570</td>\n",
              "      <td>0.094555</td>\n",
              "      <td>0.183959</td>\n",
              "      <td>0.527226</td>\n",
              "      <td>0.472774</td>\n",
              "      <td>0.517660</td>\n",
              "      <td>0.482340</td>\n",
              "      <td>0.217071</td>\n",
              "      <td>0.202723</td>\n",
              "      <td>0.166667</td>\n",
              "      <td>0.105224</td>\n",
              "      <td>0.075055</td>\n",
              "      <td>0.045254</td>\n",
              "      <td>0.133554</td>\n",
              "      <td>0.054452</td>\n",
              "      <td>0.376380</td>\n",
              "      <td>0.387417</td>\n",
              "      <td>0.182119</td>\n",
              "      <td>0.054084</td>\n",
              "      <td>0.615894</td>\n",
              "      <td>0.384106</td>\n",
              "      <td>0.087564</td>\n",
              "      <td>0.337380</td>\n",
              "      <td>0.150846</td>\n",
              "      <td>0.079102</td>\n",
              "      <td>0.00883</td>\n",
              "      <td>0.336277</td>\n",
              "      <td>0.043782</td>\n",
              "      <td>0.040471</td>\n",
              "      <td>0.104489</td>\n",
              "      <td>0.072112</td>\n",
              "      <td>0.025754</td>\n",
              "      <td>0.058499</td>\n",
              "      <td>0.052980</td>\n",
              "      <td>0.036424</td>\n",
              "      <td>0.087932</td>\n",
              "      <td>0.141648</td>\n",
              "      <td>0.161884</td>\n",
              "      <td>0.174025</td>\n",
              "      <td>0.129875</td>\n",
              "      <td>0.142384</td>\n",
              "      <td>0.159308</td>\n",
              "      <td>0.151214</td>\n",
              "      <td>0.117366</td>\n",
              "      <td>0.068433</td>\n",
              "      <td>0.065489</td>\n",
              "      <td>0.064753</td>\n",
              "      <td>0.101177</td>\n",
              "      <td>0.195732</td>\n",
              "      <td>0.084989</td>\n",
              "      <td>0.022075</td>\n",
              "      <td>0.286240</td>\n",
              "      <td>0.410964</td>\n",
              "      <td>0.236571</td>\n",
              "      <td>0.144592</td>\n",
              "      <td>0.092347</td>\n",
              "      <td>0.278882</td>\n",
              "      <td>0.247609</td>\n",
              "      <td>0.366814</td>\n",
              "      <td>0.350625</td>\n",
              "      <td>0.118469</td>\n",
              "      <td>0.150846</td>\n",
              "      <td>0.013245</td>\n",
              "      <td>0.430464</td>\n",
              "      <td>0.278882</td>\n",
              "      <td>0.096762</td>\n",
              "      <td>0.174025</td>\n",
              "      <td>0.019868</td>\n",
              "      <td>0.267476</td>\n",
              "      <td>0.062914</td>\n",
              "      <td>0.018764</td>\n",
              "      <td>0.467991</td>\n",
              "      <td>0.182855</td>\n",
              "      <td>0.726269</td>\n",
              "      <td>0.273731</td>\n",
              "      <td>1.000000</td>\n",
              "      <td>0.000000</td>\n",
              "      <td>0.0</td>\n",
              "      <td>1.0</td>\n",
              "      <td>1.0</td>\n",
              "      <td>0.0</td>\n",
              "      <td>0.418322</td>\n",
              "      <td>0.581678</td>\n",
              "      <td>2.000000</td>\n",
              "      <td>2718</td>\n",
              "    </tr>\n",
              "    <tr>\n",
              "      <th>1</th>\n",
              "      <td>0.172867</td>\n",
              "      <td>0.633441</td>\n",
              "      <td>0.193692</td>\n",
              "      <td>0.476850</td>\n",
              "      <td>0.332794</td>\n",
              "      <td>0.096138</td>\n",
              "      <td>0.094218</td>\n",
              "      <td>0.092499</td>\n",
              "      <td>0.122119</td>\n",
              "      <td>0.785382</td>\n",
              "      <td>0.187121</td>\n",
              "      <td>0.334412</td>\n",
              "      <td>0.478467</td>\n",
              "      <td>0.229579</td>\n",
              "      <td>0.154367</td>\n",
              "      <td>0.20279</td>\n",
              "      <td>0.219571</td>\n",
              "      <td>0.193692</td>\n",
              "      <td>0.160736</td>\n",
              "      <td>0.156894</td>\n",
              "      <td>0.327537</td>\n",
              "      <td>0.124444</td>\n",
              "      <td>0.230388</td>\n",
              "      <td>0.565912</td>\n",
              "      <td>0.434088</td>\n",
              "      <td>0.511727</td>\n",
              "      <td>0.488273</td>\n",
              "      <td>0.207440</td>\n",
              "      <td>0.201880</td>\n",
              "      <td>0.158310</td>\n",
              "      <td>0.104226</td>\n",
              "      <td>0.089466</td>\n",
              "      <td>0.055297</td>\n",
              "      <td>0.143348</td>\n",
              "      <td>0.040032</td>\n",
              "      <td>0.408916</td>\n",
              "      <td>0.370299</td>\n",
              "      <td>0.170845</td>\n",
              "      <td>0.049939</td>\n",
              "      <td>0.577133</td>\n",
              "      <td>0.422867</td>\n",
              "      <td>0.091994</td>\n",
              "      <td>0.344319</td>\n",
              "      <td>0.143247</td>\n",
              "      <td>0.069147</td>\n",
              "      <td>0.00647</td>\n",
              "      <td>0.344824</td>\n",
              "      <td>0.051355</td>\n",
              "      <td>0.043773</td>\n",
              "      <td>0.111808</td>\n",
              "      <td>0.075111</td>\n",
              "      <td>0.023049</td>\n",
              "      <td>0.066923</td>\n",
              "      <td>0.049939</td>\n",
              "      <td>0.039830</td>\n",
              "      <td>0.085827</td>\n",
              "      <td>0.120299</td>\n",
              "      <td>0.143651</td>\n",
              "      <td>0.188435</td>\n",
              "      <td>0.137889</td>\n",
              "      <td>0.145370</td>\n",
              "      <td>0.159017</td>\n",
              "      <td>0.139911</td>\n",
              "      <td>0.135059</td>\n",
              "      <td>0.066417</td>\n",
              "      <td>0.068540</td>\n",
              "      <td>0.071068</td>\n",
              "      <td>0.076729</td>\n",
              "      <td>0.195714</td>\n",
              "      <td>0.084917</td>\n",
              "      <td>0.029114</td>\n",
              "      <td>0.268904</td>\n",
              "      <td>0.421351</td>\n",
              "      <td>0.258391</td>\n",
              "      <td>0.140113</td>\n",
              "      <td>0.086535</td>\n",
              "      <td>0.285180</td>\n",
              "      <td>0.229782</td>\n",
              "      <td>0.383947</td>\n",
              "      <td>0.332491</td>\n",
              "      <td>0.126365</td>\n",
              "      <td>0.145471</td>\n",
              "      <td>0.011727</td>\n",
              "      <td>0.423170</td>\n",
              "      <td>0.282552</td>\n",
              "      <td>0.103013</td>\n",
              "      <td>0.174586</td>\n",
              "      <td>0.016680</td>\n",
              "      <td>0.275778</td>\n",
              "      <td>0.056308</td>\n",
              "      <td>0.021533</td>\n",
              "      <td>0.482107</td>\n",
              "      <td>0.164274</td>\n",
              "      <td>0.361605</td>\n",
              "      <td>0.638395</td>\n",
              "      <td>0.852103</td>\n",
              "      <td>0.147897</td>\n",
              "      <td>1.0</td>\n",
              "      <td>0.0</td>\n",
              "      <td>0.0</td>\n",
              "      <td>1.0</td>\n",
              "      <td>0.436312</td>\n",
              "      <td>0.563688</td>\n",
              "      <td>0.695916</td>\n",
              "      <td>9892</td>\n",
              "    </tr>\n",
              "  </tbody>\n",
              "</table>\n",
              "</div>"
            ],
            "text/plain": [
              "          destination_Home  destination_No Urgent Place  destination_Work  \\\n",
              "Cluster1                                                                    \n",
              "0                 0.559235                     0.000000          0.440765   \n",
              "1                 0.172867                     0.633441          0.193692   \n",
              "\n",
              "          passanger_Alone  passanger_Friend(s)  passanger_Kid(s)  \\\n",
              "Cluster1                                                           \n",
              "0                0.931199             0.000000          0.018396   \n",
              "1                0.476850             0.332794          0.096138   \n",
              "\n",
              "          passanger_Partner  weather_Rainy  weather_Snowy  weather_Sunny  \\\n",
              "Cluster1                                                                   \n",
              "0                  0.050405       0.105592       0.069536       0.824871   \n",
              "1                  0.094218       0.092499       0.122119       0.785382   \n",
              "\n",
              "          temperature_30  temperature_55  temperature_80  time_10AM  \\\n",
              "Cluster1                                                              \n",
              "0               0.167035        0.192053        0.640912   0.000000   \n",
              "1               0.187121        0.334412        0.478467   0.229579   \n",
              "\n",
              "          time_10PM  time_2PM  time_6PM  time_7AM  coupon_Bar  \\\n",
              "Cluster1                                                        \n",
              "0          0.173657   0.00000  0.385578  0.440765    0.154525   \n",
              "1          0.154367   0.20279  0.219571  0.193692    0.160736   \n",
              "\n",
              "          coupon_Carry out & Take away  coupon_Coffee House  \\\n",
              "Cluster1                                                      \n",
              "0                             0.291391             0.275570   \n",
              "1                             0.156894             0.327537   \n",
              "\n",
              "          coupon_Restaurant(20-50)  coupon_Restaurant(<20)  expiration_1d  \\\n",
              "Cluster1                                                                    \n",
              "0                         0.094555                0.183959       0.527226   \n",
              "1                         0.124444                0.230388       0.565912   \n",
              "\n",
              "          expiration_2h  gender_Female  gender_Male    age_21    age_26  \\\n",
              "Cluster1                                                                  \n",
              "0              0.472774       0.517660     0.482340  0.217071  0.202723   \n",
              "1              0.434088       0.511727     0.488273  0.207440  0.201880   \n",
              "\n",
              "            age_31    age_36    age_41    age_46  age_50plus  age_below21  \\\n",
              "Cluster1                                                                    \n",
              "0         0.166667  0.105224  0.075055  0.045254    0.133554     0.054452   \n",
              "1         0.158310  0.104226  0.089466  0.055297    0.143348     0.040032   \n",
              "\n",
              "          maritalStatus_Married partner  maritalStatus_Single  \\\n",
              "Cluster1                                                        \n",
              "0                              0.376380              0.387417   \n",
              "1                              0.408916              0.370299   \n",
              "\n",
              "          maritalStatus_Unmarried partner  maritalStatus_others  \\\n",
              "Cluster1                                                          \n",
              "0                                0.182119              0.054084   \n",
              "1                                0.170845              0.049939   \n",
              "\n",
              "          has_children_0  has_children_1  education_Associates degree  \\\n",
              "Cluster1                                                                \n",
              "0               0.615894        0.384106                     0.087564   \n",
              "1               0.577133        0.422867                     0.091994   \n",
              "\n",
              "          education_Bachelors degree  \\\n",
              "Cluster1                               \n",
              "0                           0.337380   \n",
              "1                           0.344319   \n",
              "\n",
              "          education_Graduate degree (Masters or Doctorate)  \\\n",
              "Cluster1                                                     \n",
              "0                                                 0.150846   \n",
              "1                                                 0.143247   \n",
              "\n",
              "          education_High School Graduate  education_Some High School  \\\n",
              "Cluster1                                                               \n",
              "0                               0.079102                     0.00883   \n",
              "1                               0.069147                     0.00647   \n",
              "\n",
              "          education_Some college - no degree  \\\n",
              "Cluster1                                       \n",
              "0                                   0.336277   \n",
              "1                                   0.344824   \n",
              "\n",
              "          occupation_Arts Design Entertainment Sports & Media  \\\n",
              "Cluster1                                                        \n",
              "0                                                  0.043782     \n",
              "1                                                  0.051355     \n",
              "\n",
              "          occupation_Business & Financial  occupation_Computer & Mathematical  \\\n",
              "Cluster1                                                                        \n",
              "0                                0.040471                            0.104489   \n",
              "1                                0.043773                            0.111808   \n",
              "\n",
              "          occupation_Education&Training&Library  \\\n",
              "Cluster1                                          \n",
              "0                                      0.072112   \n",
              "1                                      0.075111   \n",
              "\n",
              "          occupation_Food Preparation & Serving Related  \\\n",
              "Cluster1                                                  \n",
              "0                                              0.025754   \n",
              "1                                              0.023049   \n",
              "\n",
              "          occupation_Management  occupation_Office & Administrative Support  \\\n",
              "Cluster1                                                                      \n",
              "0                      0.058499                                    0.052980   \n",
              "1                      0.066923                                    0.049939   \n",
              "\n",
              "          occupation_Retired  occupation_Sales & Related  occupation_Student  \\\n",
              "Cluster1                                                                       \n",
              "0                   0.036424                    0.087932            0.141648   \n",
              "1                   0.039830                    0.085827            0.120299   \n",
              "\n",
              "          occupation_Unemployed  occupation_others  income_$100000 or More  \\\n",
              "Cluster1                                                                     \n",
              "0                      0.161884           0.174025                0.129875   \n",
              "1                      0.143651           0.188435                0.137889   \n",
              "\n",
              "          income_$12500 - $24999  income_$25000 - $37499  \\\n",
              "Cluster1                                                   \n",
              "0                       0.142384                0.159308   \n",
              "1                       0.145370                0.159017   \n",
              "\n",
              "          income_$37500 - $49999  income_$50000 - $62499  \\\n",
              "Cluster1                                                   \n",
              "0                       0.151214                0.117366   \n",
              "1                       0.139911                0.135059   \n",
              "\n",
              "          income_$62500 - $74999  income_$75000 - $87499  \\\n",
              "Cluster1                                                   \n",
              "0                       0.068433                0.065489   \n",
              "1                       0.066417                0.068540   \n",
              "\n",
              "          income_$87500 - $99999  income_Less than $12500   Bar_1~3   Bar_4~8  \\\n",
              "Cluster1                                                                        \n",
              "0                       0.064753                 0.101177  0.195732  0.084989   \n",
              "1                       0.071068                 0.076729  0.195714  0.084917   \n",
              "\n",
              "           Bar_gt8  Bar_less1  Bar_never  CoffeeHouse_1~3  CoffeeHouse_4~8  \\\n",
              "Cluster1                                                                     \n",
              "0         0.022075   0.286240   0.410964         0.236571         0.144592   \n",
              "1         0.029114   0.268904   0.421351         0.258391         0.140113   \n",
              "\n",
              "          CoffeeHouse_gt8  CoffeeHouse_less1  CoffeeHouse_never  \\\n",
              "Cluster1                                                          \n",
              "0                0.092347           0.278882           0.247609   \n",
              "1                0.086535           0.285180           0.229782   \n",
              "\n",
              "          CarryAway_1~3  CarryAway_4~8  CarryAway_gt8  CarryAway_less1  \\\n",
              "Cluster1                                                                 \n",
              "0              0.366814       0.350625       0.118469         0.150846   \n",
              "1              0.383947       0.332491       0.126365         0.145471   \n",
              "\n",
              "          CarryAway_never  RestaurantLessThan20_1~3  RestaurantLessThan20_4~8  \\\n",
              "Cluster1                                                                        \n",
              "0                0.013245                  0.430464                  0.278882   \n",
              "1                0.011727                  0.423170                  0.282552   \n",
              "\n",
              "          RestaurantLessThan20_gt8  RestaurantLessThan20_less1  \\\n",
              "Cluster1                                                         \n",
              "0                         0.096762                    0.174025   \n",
              "1                         0.103013                    0.174586   \n",
              "\n",
              "          RestaurantLessThan20_never  Restaurant20To50_1~3  \\\n",
              "Cluster1                                                     \n",
              "0                           0.019868              0.267476   \n",
              "1                           0.016680              0.275778   \n",
              "\n",
              "          Restaurant20To50_4~8  Restaurant20To50_gt8  Restaurant20To50_less1  \\\n",
              "Cluster1                                                                       \n",
              "0                     0.062914              0.018764                0.467991   \n",
              "1                     0.056308              0.021533                0.482107   \n",
              "\n",
              "          Restaurant20To50_never  toCoupon_GEQ15min_0  toCoupon_GEQ15min_1  \\\n",
              "Cluster1                                                                     \n",
              "0                       0.182855             0.726269             0.273731   \n",
              "1                       0.164274             0.361605             0.638395   \n",
              "\n",
              "          toCoupon_GEQ25min_0  toCoupon_GEQ25min_1  direction_same_0  \\\n",
              "Cluster1                                                               \n",
              "0                    1.000000             0.000000               0.0   \n",
              "1                    0.852103             0.147897               1.0   \n",
              "\n",
              "          direction_same_1  direction_opp_0  direction_opp_1       Y_0  \\\n",
              "Cluster1                                                                 \n",
              "0                      1.0              1.0              0.0  0.418322   \n",
              "1                      0.0              0.0              1.0  0.436312   \n",
              "\n",
              "               Y_1  Cluster2  Cluster1 Count  \n",
              "Cluster1                                      \n",
              "0         0.581678  2.000000            2718  \n",
              "1         0.563688  0.695916            9892  "
            ]
          },
          "metadata": {
            "tags": []
          },
          "execution_count": 55
        }
      ]
    },
    {
      "cell_type": "markdown",
      "metadata": {
        "id": "QEF9dHH06dF7"
      },
      "source": [
        "**Cluster 1 - Availing coupon drivers type**\n",
        "\n",
        "Mostly the Female drivers who are travelling in the morning and in the evening to work without any passengers in a clear day prefer carryout or takeaway coupons having 1 day validation who often prefer visiting carryaway or visit the restaurant less than 20mts also they buy the coupon mostly when they are travelling in the same direction where the coupon is valid or they prefer to use thier coupon.\n",
        "\n",
        "**General Characteristics**\n",
        "1. They are single or married&having partners\n",
        "2. they dont have children\n",
        "3. income range b/w 12500 to 38000\n",
        "4. age group ob/w 21to 26 and education is college\n",
        "\n",
        "**Cluster 2 - Availing coupon drivers type**\n",
        "\n",
        "Mostly the Female drivers who generally travel b/w 7 am to 6 pm  without any passengers in a clear day prefer coffee house coupons having 1 day validation who often prefer visiting coffehouse orhe restaurant less than 20mts also they buy the coupon mostly when they are travelling in the opposite direction to their home where the coupon is valid or they prefer to use thier coupon is 15 mts from the place of purchase.\n",
        "\n",
        "**General Characteristics**\n",
        "1. They are married&having partners\n",
        "2. they dont have children\n",
        "3. income range b/w 12500 to 38000\n",
        "4. age group ob/w 21to 26 and education is college\n",
        "\n",
        "\n",
        "**BUSINESS IMPLICATIONS**\n",
        "\n",
        "We can concentrate more on cluster 1 drivers because they get their breakfast or dinner regularly while going to work or returning from work and the coupon will be more useful to them .So definetly more coupons will be bought by this kind of drivers"
      ]
    },
    {
      "cell_type": "markdown",
      "metadata": {
        "id": "zM0MWb3ZA77M"
      },
      "source": [
        "## Split the data into train and test\n"
      ]
    },
    {
      "cell_type": "code",
      "metadata": {
        "colab": {
          "base_uri": "https://localhost:8080/",
          "height": 253
        },
        "id": "6LfYT5IRA3u5",
        "outputId": "483b3d46-1ce9-4140-9874-685c4e7b6e6a"
      },
      "source": [
        "X = data.drop([\"Y\"], axis=1)\n",
        "\n",
        "y = data[\"Y\"]\n",
        "\n",
        "X.head()"
      ],
      "execution_count": 56,
      "outputs": [
        {
          "output_type": "execute_result",
          "data": {
            "text/html": [
              "<div>\n",
              "<style scoped>\n",
              "    .dataframe tbody tr th:only-of-type {\n",
              "        vertical-align: middle;\n",
              "    }\n",
              "\n",
              "    .dataframe tbody tr th {\n",
              "        vertical-align: top;\n",
              "    }\n",
              "\n",
              "    .dataframe thead th {\n",
              "        text-align: right;\n",
              "    }\n",
              "</style>\n",
              "<table border=\"1\" class=\"dataframe\">\n",
              "  <thead>\n",
              "    <tr style=\"text-align: right;\">\n",
              "      <th></th>\n",
              "      <th>temperature</th>\n",
              "      <th>time</th>\n",
              "      <th>expiration</th>\n",
              "      <th>gender</th>\n",
              "      <th>age</th>\n",
              "      <th>has_children</th>\n",
              "      <th>education</th>\n",
              "      <th>income</th>\n",
              "      <th>Bar</th>\n",
              "      <th>CoffeeHouse</th>\n",
              "      <th>CarryAway</th>\n",
              "      <th>RestaurantLessThan20</th>\n",
              "      <th>Restaurant20To50</th>\n",
              "      <th>toCoupon_GEQ5min</th>\n",
              "      <th>toCoupon_GEQ15min</th>\n",
              "      <th>toCoupon_GEQ25min</th>\n",
              "      <th>direction_same</th>\n",
              "      <th>direction_opp</th>\n",
              "      <th>destination_No Urgent Place</th>\n",
              "      <th>destination_Work</th>\n",
              "      <th>maritalStatus_Single</th>\n",
              "      <th>maritalStatus_Unmarried partner</th>\n",
              "      <th>maritalStatus_others</th>\n",
              "      <th>coupon_Carry out &amp; Take away</th>\n",
              "      <th>coupon_Coffee House</th>\n",
              "      <th>coupon_Restaurant(20-50)</th>\n",
              "      <th>coupon_Restaurant(&lt;20)</th>\n",
              "      <th>occupation_Business &amp; Financial</th>\n",
              "      <th>occupation_Computer &amp; Mathematical</th>\n",
              "      <th>occupation_Education&amp;Training&amp;Library</th>\n",
              "      <th>occupation_Food Preparation &amp; Serving Related</th>\n",
              "      <th>occupation_Management</th>\n",
              "      <th>occupation_Office &amp; Administrative Support</th>\n",
              "      <th>occupation_Retired</th>\n",
              "      <th>occupation_Sales &amp; Related</th>\n",
              "      <th>occupation_Student</th>\n",
              "      <th>occupation_Unemployed</th>\n",
              "      <th>occupation_others</th>\n",
              "      <th>weather_Snowy</th>\n",
              "      <th>weather_Sunny</th>\n",
              "      <th>passanger_Friend(s)</th>\n",
              "      <th>passanger_Kid(s)</th>\n",
              "      <th>passanger_Partner</th>\n",
              "    </tr>\n",
              "  </thead>\n",
              "  <tbody>\n",
              "    <tr>\n",
              "      <th>0</th>\n",
              "      <td>1</td>\n",
              "      <td>14</td>\n",
              "      <td>1</td>\n",
              "      <td>0</td>\n",
              "      <td>1</td>\n",
              "      <td>1</td>\n",
              "      <td>2</td>\n",
              "      <td>3</td>\n",
              "      <td>4</td>\n",
              "      <td>4</td>\n",
              "      <td>0</td>\n",
              "      <td>1</td>\n",
              "      <td>0</td>\n",
              "      <td>1</td>\n",
              "      <td>0</td>\n",
              "      <td>0</td>\n",
              "      <td>0</td>\n",
              "      <td>1</td>\n",
              "      <td>1</td>\n",
              "      <td>0</td>\n",
              "      <td>0</td>\n",
              "      <td>1</td>\n",
              "      <td>0</td>\n",
              "      <td>0</td>\n",
              "      <td>0</td>\n",
              "      <td>0</td>\n",
              "      <td>1</td>\n",
              "      <td>0</td>\n",
              "      <td>0</td>\n",
              "      <td>0</td>\n",
              "      <td>0</td>\n",
              "      <td>0</td>\n",
              "      <td>0</td>\n",
              "      <td>0</td>\n",
              "      <td>0</td>\n",
              "      <td>0</td>\n",
              "      <td>1</td>\n",
              "      <td>0</td>\n",
              "      <td>0</td>\n",
              "      <td>1</td>\n",
              "      <td>0</td>\n",
              "      <td>0</td>\n",
              "      <td>0</td>\n",
              "    </tr>\n",
              "    <tr>\n",
              "      <th>1</th>\n",
              "      <td>2</td>\n",
              "      <td>10</td>\n",
              "      <td>0</td>\n",
              "      <td>0</td>\n",
              "      <td>1</td>\n",
              "      <td>1</td>\n",
              "      <td>2</td>\n",
              "      <td>3</td>\n",
              "      <td>4</td>\n",
              "      <td>4</td>\n",
              "      <td>0</td>\n",
              "      <td>1</td>\n",
              "      <td>0</td>\n",
              "      <td>1</td>\n",
              "      <td>0</td>\n",
              "      <td>0</td>\n",
              "      <td>0</td>\n",
              "      <td>1</td>\n",
              "      <td>1</td>\n",
              "      <td>0</td>\n",
              "      <td>0</td>\n",
              "      <td>1</td>\n",
              "      <td>0</td>\n",
              "      <td>0</td>\n",
              "      <td>1</td>\n",
              "      <td>0</td>\n",
              "      <td>0</td>\n",
              "      <td>0</td>\n",
              "      <td>0</td>\n",
              "      <td>0</td>\n",
              "      <td>0</td>\n",
              "      <td>0</td>\n",
              "      <td>0</td>\n",
              "      <td>0</td>\n",
              "      <td>0</td>\n",
              "      <td>0</td>\n",
              "      <td>1</td>\n",
              "      <td>0</td>\n",
              "      <td>0</td>\n",
              "      <td>1</td>\n",
              "      <td>1</td>\n",
              "      <td>0</td>\n",
              "      <td>0</td>\n",
              "    </tr>\n",
              "    <tr>\n",
              "      <th>2</th>\n",
              "      <td>2</td>\n",
              "      <td>10</td>\n",
              "      <td>0</td>\n",
              "      <td>0</td>\n",
              "      <td>1</td>\n",
              "      <td>1</td>\n",
              "      <td>2</td>\n",
              "      <td>3</td>\n",
              "      <td>4</td>\n",
              "      <td>4</td>\n",
              "      <td>0</td>\n",
              "      <td>1</td>\n",
              "      <td>0</td>\n",
              "      <td>1</td>\n",
              "      <td>1</td>\n",
              "      <td>0</td>\n",
              "      <td>0</td>\n",
              "      <td>1</td>\n",
              "      <td>1</td>\n",
              "      <td>0</td>\n",
              "      <td>0</td>\n",
              "      <td>1</td>\n",
              "      <td>0</td>\n",
              "      <td>1</td>\n",
              "      <td>0</td>\n",
              "      <td>0</td>\n",
              "      <td>0</td>\n",
              "      <td>0</td>\n",
              "      <td>0</td>\n",
              "      <td>0</td>\n",
              "      <td>0</td>\n",
              "      <td>0</td>\n",
              "      <td>0</td>\n",
              "      <td>0</td>\n",
              "      <td>0</td>\n",
              "      <td>0</td>\n",
              "      <td>1</td>\n",
              "      <td>0</td>\n",
              "      <td>0</td>\n",
              "      <td>1</td>\n",
              "      <td>1</td>\n",
              "      <td>0</td>\n",
              "      <td>0</td>\n",
              "    </tr>\n",
              "    <tr>\n",
              "      <th>3</th>\n",
              "      <td>2</td>\n",
              "      <td>14</td>\n",
              "      <td>0</td>\n",
              "      <td>0</td>\n",
              "      <td>1</td>\n",
              "      <td>1</td>\n",
              "      <td>2</td>\n",
              "      <td>3</td>\n",
              "      <td>4</td>\n",
              "      <td>4</td>\n",
              "      <td>0</td>\n",
              "      <td>1</td>\n",
              "      <td>0</td>\n",
              "      <td>1</td>\n",
              "      <td>1</td>\n",
              "      <td>0</td>\n",
              "      <td>0</td>\n",
              "      <td>1</td>\n",
              "      <td>1</td>\n",
              "      <td>0</td>\n",
              "      <td>0</td>\n",
              "      <td>1</td>\n",
              "      <td>0</td>\n",
              "      <td>0</td>\n",
              "      <td>1</td>\n",
              "      <td>0</td>\n",
              "      <td>0</td>\n",
              "      <td>0</td>\n",
              "      <td>0</td>\n",
              "      <td>0</td>\n",
              "      <td>0</td>\n",
              "      <td>0</td>\n",
              "      <td>0</td>\n",
              "      <td>0</td>\n",
              "      <td>0</td>\n",
              "      <td>0</td>\n",
              "      <td>1</td>\n",
              "      <td>0</td>\n",
              "      <td>0</td>\n",
              "      <td>1</td>\n",
              "      <td>1</td>\n",
              "      <td>0</td>\n",
              "      <td>0</td>\n",
              "    </tr>\n",
              "    <tr>\n",
              "      <th>4</th>\n",
              "      <td>2</td>\n",
              "      <td>14</td>\n",
              "      <td>1</td>\n",
              "      <td>0</td>\n",
              "      <td>1</td>\n",
              "      <td>1</td>\n",
              "      <td>2</td>\n",
              "      <td>3</td>\n",
              "      <td>4</td>\n",
              "      <td>4</td>\n",
              "      <td>0</td>\n",
              "      <td>1</td>\n",
              "      <td>0</td>\n",
              "      <td>1</td>\n",
              "      <td>1</td>\n",
              "      <td>0</td>\n",
              "      <td>0</td>\n",
              "      <td>1</td>\n",
              "      <td>1</td>\n",
              "      <td>0</td>\n",
              "      <td>0</td>\n",
              "      <td>1</td>\n",
              "      <td>0</td>\n",
              "      <td>0</td>\n",
              "      <td>1</td>\n",
              "      <td>0</td>\n",
              "      <td>0</td>\n",
              "      <td>0</td>\n",
              "      <td>0</td>\n",
              "      <td>0</td>\n",
              "      <td>0</td>\n",
              "      <td>0</td>\n",
              "      <td>0</td>\n",
              "      <td>0</td>\n",
              "      <td>0</td>\n",
              "      <td>0</td>\n",
              "      <td>1</td>\n",
              "      <td>0</td>\n",
              "      <td>0</td>\n",
              "      <td>1</td>\n",
              "      <td>1</td>\n",
              "      <td>0</td>\n",
              "      <td>0</td>\n",
              "    </tr>\n",
              "  </tbody>\n",
              "</table>\n",
              "</div>"
            ],
            "text/plain": [
              "   temperature  time  expiration  gender  age  has_children  education  \\\n",
              "0            1    14           1       0    1             1          2   \n",
              "1            2    10           0       0    1             1          2   \n",
              "2            2    10           0       0    1             1          2   \n",
              "3            2    14           0       0    1             1          2   \n",
              "4            2    14           1       0    1             1          2   \n",
              "\n",
              "   income  Bar  CoffeeHouse  CarryAway  RestaurantLessThan20  \\\n",
              "0       3    4            4          0                     1   \n",
              "1       3    4            4          0                     1   \n",
              "2       3    4            4          0                     1   \n",
              "3       3    4            4          0                     1   \n",
              "4       3    4            4          0                     1   \n",
              "\n",
              "   Restaurant20To50  toCoupon_GEQ5min  toCoupon_GEQ15min  toCoupon_GEQ25min  \\\n",
              "0                 0                 1                  0                  0   \n",
              "1                 0                 1                  0                  0   \n",
              "2                 0                 1                  1                  0   \n",
              "3                 0                 1                  1                  0   \n",
              "4                 0                 1                  1                  0   \n",
              "\n",
              "   direction_same  direction_opp  destination_No Urgent Place  \\\n",
              "0               0              1                            1   \n",
              "1               0              1                            1   \n",
              "2               0              1                            1   \n",
              "3               0              1                            1   \n",
              "4               0              1                            1   \n",
              "\n",
              "   destination_Work  maritalStatus_Single  maritalStatus_Unmarried partner  \\\n",
              "0                 0                     0                                1   \n",
              "1                 0                     0                                1   \n",
              "2                 0                     0                                1   \n",
              "3                 0                     0                                1   \n",
              "4                 0                     0                                1   \n",
              "\n",
              "   maritalStatus_others  coupon_Carry out & Take away  coupon_Coffee House  \\\n",
              "0                     0                             0                    0   \n",
              "1                     0                             0                    1   \n",
              "2                     0                             1                    0   \n",
              "3                     0                             0                    1   \n",
              "4                     0                             0                    1   \n",
              "\n",
              "   coupon_Restaurant(20-50)  coupon_Restaurant(<20)  \\\n",
              "0                         0                       1   \n",
              "1                         0                       0   \n",
              "2                         0                       0   \n",
              "3                         0                       0   \n",
              "4                         0                       0   \n",
              "\n",
              "   occupation_Business & Financial  occupation_Computer & Mathematical  \\\n",
              "0                                0                                   0   \n",
              "1                                0                                   0   \n",
              "2                                0                                   0   \n",
              "3                                0                                   0   \n",
              "4                                0                                   0   \n",
              "\n",
              "   occupation_Education&Training&Library  \\\n",
              "0                                      0   \n",
              "1                                      0   \n",
              "2                                      0   \n",
              "3                                      0   \n",
              "4                                      0   \n",
              "\n",
              "   occupation_Food Preparation & Serving Related  occupation_Management  \\\n",
              "0                                              0                      0   \n",
              "1                                              0                      0   \n",
              "2                                              0                      0   \n",
              "3                                              0                      0   \n",
              "4                                              0                      0   \n",
              "\n",
              "   occupation_Office & Administrative Support  occupation_Retired  \\\n",
              "0                                           0                   0   \n",
              "1                                           0                   0   \n",
              "2                                           0                   0   \n",
              "3                                           0                   0   \n",
              "4                                           0                   0   \n",
              "\n",
              "   occupation_Sales & Related  occupation_Student  occupation_Unemployed  \\\n",
              "0                           0                   0                      1   \n",
              "1                           0                   0                      1   \n",
              "2                           0                   0                      1   \n",
              "3                           0                   0                      1   \n",
              "4                           0                   0                      1   \n",
              "\n",
              "   occupation_others  weather_Snowy  weather_Sunny  passanger_Friend(s)  \\\n",
              "0                  0              0              1                    0   \n",
              "1                  0              0              1                    1   \n",
              "2                  0              0              1                    1   \n",
              "3                  0              0              1                    1   \n",
              "4                  0              0              1                    1   \n",
              "\n",
              "   passanger_Kid(s)  passanger_Partner  \n",
              "0                 0                  0  \n",
              "1                 0                  0  \n",
              "2                 0                  0  \n",
              "3                 0                  0  \n",
              "4                 0                  0  "
            ]
          },
          "metadata": {
            "tags": []
          },
          "execution_count": 56
        }
      ]
    },
    {
      "cell_type": "code",
      "metadata": {
        "id": "lms3LHW2BBxj"
      },
      "source": [
        "from sklearn.model_selection import train_test_split\n",
        "\n",
        "X_train, X_test, y_train, y_test = train_test_split(X, y, test_size=.30, random_state=1)"
      ],
      "execution_count": 57,
      "outputs": []
    },
    {
      "cell_type": "code",
      "metadata": {
        "colab": {
          "base_uri": "https://localhost:8080/"
        },
        "id": "vBYcvdoMBEhr",
        "outputId": "4e4ddb54-f820-46fb-93ed-0e171c7b0fde"
      },
      "source": [
        "print('X_train',X_train.shape)\n",
        "print('X_test',X_test.shape)\n",
        "print('y_train',y_train.shape)\n",
        "print('y_test',y_test.shape)"
      ],
      "execution_count": 58,
      "outputs": [
        {
          "output_type": "stream",
          "text": [
            "X_train (8827, 43)\n",
            "X_test (3783, 43)\n",
            "y_train (8827,)\n",
            "y_test (3783,)\n"
          ],
          "name": "stdout"
        }
      ]
    },
    {
      "cell_type": "markdown",
      "metadata": {
        "id": "h4HA43VSBLSr"
      },
      "source": [
        "#### Scaling"
      ]
    },
    {
      "cell_type": "code",
      "metadata": {
        "id": "dWJyeBnibmKo"
      },
      "source": [
        "from sklearn.preprocessing import StandardScaler\n",
        "\n",
        "\n",
        "sc=StandardScaler()\n",
        "X_train_sc= pd.DataFrame(sc.fit_transform(X_train),columns=X_train.columns)\n",
        "X_test_sc = pd.DataFrame(sc.transform(X_test),columns=X_test.columns)"
      ],
      "execution_count": 59,
      "outputs": []
    },
    {
      "cell_type": "markdown",
      "metadata": {
        "id": "jKK-XmTuBTgk"
      },
      "source": [
        "### KNN\n"
      ]
    },
    {
      "cell_type": "code",
      "metadata": {
        "colab": {
          "base_uri": "https://localhost:8080/"
        },
        "id": "pGitfB4dBOiz",
        "outputId": "6e49652c-62ce-4e56-bea2-810ff632156f"
      },
      "source": [
        "from sklearn.neighbors import KNeighborsClassifier\n",
        "\n",
        "\n",
        "knn=KNeighborsClassifier()\n",
        "knn.fit(X_train_sc,y_train)\n"
      ],
      "execution_count": 60,
      "outputs": [
        {
          "output_type": "execute_result",
          "data": {
            "text/plain": [
              "KNeighborsClassifier(algorithm='auto', leaf_size=30, metric='minkowski',\n",
              "                     metric_params=None, n_jobs=None, n_neighbors=5, p=2,\n",
              "                     weights='uniform')"
            ]
          },
          "metadata": {
            "tags": []
          },
          "execution_count": 60
        }
      ]
    },
    {
      "cell_type": "code",
      "metadata": {
        "id": "WpZwrA81CBks"
      },
      "source": [
        "Y_train_predict = knn.predict(X_train_sc)\n",
        "Y_test_predict = knn.predict(X_test_sc)"
      ],
      "execution_count": 61,
      "outputs": []
    },
    {
      "cell_type": "code",
      "metadata": {
        "colab": {
          "base_uri": "https://localhost:8080/"
        },
        "id": "6SzGyUadCEQT",
        "outputId": "1b7a718a-1148-4f75-ebbe-2690295ee467"
      },
      "source": [
        "from sklearn.metrics import roc_auc_score,roc_curve,classification_report,accuracy_score,confusion_matrix\n",
        "\n",
        "\n",
        "print(\"Train Accuracy is : {}\".format(accuracy_score(y_train,Y_train_predict)))\n",
        "\n",
        "print(\"\\nTest Accuracy is : {}\".format(accuracy_score(y_test,Y_test_predict)))\n",
        "\n",
        "\n",
        "print(\"\\nTrain ROC-AUC score is : {}\".format(roc_auc_score(y_train,knn.predict_proba(X_train_sc)[:,1])))\n",
        "print(\"\\nTest ROC-AUC score is : {}\".format(roc_auc_score(y_test,knn.predict_proba(X_test_sc)[:,1])))\n",
        "\n",
        "\n",
        "\n",
        "print(\"\\nConfusion matrix for train set : \",\"\\n\",confusion_matrix(y_train,Y_train_predict))\n",
        "print(\"\\nConfusion matrix for test set : \",\"\\n\",confusion_matrix(y_test,Y_test_predict))"
      ],
      "execution_count": 62,
      "outputs": [
        {
          "output_type": "stream",
          "text": [
            "Train Accuracy is : 0.7934745666704429\n",
            "\n",
            "Test Accuracy is : 0.6595294739624636\n",
            "\n",
            "Train ROC-AUC score is : 0.8673648172863243\n",
            "\n",
            "Test ROC-AUC score is : 0.7032125021937872\n",
            "\n",
            "Confusion matrix for train set :  \n",
            " [[2777 1045]\n",
            " [ 778 4227]]\n",
            "\n",
            "Confusion matrix for test set :  \n",
            " [[ 921  710]\n",
            " [ 578 1574]]\n"
          ],
          "name": "stdout"
        }
      ]
    },
    {
      "cell_type": "code",
      "metadata": {
        "colab": {
          "base_uri": "https://localhost:8080/"
        },
        "id": "AY-RTJhbCHoV",
        "outputId": "8712a93d-3095-452a-82fd-c697221a5fb3"
      },
      "source": [
        "print('Classification report Train set :')\n",
        "print(classification_report(y_train,Y_train_predict))"
      ],
      "execution_count": 63,
      "outputs": [
        {
          "output_type": "stream",
          "text": [
            "Classification report Train set :\n",
            "              precision    recall  f1-score   support\n",
            "\n",
            "           0       0.78      0.73      0.75      3822\n",
            "           1       0.80      0.84      0.82      5005\n",
            "\n",
            "    accuracy                           0.79      8827\n",
            "   macro avg       0.79      0.79      0.79      8827\n",
            "weighted avg       0.79      0.79      0.79      8827\n",
            "\n"
          ],
          "name": "stdout"
        }
      ]
    },
    {
      "cell_type": "code",
      "metadata": {
        "colab": {
          "base_uri": "https://localhost:8080/"
        },
        "id": "l2JVtJ3UCLfS",
        "outputId": "cffe6da8-54ae-4cc7-987d-96eded24f064"
      },
      "source": [
        "print('Classification report Test set :')\n",
        "print(classification_report(y_test,Y_test_predict))"
      ],
      "execution_count": 64,
      "outputs": [
        {
          "output_type": "stream",
          "text": [
            "Classification report Test set :\n",
            "              precision    recall  f1-score   support\n",
            "\n",
            "           0       0.61      0.56      0.59      1631\n",
            "           1       0.69      0.73      0.71      2152\n",
            "\n",
            "    accuracy                           0.66      3783\n",
            "   macro avg       0.65      0.65      0.65      3783\n",
            "weighted avg       0.66      0.66      0.66      3783\n",
            "\n"
          ],
          "name": "stdout"
        }
      ]
    },
    {
      "cell_type": "markdown",
      "metadata": {
        "id": "EJswl4LaCQyP"
      },
      "source": [
        "Hyperparameter Tuning"
      ]
    },
    {
      "cell_type": "code",
      "metadata": {
        "id": "1eD0WOyJCN0v"
      },
      "source": [
        "params = {'n_neighbors':[3,5,7,9,11],\n",
        "         'weights':['uniform', 'distance'],'p':[1,2,3]}"
      ],
      "execution_count": 65,
      "outputs": []
    },
    {
      "cell_type": "code",
      "metadata": {
        "colab": {
          "base_uri": "https://localhost:8080/"
        },
        "id": "z6w_PT0VCTVE",
        "outputId": "5ffbfd67-9a33-470a-b384-ee7d20dd18af"
      },
      "source": [
        "from sklearn.model_selection import GridSearchCV\n",
        "\n",
        "grid_knn = GridSearchCV(KNeighborsClassifier(),param_grid=params,refit=True,verbose=1,n_jobs=1)\n",
        "grid_knn.fit(X_train_sc,y_train)"
      ],
      "execution_count": 66,
      "outputs": [
        {
          "output_type": "stream",
          "text": [
            "Fitting 5 folds for each of 30 candidates, totalling 150 fits\n"
          ],
          "name": "stdout"
        },
        {
          "output_type": "stream",
          "text": [
            "[Parallel(n_jobs=1)]: Using backend SequentialBackend with 1 concurrent workers.\n",
            "[Parallel(n_jobs=1)]: Done 150 out of 150 | elapsed: 14.0min finished\n"
          ],
          "name": "stderr"
        },
        {
          "output_type": "execute_result",
          "data": {
            "text/plain": [
              "GridSearchCV(cv=None, error_score=nan,\n",
              "             estimator=KNeighborsClassifier(algorithm='auto', leaf_size=30,\n",
              "                                            metric='minkowski',\n",
              "                                            metric_params=None, n_jobs=None,\n",
              "                                            n_neighbors=5, p=2,\n",
              "                                            weights='uniform'),\n",
              "             iid='deprecated', n_jobs=1,\n",
              "             param_grid={'n_neighbors': [3, 5, 7, 9, 11], 'p': [1, 2, 3],\n",
              "                         'weights': ['uniform', 'distance']},\n",
              "             pre_dispatch='2*n_jobs', refit=True, return_train_score=False,\n",
              "             scoring=None, verbose=1)"
            ]
          },
          "metadata": {
            "tags": []
          },
          "execution_count": 66
        }
      ]
    },
    {
      "cell_type": "code",
      "metadata": {
        "colab": {
          "base_uri": "https://localhost:8080/"
        },
        "id": "McRlRGoUCW15",
        "outputId": "0b6ecdd9-314a-4d39-a823-7277fa802b98"
      },
      "source": [
        "grid_knn.best_params_"
      ],
      "execution_count": 67,
      "outputs": [
        {
          "output_type": "execute_result",
          "data": {
            "text/plain": [
              "{'n_neighbors': 11, 'p': 1, 'weights': 'distance'}"
            ]
          },
          "metadata": {
            "tags": []
          },
          "execution_count": 67
        }
      ]
    },
    {
      "cell_type": "code",
      "metadata": {
        "id": "kVQJao3-Cbet"
      },
      "source": [
        "Grid_train_predict=grid_knn.predict(X_train_sc)\n",
        "Grid_test_predict=grid_knn.predict(X_test_sc)"
      ],
      "execution_count": 68,
      "outputs": []
    },
    {
      "cell_type": "code",
      "metadata": {
        "colab": {
          "base_uri": "https://localhost:8080/"
        },
        "id": "LmMojlr2b_sG",
        "outputId": "96344a43-92f6-4ebb-d3d7-06d1b7885285"
      },
      "source": [
        "print(\"Train Accuracy is : {}\".format(accuracy_score(y_train,Grid_train_predict)))\n",
        "\n",
        "print(\"\\nTest Accuracy is : {}\".format(accuracy_score(y_test,Grid_test_predict)))\n",
        "\n",
        "\n",
        "print(\"\\nTrain ROC-AUC score is : {}\".format(roc_auc_score(y_train,grid_knn.predict_proba(X_train_sc)[:,1])))\n",
        "print(\"\\nTest ROC-AUC score is : {}\".format(roc_auc_score(y_test,grid_knn.predict_proba(X_test_sc)[:,1])))\n",
        "\n",
        "\n",
        "\n",
        "print(\"\\nConfusion matrix for train set : \",\"\\n\",confusion_matrix(y_train,Grid_train_predict))\n",
        "print(\"\\nConfusion matrix for test set : \",\"\\n\",confusion_matrix(y_test,Grid_test_predict))"
      ],
      "execution_count": 69,
      "outputs": [
        {
          "output_type": "stream",
          "text": [
            "Train Accuracy is : 0.9987538234960915\n",
            "\n",
            "Test Accuracy is : 0.6933650541897964\n",
            "\n",
            "Train ROC-AUC score is : 0.9999968372809817\n",
            "\n",
            "Test ROC-AUC score is : 0.7493226325902188\n",
            "\n",
            "Confusion matrix for train set :  \n",
            " [[3822    0]\n",
            " [  11 4994]]\n",
            "\n",
            "Confusion matrix for test set :  \n",
            " [[ 954  677]\n",
            " [ 483 1669]]\n"
          ],
          "name": "stdout"
        }
      ]
    },
    {
      "cell_type": "code",
      "metadata": {
        "colab": {
          "base_uri": "https://localhost:8080/"
        },
        "id": "oOFNSvlhCgzN",
        "outputId": "0bb483c3-ed97-426e-fe9a-f9e2d16a98bc"
      },
      "source": [
        "print('Classification report Train set :')\n",
        "print(classification_report(y_train,Grid_train_predict))"
      ],
      "execution_count": 70,
      "outputs": [
        {
          "output_type": "stream",
          "text": [
            "Classification report Train set :\n",
            "              precision    recall  f1-score   support\n",
            "\n",
            "           0       1.00      1.00      1.00      3822\n",
            "           1       1.00      1.00      1.00      5005\n",
            "\n",
            "    accuracy                           1.00      8827\n",
            "   macro avg       1.00      1.00      1.00      8827\n",
            "weighted avg       1.00      1.00      1.00      8827\n",
            "\n"
          ],
          "name": "stdout"
        }
      ]
    },
    {
      "cell_type": "code",
      "metadata": {
        "colab": {
          "base_uri": "https://localhost:8080/"
        },
        "id": "Nu2mifhACi_Q",
        "outputId": "4beb2c85-3fe5-43f1-ee9b-fb012772f6d5"
      },
      "source": [
        "print('Classification report Test set :')\n",
        "print(classification_report(y_test,Grid_test_predict))"
      ],
      "execution_count": 71,
      "outputs": [
        {
          "output_type": "stream",
          "text": [
            "Classification report Test set :\n",
            "              precision    recall  f1-score   support\n",
            "\n",
            "           0       0.66      0.58      0.62      1631\n",
            "           1       0.71      0.78      0.74      2152\n",
            "\n",
            "    accuracy                           0.69      3783\n",
            "   macro avg       0.69      0.68      0.68      3783\n",
            "weighted avg       0.69      0.69      0.69      3783\n",
            "\n"
          ],
          "name": "stdout"
        }
      ]
    },
    {
      "cell_type": "code",
      "metadata": {
        "id": "XTe3Fwnqje6B"
      },
      "source": [
        "from sklearn.metrics import recall_score\n",
        "from sklearn.metrics import precision_score\n",
        "from sklearn.metrics import f1_score\n",
        "\n",
        "#LR Test performance metrics\n",
        "Knn_test_recall=recall_score(y_test, Grid_test_predict,average='macro')\n",
        "Knn_test_precision=precision_score(y_test, Grid_test_predict,average='macro')\n",
        "Knn_test_f1=f1_score(y_test, Grid_test_predict,average='macro')\n",
        "Knn_test_accuracy=accuracy_score(y_test, Grid_test_predict)"
      ],
      "execution_count": 72,
      "outputs": []
    },
    {
      "cell_type": "code",
      "metadata": {
        "colab": {
          "base_uri": "https://localhost:8080/",
          "height": 301
        },
        "id": "BQWRKz2FqGFt",
        "outputId": "fc3d925b-dc4c-4f18-f212-81eadef18ce9"
      },
      "source": [
        "# AUC and ROC for the test data\n",
        "print('AUC and ROC Test')\n",
        "# predict probabilities\n",
        "probs = knn.predict_proba(X_test_sc)\n",
        "# keep probabilities for the positive outcome only\n",
        "probs = probs[:, 1]\n",
        "# calculate AUC\n",
        "from sklearn.metrics import roc_auc_score\n",
        "knn_test_auc = roc_auc_score(y_test, probs)\n",
        "print('AUC: %.3f' % knn_test_auc)\n",
        "# calculate roc curve\n",
        "from sklearn.metrics import roc_curve\n",
        "knn_test_fpr, knn_test_tpr, thresholds = roc_curve(y_test, probs)\n",
        "plt.plot([0, 1], [0, 1], linestyle='--')\n",
        "# plot the roc curve for the model\n",
        "plt.plot(knn_test_fpr, knn_test_tpr, marker='.')\n",
        "# show the plot\n",
        "plt.show()"
      ],
      "execution_count": 73,
      "outputs": [
        {
          "output_type": "stream",
          "text": [
            "AUC and ROC Test\n",
            "AUC: 0.703\n"
          ],
          "name": "stdout"
        },
        {
          "output_type": "display_data",
          "data": {
            "image/png": "[encoded data removed]",
            "text/plain": [
              "<Figure size 432x288 with 1 Axes>"
            ]
          },
          "metadata": {
            "tags": [],
            "needs_background": "light"
          }
        }
      ]
    },
    {
      "cell_type": "markdown",
      "metadata": {
        "id": "46lRH-8YCl9m"
      },
      "source": [
        "#### Logistic Regression"
      ]
    },
    {
      "cell_type": "code",
      "metadata": {
        "id": "4Xcs-fccCk8v"
      },
      "source": [
        "from sklearn.linear_model import LogisticRegression\n"
      ],
      "execution_count": 74,
      "outputs": []
    },
    {
      "cell_type": "code",
      "metadata": {
        "id": "p6miMCg3DtBb"
      },
      "source": [
        "LR = LogisticRegression(solver='newton-cg',penalty='none')\n"
      ],
      "execution_count": 75,
      "outputs": []
    },
    {
      "cell_type": "code",
      "metadata": {
        "id": "Esdt2DIeVCIY"
      },
      "source": [
        "LR.fit(X_train_sc,y_train)\n",
        "\n",
        "ytest_predict= LR.predict(X_test_sc)"
      ],
      "execution_count": 76,
      "outputs": []
    },
    {
      "cell_type": "markdown",
      "metadata": {
        "id": "9CXohmctXF6Z"
      },
      "source": [
        "Model Comparison"
      ]
    },
    {
      "cell_type": "code",
      "metadata": {
        "id": "LtbD1hPiW8vP"
      },
      "source": [
        "from sklearn import metrics\n",
        "import matplotlib.pyplot as plt"
      ],
      "execution_count": 77,
      "outputs": []
    },
    {
      "cell_type": "code",
      "metadata": {
        "id": "Fu5SVJ40g-dk"
      },
      "source": [
        "from sklearn.metrics import recall_score\n",
        "from sklearn.metrics import precision_score\n",
        "from sklearn.metrics import f1_score\n",
        "\n",
        "#LR Test performance metrics\n",
        "LR_test_recall=recall_score(y_test, ytest_predict,average='macro')\n",
        "LR_test_precision=precision_score(y_test, ytest_predict,average='macro')\n",
        "LR_test_f1=f1_score(y_test, ytest_predict,average='macro')\n",
        "LR_test_accuracy=accuracy_score(y_test, ytest_predict)"
      ],
      "execution_count": 78,
      "outputs": []
    },
    {
      "cell_type": "code",
      "metadata": {
        "colab": {
          "base_uri": "https://localhost:8080/"
        },
        "id": "iW1KKpjvXJdA",
        "outputId": "33cbb1db-6de2-4ad5-d304-b1f181a48e22"
      },
      "source": [
        "print(metrics.confusion_matrix(y_test, ytest_predict))"
      ],
      "execution_count": 79,
      "outputs": [
        {
          "output_type": "stream",
          "text": [
            "[[ 929  702]\n",
            " [ 480 1672]]\n"
          ],
          "name": "stdout"
        }
      ]
    },
    {
      "cell_type": "code",
      "metadata": {
        "colab": {
          "base_uri": "https://localhost:8080/"
        },
        "id": "FUt9VVdYXcX8",
        "outputId": "718e0eaa-751e-43f6-e24e-0bd0157c94fa"
      },
      "source": [
        "print('LR Model')\n",
        "tn, fp, fn, tp = metrics.confusion_matrix(y_test, ytest_predict).ravel()\n",
        "print('True Negative:',tn,'\\n''False Positives:' ,fp,'\\n''False Negatives:', fn,'\\n''True Positives:', tp,'\\n\\n')"
      ],
      "execution_count": 80,
      "outputs": [
        {
          "output_type": "stream",
          "text": [
            "LR Model\n",
            "True Negative: 929 \n",
            "False Positives: 702 \n",
            "False Negatives: 480 \n",
            "True Positives: 1672 \n",
            "\n",
            "\n"
          ],
          "name": "stdout"
        }
      ]
    },
    {
      "cell_type": "code",
      "metadata": {
        "colab": {
          "base_uri": "https://localhost:8080/"
        },
        "id": "Uix_SgYmX8sp",
        "outputId": "4b21cb59-2327-473c-d686-2fc89c81dcc3"
      },
      "source": [
        "print('LR Model')\n",
        "print(metrics.classification_report(y_test, ytest_predict),'\\n')\n"
      ],
      "execution_count": 81,
      "outputs": [
        {
          "output_type": "stream",
          "text": [
            "LR Model\n",
            "              precision    recall  f1-score   support\n",
            "\n",
            "           0       0.66      0.57      0.61      1631\n",
            "           1       0.70      0.78      0.74      2152\n",
            "\n",
            "    accuracy                           0.69      3783\n",
            "   macro avg       0.68      0.67      0.68      3783\n",
            "weighted avg       0.68      0.69      0.68      3783\n",
            " \n",
            "\n"
          ],
          "name": "stdout"
        }
      ]
    },
    {
      "cell_type": "code",
      "metadata": {
        "colab": {
          "base_uri": "https://localhost:8080/",
          "height": 301
        },
        "id": "xjQPJ59NYMFP",
        "outputId": "34f919f6-654a-4a62-8c06-c493580b298a"
      },
      "source": [
        "# AUC and ROC for the test data\n",
        "print('AUC and ROC Test')\n",
        "# predict probabilities\n",
        "probs = LR.predict_proba(X_test_sc)\n",
        "# keep probabilities for the positive outcome only\n",
        "probs = probs[:, 1]\n",
        "# calculate AUC\n",
        "from sklearn.metrics import roc_auc_score\n",
        "LR_test_auc = roc_auc_score(y_test, probs)\n",
        "print('AUC: %.3f' % LR_test_auc)\n",
        "# calculate roc curve\n",
        "from sklearn.metrics import roc_curve\n",
        "LR_test_fpr, LR_test_tpr, thresholds = roc_curve(y_test, probs)\n",
        "plt.plot([0, 1], [0, 1], linestyle='--')\n",
        "# plot the roc curve for the model\n",
        "plt.plot(LR_test_fpr, LR_test_tpr, marker='.')\n",
        "# show the plot\n",
        "plt.show()\n"
      ],
      "execution_count": 82,
      "outputs": [
        {
          "output_type": "stream",
          "text": [
            "AUC and ROC Test\n",
            "AUC: 0.735\n"
          ],
          "name": "stdout"
        },
        {
          "output_type": "display_data",
          "data": {
            "image/png": "[encoded data removed]",
            "text/plain": [
              "<Figure size 432x288 with 1 Axes>"
            ]
          },
          "metadata": {
            "tags": [],
            "needs_background": "light"
          }
        }
      ]
    },
    {
      "cell_type": "markdown",
      "metadata": {
        "id": "q-AE3P_yYoz6"
      },
      "source": [
        "Random Forest"
      ]
    },
    {
      "cell_type": "code",
      "metadata": {
        "id": "6tvwpysLYoF-"
      },
      "source": [
        "from sklearn.ensemble import RandomForestClassifier\n",
        "rfcl = RandomForestClassifier(n_estimators = 501)\n",
        "rfcl = rfcl.fit(X_train,y_train)"
      ],
      "execution_count": 83,
      "outputs": []
    },
    {
      "cell_type": "code",
      "metadata": {
        "id": "kBb_itAAYgNh"
      },
      "source": [
        "param_grid = {\n",
        "    'max_depth': [7, 10],\n",
        "    'max_features': [4, 6],\n",
        "    'min_samples_leaf': [50, 100],\n",
        "    'min_samples_split': [150, 300],\n",
        "    'n_estimators': [301, 501]\n",
        "}\n",
        "\n",
        "rfcl = RandomForestClassifier()\n",
        "\n",
        "grid_search2= GridSearchCV(estimator = rfcl, param_grid = param_grid, cv = 5,n_jobs=-1,verbose=1)"
      ],
      "execution_count": 84,
      "outputs": []
    },
    {
      "cell_type": "code",
      "metadata": {
        "colab": {
          "base_uri": "https://localhost:8080/"
        },
        "id": "hXK2XC0JZxIX",
        "outputId": "dc00b48b-d1ad-439a-a62b-c95168759059"
      },
      "source": [
        "grid_search2.fit(X_train,y_train)"
      ],
      "execution_count": 85,
      "outputs": [
        {
          "output_type": "stream",
          "text": [
            "Fitting 5 folds for each of 32 candidates, totalling 160 fits\n"
          ],
          "name": "stdout"
        },
        {
          "output_type": "stream",
          "text": [
            "[Parallel(n_jobs=-1)]: Using backend LokyBackend with 2 concurrent workers.\n",
            "[Parallel(n_jobs=-1)]: Done  46 tasks      | elapsed:   42.4s\n",
            "[Parallel(n_jobs=-1)]: Done 160 out of 160 | elapsed:  2.5min finished\n"
          ],
          "name": "stderr"
        },
        {
          "output_type": "execute_result",
          "data": {
            "text/plain": [
              "GridSearchCV(cv=5, error_score=nan,\n",
              "             estimator=RandomForestClassifier(bootstrap=True, ccp_alpha=0.0,\n",
              "                                              class_weight=None,\n",
              "                                              criterion='gini', max_depth=None,\n",
              "                                              max_features='auto',\n",
              "                                              max_leaf_nodes=None,\n",
              "                                              max_samples=None,\n",
              "                                              min_impurity_decrease=0.0,\n",
              "                                              min_impurity_split=None,\n",
              "                                              min_samples_leaf=1,\n",
              "                                              min_samples_split=2,\n",
              "                                              min_weight_fraction_leaf=0.0,\n",
              "                                              n_estimators=100, n_jobs=None,\n",
              "                                              oob_score=False,\n",
              "                                              random_state=None, verbose=0,\n",
              "                                              warm_start=False),\n",
              "             iid='deprecated', n_jobs=-1,\n",
              "             param_grid={'max_depth': [7, 10], 'max_features': [4, 6],\n",
              "                         'min_samples_leaf': [50, 100],\n",
              "                         'min_samples_split': [150, 300],\n",
              "                         'n_estimators': [301, 501]},\n",
              "             pre_dispatch='2*n_jobs', refit=True, return_train_score=False,\n",
              "             scoring=None, verbose=1)"
            ]
          },
          "metadata": {
            "tags": []
          },
          "execution_count": 85
        }
      ]
    },
    {
      "cell_type": "code",
      "metadata": {
        "colab": {
          "base_uri": "https://localhost:8080/"
        },
        "id": "6HAQ_7onZzfk",
        "outputId": "e00286d5-0d38-4814-b5fb-19908659bf5f"
      },
      "source": [
        "grid_search2.best_params_"
      ],
      "execution_count": 86,
      "outputs": [
        {
          "output_type": "execute_result",
          "data": {
            "text/plain": [
              "{'max_depth': 10,\n",
              " 'max_features': 6,\n",
              " 'min_samples_leaf': 50,\n",
              " 'min_samples_split': 150,\n",
              " 'n_estimators': 301}"
            ]
          },
          "metadata": {
            "tags": []
          },
          "execution_count": 86
        }
      ]
    },
    {
      "cell_type": "code",
      "metadata": {
        "id": "oiHwQXznZ5SE"
      },
      "source": [
        "rfcl_model = RandomForestClassifier(max_depth= 10,min_samples_leaf=50,min_samples_split=150,max_features=6,n_estimators=301)\n",
        "rfcl_model.fit(X_train,y_train)\n",
        "ytrain_predict = rfcl_model.predict(X_train)\n",
        "ytest_predict= rfcl_model.predict(X_test)"
      ],
      "execution_count": 87,
      "outputs": []
    },
    {
      "cell_type": "code",
      "metadata": {
        "colab": {
          "base_uri": "https://localhost:8080/"
        },
        "id": "r__zKTjjaAJ5",
        "outputId": "5b1d628a-5fee-40a0-e5a6-475054b3b12a"
      },
      "source": [
        "## Accuracy score train and test)\n",
        "print(rfcl_model.score(X_test,y_test))\n",
        "print(rfcl_model.score(X_train,y_train))"
      ],
      "execution_count": 88,
      "outputs": [
        {
          "output_type": "stream",
          "text": [
            "0.7044673539518901\n",
            "0.7137192704203014\n"
          ],
          "name": "stdout"
        }
      ]
    },
    {
      "cell_type": "code",
      "metadata": {
        "colab": {
          "base_uri": "https://localhost:8080/"
        },
        "id": "W9gZg8LwaJ2a",
        "outputId": "5bd32417-3707-4f96-a55a-e5f94b75fda4"
      },
      "source": [
        "## Confusion Matrix\n",
        "print(metrics.confusion_matrix(y_test, ytest_predict))\n",
        "print(metrics.confusion_matrix(y_train, ytrain_predict))"
      ],
      "execution_count": 89,
      "outputs": [
        {
          "output_type": "stream",
          "text": [
            "[[ 864  767]\n",
            " [ 351 1801]]\n",
            "[[2099 1723]\n",
            " [ 804 4201]]\n"
          ],
          "name": "stdout"
        }
      ]
    },
    {
      "cell_type": "code",
      "metadata": {
        "colab": {
          "base_uri": "https://localhost:8080/"
        },
        "id": "xDwNMjs0aK0o",
        "outputId": "2366de2d-7de3-4a18-c80d-fc583bd45766"
      },
      "source": [
        "## Classificationn report train\n",
        "print(metrics.classification_report(y_train, ytrain_predict))"
      ],
      "execution_count": 90,
      "outputs": [
        {
          "output_type": "stream",
          "text": [
            "              precision    recall  f1-score   support\n",
            "\n",
            "           0       0.72      0.55      0.62      3822\n",
            "           1       0.71      0.84      0.77      5005\n",
            "\n",
            "    accuracy                           0.71      8827\n",
            "   macro avg       0.72      0.69      0.70      8827\n",
            "weighted avg       0.72      0.71      0.71      8827\n",
            "\n"
          ],
          "name": "stdout"
        }
      ]
    },
    {
      "cell_type": "code",
      "metadata": {
        "colab": {
          "base_uri": "https://localhost:8080/"
        },
        "id": "efnWMI2AahGG",
        "outputId": "085aa11f-640b-4f86-9eee-41694fffe010"
      },
      "source": [
        "## Classification report test\n",
        "print(metrics.classification_report(y_test, ytest_predict))"
      ],
      "execution_count": 91,
      "outputs": [
        {
          "output_type": "stream",
          "text": [
            "              precision    recall  f1-score   support\n",
            "\n",
            "           0       0.71      0.53      0.61      1631\n",
            "           1       0.70      0.84      0.76      2152\n",
            "\n",
            "    accuracy                           0.70      3783\n",
            "   macro avg       0.71      0.68      0.69      3783\n",
            "weighted avg       0.71      0.70      0.70      3783\n",
            "\n"
          ],
          "name": "stdout"
        }
      ]
    },
    {
      "cell_type": "code",
      "metadata": {
        "id": "IKlH1JEfamzE"
      },
      "source": [
        "#RNN train perormance metrics\n",
        "from sklearn.metrics import recall_score\n",
        "from sklearn.metrics import precision_score\n",
        "from sklearn.metrics import f1_score\n",
        "rnn_train_precision=precision_score(y_train, ytrain_predict,average='macro')\n",
        "rnn_train_recall=recall_score(y_train, ytrain_predict,average='macro')\n",
        "rnn_train_f1=f1_score(y_train, ytrain_predict,average='macro')\n",
        "rnn_train_accuracy=accuracy_score(y_train, ytrain_predict)\n",
        "#RNN Test performance metrics\n",
        "rnn_test_recall=recall_score(y_test, ytest_predict,average='macro')\n",
        "rnn_test_precision=precision_score(y_test, ytest_predict,average='macro')\n",
        "rnn_test_f1=f1_score(y_test, ytest_predict,average='macro')\n",
        "rnn_test_accuracy=accuracy_score(y_test, ytest_predict)"
      ],
      "execution_count": 92,
      "outputs": []
    },
    {
      "cell_type": "code",
      "metadata": {
        "colab": {
          "base_uri": "https://localhost:8080/",
          "height": 301
        },
        "id": "OtRZA1EzbLxM",
        "outputId": "7d35f29a-6ce4-4da7-bc61-f4b39db3ad78"
      },
      "source": [
        "# AUC and ROC for the test data\n",
        "print('AUC and ROC Test')\n",
        "# predict probabilities\n",
        "probs = rfcl_model.predict_proba(X_test)\n",
        "# keep probabilities for the positive outcome only\n",
        "probs = probs[:, 1]\n",
        "# calculate AUC\n",
        "from sklearn.metrics import roc_auc_score\n",
        "rnn_test_auc = roc_auc_score(y_test, probs)\n",
        "print('AUC: %.3f' % rnn_test_auc)\n",
        "# calculate roc curve\n",
        "from sklearn.metrics import roc_curve\n",
        "rnn_test_fpr, rnn_test_tpr, thresholds = roc_curve(y_test, probs)\n",
        "plt.plot([0, 1], [0, 1], linestyle='--')\n",
        "# plot the roc curve for the model\n",
        "plt.plot(rnn_test_fpr, rnn_test_tpr, marker='.')\n",
        "# show the plot\n",
        "plt.show()"
      ],
      "execution_count": 93,
      "outputs": [
        {
          "output_type": "stream",
          "text": [
            "AUC and ROC Test\n",
            "AUC: 0.762\n"
          ],
          "name": "stdout"
        },
        {
          "output_type": "display_data",
          "data": {
            "image/png": "[encoded data removed]",
            "text/plain": [
              "<Figure size 432x288 with 1 Axes>"
            ]
          },
          "metadata": {
            "tags": [],
            "needs_background": "light"
          }
        }
      ]
    },
    {
      "cell_type": "markdown",
      "metadata": {
        "id": "WEVMQAaKcQ1W"
      },
      "source": [
        "**MODEL COMPARISOM**"
      ]
    },
    {
      "cell_type": "code",
      "metadata": {
        "colab": {
          "base_uri": "https://localhost:8080/"
        },
        "id": "z-n05WSnew24",
        "outputId": "9238bbfe-bfd4-42cd-a127-645f1d185961"
      },
      "source": [
        "models=[knn,LR,rfcl_model]\n",
        "models_names={knn:'KNN',LR:'Logistic regression',rfcl_model:'RandomForestClassifier'}\n",
        "for i in range(0, len(models)):\n",
        "    if models[i]==LR:\n",
        "      print('Accuracy Score for Test set for {} is {}'.format(models_names[models[i]],\n",
        "                                                             round(accuracy_score(y_test, models[i].predict(X_test_sc)),2))  )\n",
        "    elif models[i]==knn:\n",
        "      print('Accuracy Score for Test set for {} is {}'.format(models_names[models[i]],\n",
        "                                                             round(accuracy_score(y_test, models[i].predict(X_test_sc)),2))  )\n",
        "    else:\n",
        "      print('Accuracy Score for Test set for {} is {}'.format(models_names[models[i]],\n",
        "                                                             round(accuracy_score(y_test, models[i].predict(X_test)),2))  ) "
      ],
      "execution_count": 94,
      "outputs": [
        {
          "output_type": "stream",
          "text": [
            "Accuracy Score for Test set for KNN is 0.66\n",
            "Accuracy Score for Test set for Logistic regression is 0.69\n",
            "Accuracy Score for Test set for RandomForestClassifier is 0.7\n"
          ],
          "name": "stdout"
        }
      ]
    },
    {
      "cell_type": "code",
      "metadata": {
        "colab": {
          "base_uri": "https://localhost:8080/",
          "height": 416
        },
        "id": "oNZhEs1ucQe1",
        "outputId": "4d45942c-4fa1-4a18-bfd6-e340f36d5216"
      },
      "source": [
        "print('Confusion Matrix Test')\n",
        "models=[knn,LR,rfcl_model]\n",
        "models_names={knn:'KNN',LR:'Logistic regression',rfcl_model:'RandomForestClassifier'}\n",
        "fig=plt.figure(figsize=(10,10))\n",
        "for i in range(0, len(models)):\n",
        "    ax=fig.add_subplot(2,3,i+1)\n",
        "    if models[i]==LR:\n",
        "      sns.heatmap((metrics.confusion_matrix(y_test,models[i].predict(X_test_sc))),annot=True, fmt='.1f',cbar=False,cmap='YlOrBr')\n",
        "      ax.set_title(models_names[models[i]],color='Red')\n",
        "      plt.ylabel('Actual Value')\n",
        "      plt.xlabel('Predicted Value')\n",
        "    elif models[i]==rfcl_model :\n",
        "      sns.heatmap(confusion_matrix(y_test, models[i].predict(X_test)),annot=True, fmt='.1f',cbar=False,cmap='YlOrBr')\n",
        "      ax.set_title(models_names[models[i]],color='Red')\n",
        "      plt.ylabel('Actual Value')\n",
        "      plt.xlabel('Predicted Value')\n",
        "    else:\n",
        "      sns.heatmap(confusion_matrix(y_test, models[i].predict(X_test_sc)),annot=True, fmt='.1f',cbar=False,cmap='YlOrBr')\n",
        "      ax.set_title(models_names[models[i]],color='Red')\n",
        "      plt.ylabel('Actual Value')\n",
        "      plt.xlabel('Predicted Value')\n",
        "        \n",
        "    #plt.title('Confusion Matrix for Predictions on Test set')\n",
        "plt.tight_layout()"
      ],
      "execution_count": 95,
      "outputs": [
        {
          "output_type": "stream",
          "text": [
            "Confusion Matrix Test\n"
          ],
          "name": "stdout"
        },
        {
          "output_type": "display_data",
          "data": {
            "image/png": "[encoded data removed]",
            "text/plain": [
              "<Figure size 720x720 with 3 Axes>"
            ]
          },
          "metadata": {
            "tags": [],
            "needs_background": "light"
          }
        }
      ]
    },
    {
      "cell_type": "code",
      "metadata": {
        "colab": {
          "base_uri": "https://localhost:8080/",
          "height": 198
        },
        "id": "syzhgnJ3bQtv",
        "outputId": "247fd68d-612f-49ec-cf67-171f9730a0bb"
      },
      "source": [
        "index=['Accuracy','AUC','Precision','Recall','F1 Score']\n",
        "data=pd.DataFrame({'LRTest':[LR_test_accuracy,LR_test_auc,LR_test_precision,LR_test_recall,LR_test_f1],\n",
        "                  'RNN Test':[rnn_test_accuracy,rnn_test_auc,rnn_test_precision,rnn_test_recall,rnn_test_f1],\n",
        "                  'KNN Test':[Knn_test_accuracy,knn_test_auc,Knn_test_precision,Knn_test_recall,Knn_test_f1]},index=index)\n",
        "round(data,2)"
      ],
      "execution_count": 96,
      "outputs": [
        {
          "output_type": "execute_result",
          "data": {
            "text/html": [
              "<div>\n",
              "<style scoped>\n",
              "    .dataframe tbody tr th:only-of-type {\n",
              "        vertical-align: middle;\n",
              "    }\n",
              "\n",
              "    .dataframe tbody tr th {\n",
              "        vertical-align: top;\n",
              "    }\n",
              "\n",
              "    .dataframe thead th {\n",
              "        text-align: right;\n",
              "    }\n",
              "</style>\n",
              "<table border=\"1\" class=\"dataframe\">\n",
              "  <thead>\n",
              "    <tr style=\"text-align: right;\">\n",
              "      <th></th>\n",
              "      <th>LRTest</th>\n",
              "      <th>RNN Test</th>\n",
              "      <th>KNN Test</th>\n",
              "    </tr>\n",
              "  </thead>\n",
              "  <tbody>\n",
              "    <tr>\n",
              "      <th>Accuracy</th>\n",
              "      <td>0.69</td>\n",
              "      <td>0.70</td>\n",
              "      <td>0.69</td>\n",
              "    </tr>\n",
              "    <tr>\n",
              "      <th>AUC</th>\n",
              "      <td>0.73</td>\n",
              "      <td>0.76</td>\n",
              "      <td>0.70</td>\n",
              "    </tr>\n",
              "    <tr>\n",
              "      <th>Precision</th>\n",
              "      <td>0.68</td>\n",
              "      <td>0.71</td>\n",
              "      <td>0.69</td>\n",
              "    </tr>\n",
              "    <tr>\n",
              "      <th>Recall</th>\n",
              "      <td>0.67</td>\n",
              "      <td>0.68</td>\n",
              "      <td>0.68</td>\n",
              "    </tr>\n",
              "    <tr>\n",
              "      <th>F1 Score</th>\n",
              "      <td>0.68</td>\n",
              "      <td>0.69</td>\n",
              "      <td>0.68</td>\n",
              "    </tr>\n",
              "  </tbody>\n",
              "</table>\n",
              "</div>"
            ],
            "text/plain": [
              "           LRTest  RNN Test  KNN Test\n",
              "Accuracy     0.69      0.70      0.69\n",
              "AUC          0.73      0.76      0.70\n",
              "Precision    0.68      0.71      0.69\n",
              "Recall       0.67      0.68      0.68\n",
              "F1 Score     0.68      0.69      0.68"
            ]
          },
          "metadata": {
            "tags": []
          },
          "execution_count": 96
        }
      ]
    },
    {
      "cell_type": "code",
      "metadata": {
        "colab": {
          "base_uri": "https://localhost:8080/",
          "height": 331
        },
        "id": "PizzdwJHkJlL",
        "outputId": "f1d98e6a-c8ed-46c7-fee1-a644c3cd88cc"
      },
      "source": [
        "print('AUC and ROC Test')\n",
        "plt.plot([0,1],[0,1],linestyle='--')\n",
        "plt.plot(knn_test_fpr,knn_test_tpr,color='red',label='KNN')\n",
        "plt.plot(rnn_test_fpr,rnn_test_tpr,color='blue',label='RF')\n",
        "plt.plot(LR_test_fpr,LR_test_tpr,color='green',label='LR')\n",
        "plt.xlabel('False Positive Rate')\n",
        "plt.ylabel('True Positive Rate')\n",
        "plt.title('ROC')\n",
        "plt.legend(bbox_to_anchor=(0.,1.),loc='best')"
      ],
      "execution_count": 97,
      "outputs": [
        {
          "output_type": "stream",
          "text": [
            "AUC and ROC Test\n"
          ],
          "name": "stdout"
        },
        {
          "output_type": "execute_result",
          "data": {
            "text/plain": [
              "<matplotlib.legend.Legend at 0x7fb1e5d85690>"
            ]
          },
          "metadata": {
            "tags": []
          },
          "execution_count": 97
        },
        {
          "output_type": "display_data",
          "data": {
            "image/png": "[encoded data removed]",
            "text/plain": [
              "<Figure size 432x288 with 1 Axes>"
            ]
          },
          "metadata": {
            "tags": [],
            "needs_background": "light"
          }
        }
      ]
    },
    {
      "cell_type": "code",
      "metadata": {
        "id": "vIZrQNufpzYB"
      },
      "source": [
        ""
      ],
      "execution_count": 97,
      "outputs": []
    }
  ]
}